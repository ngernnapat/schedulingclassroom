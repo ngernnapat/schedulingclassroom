{
 "cells": [
  {
   "cell_type": "markdown",
   "metadata": {},
   "source": [
    "Inputs\n",
    "- level, number of classroom for each level\n",
    "    - teachers\n",
    "    - fix teachers (PE teacher)\n",
    "    - specific class\n",
    "        - homeroom first and last periods\n",
    "        - homeroom classes can have two teachers, so the condition is fixed for the teacher where every teacher has to homerooom so some classes can have two homeroom teacher\n",
    "        - PE teacher or T13 teaches only P4-to-M3"
   ]
  },
  {
   "cell_type": "code",
   "execution_count": 1,
   "metadata": {},
   "outputs": [],
   "source": [
    "from school_scheduler import *\n",
    "from main import *\n",
    "import json"
   ]
  },
  {
   "cell_type": "code",
   "execution_count": 2,
   "metadata": {},
   "outputs": [],
   "source": [
    "n_teachers=13\n",
    "grades=[\"P1\", \"P2\", \"P3\", \"P4\", \"P5\", \"P6\", \"M1\", \"M2\", \"M3\"]\n",
    "pe_teacher=\"T13\"\n",
    "pe_grades=[\"P4\", \"P5\", \"P6\", \"M1\", \"M2\", \"M3\"]\n",
    "pe_day=3  # Wednesday\n",
    "n_pe_periods=6\n",
    "start_hour=8\n",
    "n_hours=8\n",
    "lunch_hour=5\n",
    "days_per_week=5\n"
   ]
  },
  {
   "cell_type": "code",
   "execution_count": 3,
   "metadata": {},
   "outputs": [
    {
     "name": "stdout",
     "output_type": "stream",
     "text": [
      "Solver status: OPTIMAL\n",
      "\n",
      "Complete Schedule (including non-teaching homeroom duties):\n",
      "    Teacher Grade  Day  Hour DayName     TimeSlot IsHomeroom\n",
      "157      T7    M1    1     1     Mon  08:00-09:00         No\n",
      "233     T10    M1    1     2     Mon  09:00-10:00         No\n",
      "260     T11    M1    1     3     Mon  10:00-11:00         No\n",
      "306     T13    M1    1     4     Mon  11:00-12:00         No\n",
      "289     T12    M1    1     6     Mon  13:00-14:00         No\n",
      "..      ...   ...  ...   ...     ...          ...        ...\n",
      "305     T13    P6    5     3     Fri  10:00-11:00         No\n",
      "259     T11    P6    5     4     Fri  11:00-12:00         No\n",
      "12       T1    P6    5     6     Fri  13:00-14:00         No\n",
      "156      T7    P6    5     7     Fri  14:00-15:00         No\n",
      "109      T5    P6    5     8     Fri  15:00-16:00        Yes\n",
      "\n",
      "[325 rows x 7 columns]\n",
      "Figure({\n",
      "    'data': [{'colorscale': [[0.0, 'white'], [0.1, 'lightblue'], [0.2, 'skyblue'],\n",
      "                             [0.3, 'dodgerblue'], [0.4, 'steelblue'], [0.5,\n",
      "                             'deepskyblue'], [0.6, 'cornflowerblue'], [0.7,\n",
      "                             'lightpink'], [0.8, 'salmon'], [0.9, 'tomato'], [1.0,\n",
      "                             'orangered']],\n",
      "              'hoverinfo': 'text',\n",
      "              'showscale': False,\n",
      "              'text': [['', 'P3', '', 'P5', '', 'P1', 'M1', 'M2\\n(T1)'],\n",
      "                       ['M2\\n(T1)', 'M3', '', 'P2', '', 'M1', 'P2', 'M2\\n(T1,\n",
      "                       T4)'], ['', 'P1', 'M3', '', '', 'P1', 'M2', 'M2\\n(T1, T4)'],\n",
      "                       ['', 'P3', '', 'P6', '', '', '', 'M2\\n(T1, T4)'],\n",
      "                       ['P5\\n(T1)', 'P1', '', 'P5', '', 'P6', '', 'M2\\n(T1, T4)']],\n",
      "              'textfont': {'size': 10},\n",
      "              'texttemplate': '%{text}',\n",
      "              'type': 'heatmap',\n",
      "              'visible': True,\n",
      "              'x': array(['08:00-09:00', '09:00-10:00', '10:00-11:00', '11:00-12:00',\n",
      "                          '12:00-13:00', '13:00-14:00', '14:00-15:00', '15:00-16:00'],\n",
      "                         dtype=object),\n",
      "              'y': array(['Mon', 'Tue', 'Wed', 'Thu', 'Fri'], dtype=object),\n",
      "              'z': [[0, 3, 0, 5, 0, 1, 7, 8], [8, 9, 0, 2, 0, 7, 2, 8], [0, 1, 9,\n",
      "                    0, 0, 1, 8, 8], [0, 3, 0, 6, 0, 0, 0, 8], [5, 1, 0, 5, 0, 6, 0,\n",
      "                    8]],\n",
      "              'zmax': 9,\n",
      "              'zmin': 0},\n",
      "             {'colorscale': [[0.0, 'white'], [0.1, 'lightblue'], [0.2, 'skyblue'],\n",
      "                             [0.3, 'dodgerblue'], [0.4, 'steelblue'], [0.5,\n",
      "                             'deepskyblue'], [0.6, 'cornflowerblue'], [0.7,\n",
      "                             'lightpink'], [0.8, 'salmon'], [0.9, 'tomato'], [1.0,\n",
      "                             'orangered']],\n",
      "              'hoverinfo': 'text',\n",
      "              'showscale': False,\n",
      "              'text': [['P3\\n(T10)', 'M1', '', 'P2', '', 'P2', 'P3', 'M1\\n(T10)'],\n",
      "                       ['P5\\n(T10)', 'M1', '', 'P3', '', 'M3', '', 'M1\\n(T10)'],\n",
      "                       ['M3\\n(T10)', 'P4', 'P5', 'P1', '', 'M1', 'P3',\n",
      "                       'M1\\n(T10)'], ['', 'P6', 'P2', 'M1', '', 'P1', 'P5',\n",
      "                       'M1\\n(T10)'], ['P2\\n(T10)', 'P3', 'M3', 'P2', '', '', '',\n",
      "                       'M1\\n(T10)']],\n",
      "              'textfont': {'size': 10},\n",
      "              'texttemplate': '%{text}',\n",
      "              'type': 'heatmap',\n",
      "              'visible': False,\n",
      "              'x': array(['08:00-09:00', '09:00-10:00', '10:00-11:00', '11:00-12:00',\n",
      "                          '12:00-13:00', '13:00-14:00', '14:00-15:00', '15:00-16:00'],\n",
      "                         dtype=object),\n",
      "              'y': array(['Mon', 'Tue', 'Wed', 'Thu', 'Fri'], dtype=object),\n",
      "              'z': [[3, 7, 0, 2, 0, 2, 3, 7], [5, 7, 0, 3, 0, 9, 0, 7], [9, 4, 5,\n",
      "                    1, 0, 7, 3, 7], [0, 6, 2, 7, 0, 1, 5, 7], [2, 3, 9, 2, 0, 0, 0,\n",
      "                    7]],\n",
      "              'zmax': 9,\n",
      "              'zmin': 0},\n",
      "             {'colorscale': [[0.0, 'white'], [0.1, 'lightblue'], [0.2, 'skyblue'],\n",
      "                             [0.3, 'dodgerblue'], [0.4, 'steelblue'], [0.5,\n",
      "                             'deepskyblue'], [0.6, 'cornflowerblue'], [0.7,\n",
      "                             'lightpink'], [0.8, 'salmon'], [0.9, 'tomato'], [1.0,\n",
      "                             'orangered']],\n",
      "              'hoverinfo': 'text',\n",
      "              'showscale': False,\n",
      "              'text': [['M2\\n(T11)', 'P1', 'M1', '', '', '', 'P1', 'P5\\n(T11)'],\n",
      "                       ['', 'P4', 'P3', 'M1', '', 'M2', 'P5', 'P5\\n(T11, T12)'],\n",
      "                       ['M1\\n(T11)', 'P2', 'P4', 'M3', '', 'M2', '', 'P5\\n(T11)'],\n",
      "                       ['P5\\n(T11)', 'P2', '', 'P1', '', 'M2', 'M1', 'P5\\n(T11)'],\n",
      "                       ['M1\\n(T11)', 'M3', 'M2', 'P6', '', '', '', 'P5\\n(T11)']],\n",
      "              'textfont': {'size': 10},\n",
      "              'texttemplate': '%{text}',\n",
      "              'type': 'heatmap',\n",
      "              'visible': False,\n",
      "              'x': array(['08:00-09:00', '09:00-10:00', '10:00-11:00', '11:00-12:00',\n",
      "                          '12:00-13:00', '13:00-14:00', '14:00-15:00', '15:00-16:00'],\n",
      "                         dtype=object),\n",
      "              'y': array(['Mon', 'Tue', 'Wed', 'Thu', 'Fri'], dtype=object),\n",
      "              'z': [[8, 1, 7, 0, 0, 0, 1, 5], [0, 4, 3, 7, 0, 8, 5, 5], [7, 2, 4,\n",
      "                    9, 0, 8, 0, 5], [5, 2, 0, 1, 0, 8, 7, 5], [7, 9, 8, 6, 0, 0, 0,\n",
      "                    5]],\n",
      "              'zmax': 9,\n",
      "              'zmin': 0},\n",
      "             {'colorscale': [[0.0, 'white'], [0.1, 'lightblue'], [0.2, 'skyblue'],\n",
      "                             [0.3, 'dodgerblue'], [0.4, 'steelblue'], [0.5,\n",
      "                             'deepskyblue'], [0.6, 'cornflowerblue'], [0.7,\n",
      "                             'lightpink'], [0.8, 'salmon'], [0.9, 'tomato'], [1.0,\n",
      "                             'orangered']],\n",
      "              'hoverinfo': 'text',\n",
      "              'showscale': False,\n",
      "              'text': [['P2\\n(T12)', 'P5', 'P1', '', '', 'M1', 'P6', 'P5\\n(T11,\n",
      "                       T12)'], ['', '', 'P2', '', '', 'P3', 'M1', 'P5\\n(T12)'],\n",
      "                       ['', 'P3', 'P1', '', '', '', 'P6', 'P5\\n(T11, T12)'],\n",
      "                       ['P4\\n(T12)', 'M3', 'P1', '', '', 'P4', '', 'P5\\n(T11,\n",
      "                       T12)'], ['', 'P2', 'P1', '', '', 'P3', 'P5', 'P5\\n(T11,\n",
      "                       T12)']],\n",
      "              'textfont': {'size': 10},\n",
      "              'texttemplate': '%{text}',\n",
      "              'type': 'heatmap',\n",
      "              'visible': False,\n",
      "              'x': array(['08:00-09:00', '09:00-10:00', '10:00-11:00', '11:00-12:00',\n",
      "                          '12:00-13:00', '13:00-14:00', '14:00-15:00', '15:00-16:00'],\n",
      "                         dtype=object),\n",
      "              'y': array(['Mon', 'Tue', 'Wed', 'Thu', 'Fri'], dtype=object),\n",
      "              'z': [[2, 5, 1, 0, 0, 7, 6, 5], [0, 0, 2, 0, 0, 3, 7, 5], [0, 3, 1,\n",
      "                    0, 0, 0, 6, 5], [4, 9, 1, 0, 0, 4, 0, 5], [0, 2, 1, 0, 0, 3, 5,\n",
      "                    5]],\n",
      "              'zmax': 9,\n",
      "              'zmin': 0},\n",
      "             {'colorscale': [[0.0, 'white'], [0.1, 'lightblue'], [0.2, 'skyblue'],\n",
      "                             [0.3, 'dodgerblue'], [0.4, 'steelblue'], [0.5,\n",
      "                             'deepskyblue'], [0.6, 'cornflowerblue'], [0.7,\n",
      "                             'lightpink'], [0.8, 'salmon'], [0.9, 'tomato'], [1.0,\n",
      "                             'orangered']],\n",
      "              'hoverinfo': 'text',\n",
      "              'showscale': False,\n",
      "              'text': [['P1\\n(T13)', '', 'P4', 'M1', '', 'M3', '', ''],\n",
      "                       ['M3\\n(T13)', 'M2', '', 'P1', '', '', '', ''], ['P4\\n(T13)',\n",
      "                       'M3', 'P2', 'P4', '', '', 'M1', ''], ['M1\\n(T13)', 'P1',\n",
      "                       'P5', 'P4', '', 'P2', 'M3', ''], ['', 'P5', 'P6', 'M3', '',\n",
      "                       'P5', 'P1', '']],\n",
      "              'textfont': {'size': 10},\n",
      "              'texttemplate': '%{text}',\n",
      "              'type': 'heatmap',\n",
      "              'visible': False,\n",
      "              'x': array(['08:00-09:00', '09:00-10:00', '10:00-11:00', '11:00-12:00',\n",
      "                          '12:00-13:00', '13:00-14:00', '14:00-15:00', '15:00-16:00'],\n",
      "                         dtype=object),\n",
      "              'y': array(['Mon', 'Tue', 'Wed', 'Thu', 'Fri'], dtype=object),\n",
      "              'z': [[1, 0, 4, 7, 0, 9, 0, 0], [9, 8, 0, 1, 0, 0, 0, 0], [4, 9, 2,\n",
      "                    4, 0, 0, 7, 0], [7, 1, 5, 4, 0, 2, 9, 0], [0, 5, 6, 9, 0, 5, 1,\n",
      "                    0]],\n",
      "              'zmax': 9,\n",
      "              'zmin': 0},\n",
      "             {'colorscale': [[0.0, 'white'], [0.1, 'lightblue'], [0.2, 'skyblue'],\n",
      "                             [0.3, 'dodgerblue'], [0.4, 'steelblue'], [0.5,\n",
      "                             'deepskyblue'], [0.6, 'cornflowerblue'], [0.7,\n",
      "                             'lightpink'], [0.8, 'salmon'], [0.9, 'tomato'], [1.0,\n",
      "                             'orangered']],\n",
      "              'hoverinfo': 'text',\n",
      "              'showscale': False,\n",
      "              'text': [['P5\\n(T2)', 'M3', '', 'P1', '', 'P5', 'M3', 'P3\\n(T2)'],\n",
      "                       ['P4\\n(T2)', 'P3', '', 'P6', '', '', 'P4', 'P3\\n(T2)'],\n",
      "                       ['P6\\n(T2)', '', '', 'P2', '', '', 'M3', 'P3\\n(T2)'],\n",
      "                       ['P6\\n(T2)', '', 'P3', 'M3', '', '', 'P4', 'P3\\n(T2)'],\n",
      "                       ['P6\\n(T2)', '', '', '', '', 'P4', 'P2', 'P3\\n(T2)']],\n",
      "              'textfont': {'size': 10},\n",
      "              'texttemplate': '%{text}',\n",
      "              'type': 'heatmap',\n",
      "              'visible': False,\n",
      "              'x': array(['08:00-09:00', '09:00-10:00', '10:00-11:00', '11:00-12:00',\n",
      "                          '12:00-13:00', '13:00-14:00', '14:00-15:00', '15:00-16:00'],\n",
      "                         dtype=object),\n",
      "              'y': array(['Mon', 'Tue', 'Wed', 'Thu', 'Fri'], dtype=object),\n",
      "              'z': [[5, 9, 0, 1, 0, 5, 9, 3], [4, 3, 0, 6, 0, 0, 4, 3], [6, 0, 0,\n",
      "                    2, 0, 0, 9, 3], [6, 0, 3, 9, 0, 0, 4, 3], [6, 0, 0, 0, 0, 4, 2,\n",
      "                    3]],\n",
      "              'zmax': 9,\n",
      "              'zmin': 0},\n",
      "             {'colorscale': [[0.0, 'white'], [0.1, 'lightblue'], [0.2, 'skyblue'],\n",
      "                             [0.3, 'dodgerblue'], [0.4, 'steelblue'], [0.5,\n",
      "                             'deepskyblue'], [0.6, 'cornflowerblue'], [0.7,\n",
      "                             'lightpink'], [0.8, 'salmon'], [0.9, 'tomato'], [1.0,\n",
      "                             'orangered']],\n",
      "              'hoverinfo': 'text',\n",
      "              'showscale': False,\n",
      "              'text': [['', '', 'P6', 'P3', '', '', 'P2', 'P4\\n(T3)'], ['', 'P5',\n",
      "                       'M1', '', '', 'P2', '', 'P4\\n(T3)'], ['P5\\n(T3)', '', '',\n",
      "                       '', '', 'P4', 'P1', 'P4\\n(T3)'], ['P2\\n(T3)', '', '', 'P3',\n",
      "                       '', 'P5', '', 'P4\\n(T3)'], ['', '', 'P3', '', '', 'M2',\n",
      "                       'M1', 'P4\\n(T3)']],\n",
      "              'textfont': {'size': 10},\n",
      "              'texttemplate': '%{text}',\n",
      "              'type': 'heatmap',\n",
      "              'visible': False,\n",
      "              'x': array(['08:00-09:00', '09:00-10:00', '10:00-11:00', '11:00-12:00',\n",
      "                          '12:00-13:00', '13:00-14:00', '14:00-15:00', '15:00-16:00'],\n",
      "                         dtype=object),\n",
      "              'y': array(['Mon', 'Tue', 'Wed', 'Thu', 'Fri'], dtype=object),\n",
      "              'z': [[0, 0, 6, 3, 0, 0, 2, 4], [0, 5, 7, 0, 0, 2, 0, 4], [5, 0, 0,\n",
      "                    0, 0, 4, 1, 4], [2, 0, 0, 3, 0, 5, 0, 4], [0, 0, 3, 0, 0, 8, 7,\n",
      "                    4]],\n",
      "              'zmax': 9,\n",
      "              'zmin': 0},\n",
      "             {'colorscale': [[0.0, 'white'], [0.1, 'lightblue'], [0.2, 'skyblue'],\n",
      "                             [0.3, 'dodgerblue'], [0.4, 'steelblue'], [0.5,\n",
      "                             'deepskyblue'], [0.6, 'cornflowerblue'], [0.7,\n",
      "                             'lightpink'], [0.8, 'salmon'], [0.9, 'tomato'], [1.0,\n",
      "                             'orangered']],\n",
      "              'hoverinfo': 'text',\n",
      "              'showscale': False,\n",
      "              'text': [['P6\\n(T4)', '', '', 'M3', '', 'P3', 'M2', 'M2\\n(T1, T4)'],\n",
      "                       ['P2\\n(T4)', '', 'M2', 'P5', '', 'P1', 'M3', 'M2\\n(T4)'],\n",
      "                       ['P2\\n(T4)', '', 'M2', 'M1', '', '', 'P5', 'M2\\n(T4)'],\n",
      "                       ['M3\\n(T4)', 'M2', 'P4', 'M2', '', 'P6', 'P1', 'M2\\n(T4)'],\n",
      "                       ['M3\\n(T4)', '', 'P4', 'P1', '', '', 'P4', 'M2\\n(T4)']],\n",
      "              'textfont': {'size': 10},\n",
      "              'texttemplate': '%{text}',\n",
      "              'type': 'heatmap',\n",
      "              'visible': False,\n",
      "              'x': array(['08:00-09:00', '09:00-10:00', '10:00-11:00', '11:00-12:00',\n",
      "                          '12:00-13:00', '13:00-14:00', '14:00-15:00', '15:00-16:00'],\n",
      "                         dtype=object),\n",
      "              'y': array(['Mon', 'Tue', 'Wed', 'Thu', 'Fri'], dtype=object),\n",
      "              'z': [[6, 0, 0, 9, 0, 3, 8, 8], [2, 0, 8, 5, 0, 1, 9, 8], [2, 0, 8,\n",
      "                    7, 0, 0, 5, 8], [9, 8, 4, 8, 0, 6, 1, 8], [9, 0, 4, 1, 0, 0, 4,\n",
      "                    8]],\n",
      "              'zmax': 9,\n",
      "              'zmin': 0},\n",
      "             {'colorscale': [[0.0, 'white'], [0.1, 'lightblue'], [0.2, 'skyblue'],\n",
      "                             [0.3, 'dodgerblue'], [0.4, 'steelblue'], [0.5,\n",
      "                             'deepskyblue'], [0.6, 'cornflowerblue'], [0.7,\n",
      "                             'lightpink'], [0.8, 'salmon'], [0.9, 'tomato'], [1.0,\n",
      "                             'orangered']],\n",
      "              'hoverinfo': 'text',\n",
      "              'showscale': False,\n",
      "              'text': [['', 'P4', 'P2', 'P4', '', 'P4', '', 'P6\\n(T5)'],\n",
      "                       ['P6\\n(T5)', 'P1', 'P5', 'P4', '', 'P4', 'M2', 'P6\\n(T5)'],\n",
      "                       ['P1\\n(T5)', '', 'M1', 'M2', '', 'P2', '', 'P6\\n(T5)'],\n",
      "                       ['P3\\n(T5)', '', '', '', '', 'M1', 'P2', 'P6\\n(T5)'], ['',\n",
      "                       '', 'M1', 'P4', '', 'M3', '', 'P6\\n(T5)']],\n",
      "              'textfont': {'size': 10},\n",
      "              'texttemplate': '%{text}',\n",
      "              'type': 'heatmap',\n",
      "              'visible': False,\n",
      "              'x': array(['08:00-09:00', '09:00-10:00', '10:00-11:00', '11:00-12:00',\n",
      "                          '12:00-13:00', '13:00-14:00', '14:00-15:00', '15:00-16:00'],\n",
      "                         dtype=object),\n",
      "              'y': array(['Mon', 'Tue', 'Wed', 'Thu', 'Fri'], dtype=object),\n",
      "              'z': [[0, 4, 2, 4, 0, 4, 0, 6], [6, 1, 5, 4, 0, 4, 8, 6], [1, 0, 7,\n",
      "                    8, 0, 2, 0, 6], [3, 0, 0, 0, 0, 7, 2, 6], [0, 0, 7, 4, 0, 9, 0,\n",
      "                    6]],\n",
      "              'zmax': 9,\n",
      "              'zmin': 0},\n",
      "             {'colorscale': [[0.0, 'white'], [0.1, 'lightblue'], [0.2, 'skyblue'],\n",
      "                             [0.3, 'dodgerblue'], [0.4, 'steelblue'], [0.5,\n",
      "                             'deepskyblue'], [0.6, 'cornflowerblue'], [0.7,\n",
      "                             'lightpink'], [0.8, 'salmon'], [0.9, 'tomato'], [1.0,\n",
      "                             'orangered']],\n",
      "              'hoverinfo': 'text',\n",
      "              'showscale': False,\n",
      "              'text': [['P4\\n(T6)', 'M2', 'P5', '', '', 'M2', '', 'P1\\n(T6)'],\n",
      "                       ['', 'P6', 'M3', '', '', 'P5', '', 'P1\\n(T6)'], ['', 'P6',\n",
      "                       'P3', 'P6', '', 'P5', '', 'P1\\n(T6)'], ['M2\\n(T6)', 'M1',\n",
      "                       'P6', '', '', 'P3', '', 'P1\\n(T6)'], ['P1\\n(T6)', 'P6',\n",
      "                       'P2', 'M1', '', 'P1', 'M3', 'P1\\n(T6)']],\n",
      "              'textfont': {'size': 10},\n",
      "              'texttemplate': '%{text}',\n",
      "              'type': 'heatmap',\n",
      "              'visible': False,\n",
      "              'x': array(['08:00-09:00', '09:00-10:00', '10:00-11:00', '11:00-12:00',\n",
      "                          '12:00-13:00', '13:00-14:00', '14:00-15:00', '15:00-16:00'],\n",
      "                         dtype=object),\n",
      "              'y': array(['Mon', 'Tue', 'Wed', 'Thu', 'Fri'], dtype=object),\n",
      "              'z': [[4, 8, 5, 0, 0, 8, 0, 1], [0, 6, 9, 0, 0, 5, 0, 1], [0, 6, 3,\n",
      "                    6, 0, 5, 0, 1], [8, 7, 6, 0, 0, 3, 0, 1], [1, 6, 2, 7, 0, 1, 9,\n",
      "                    1]],\n",
      "              'zmax': 9,\n",
      "              'zmin': 0},\n",
      "             {'colorscale': [[0.0, 'white'], [0.1, 'lightblue'], [0.2, 'skyblue'],\n",
      "                             [0.3, 'dodgerblue'], [0.4, 'steelblue'], [0.5,\n",
      "                             'deepskyblue'], [0.6, 'cornflowerblue'], [0.7,\n",
      "                             'lightpink'], [0.8, 'salmon'], [0.9, 'tomato'], [1.0,\n",
      "                             'orangered']],\n",
      "              'hoverinfo': 'text',\n",
      "              'showscale': False,\n",
      "              'text': [['M1\\n(T7)', 'P6', 'P3', 'M2', '', '', 'P5', ''],\n",
      "                       ['P1\\n(T7)', 'P2', 'P4', 'M2', '', '', 'P6', ''],\n",
      "                       ['M2\\n(T7)', 'M1', 'P6', 'P3', '', 'P3', '', ''], ['', 'P5',\n",
      "                       'M2', 'P2', '', '', 'P3', ''], ['M2\\n(T7)', 'M1', '', 'P3',\n",
      "                       '', 'M1', 'P6', '']],\n",
      "              'textfont': {'size': 10},\n",
      "              'texttemplate': '%{text}',\n",
      "              'type': 'heatmap',\n",
      "              'visible': False,\n",
      "              'x': array(['08:00-09:00', '09:00-10:00', '10:00-11:00', '11:00-12:00',\n",
      "                          '12:00-13:00', '13:00-14:00', '14:00-15:00', '15:00-16:00'],\n",
      "                         dtype=object),\n",
      "              'y': array(['Mon', 'Tue', 'Wed', 'Thu', 'Fri'], dtype=object),\n",
      "              'z': [[7, 6, 3, 8, 0, 0, 5, 0], [1, 2, 4, 8, 0, 0, 6, 0], [8, 7, 6,\n",
      "                    3, 0, 3, 0, 0], [0, 5, 8, 2, 0, 0, 3, 0], [8, 7, 0, 3, 0, 7, 6,\n",
      "                    0]],\n",
      "              'zmax': 9,\n",
      "              'zmin': 0},\n",
      "             {'colorscale': [[0.0, 'white'], [0.1, 'lightblue'], [0.2, 'skyblue'],\n",
      "                             [0.3, 'dodgerblue'], [0.4, 'steelblue'], [0.5,\n",
      "                             'deepskyblue'], [0.6, 'cornflowerblue'], [0.7,\n",
      "                             'lightpink'], [0.8, 'salmon'], [0.9, 'tomato'], [1.0,\n",
      "                             'orangered']],\n",
      "              'hoverinfo': 'text',\n",
      "              'showscale': False,\n",
      "              'text': [['', '', 'M2', '', '', 'P6', 'P4', 'P2\\n(T8)'],\n",
      "                       ['P3\\n(T8)', '', 'P6', '', '', '', 'P1', 'P2\\n(T8)'],\n",
      "                       ['P3\\n(T8)', 'M2', '', 'P5', '', 'P6', 'P4', 'P2\\n(T8)'],\n",
      "                       ['P1\\n(T8)', '', 'M3', '', '', '', 'M2', 'P2\\n(T8)'],\n",
      "                       ['P4\\n(T8)', 'M2', '', 'M2', '', 'P2', 'P3', 'P2\\n(T8)']],\n",
      "              'textfont': {'size': 10},\n",
      "              'texttemplate': '%{text}',\n",
      "              'type': 'heatmap',\n",
      "              'visible': False,\n",
      "              'x': array(['08:00-09:00', '09:00-10:00', '10:00-11:00', '11:00-12:00',\n",
      "                          '12:00-13:00', '13:00-14:00', '14:00-15:00', '15:00-16:00'],\n",
      "                         dtype=object),\n",
      "              'y': array(['Mon', 'Tue', 'Wed', 'Thu', 'Fri'], dtype=object),\n",
      "              'z': [[0, 0, 8, 0, 0, 6, 4, 2], [3, 0, 6, 0, 0, 0, 1, 2], [3, 8, 0,\n",
      "                    5, 0, 6, 4, 2], [1, 0, 9, 0, 0, 0, 8, 2], [4, 8, 0, 8, 0, 2, 3,\n",
      "                    2]],\n",
      "              'zmax': 9,\n",
      "              'zmin': 0},\n",
      "             {'colorscale': [[0.0, 'white'], [0.1, 'lightblue'], [0.2, 'skyblue'],\n",
      "                             [0.3, 'dodgerblue'], [0.4, 'steelblue'], [0.5,\n",
      "                             'deepskyblue'], [0.6, 'cornflowerblue'], [0.7,\n",
      "                             'lightpink'], [0.8, 'salmon'], [0.9, 'tomato'], [1.0,\n",
      "                             'orangered']],\n",
      "              'hoverinfo': 'text',\n",
      "              'showscale': False,\n",
      "              'text': [['M3\\n(T9)', 'P2', 'M3', 'P6', '', '', '', 'M3\\n(T9)'],\n",
      "                       ['M1\\n(T9)', '', 'P1', 'M3', '', 'P6', 'P3', 'M3\\n(T9)'],\n",
      "                       ['', 'P5', '', '', '', 'M3', 'P2', 'M3\\n(T9)'], ['', 'P4',\n",
      "                       'M1', 'P5', '', 'M3', 'P6', 'M3\\n(T9)'], ['P3\\n(T9)', 'P4',\n",
      "                       'P5', '', '', '', 'M2', 'M3\\n(T9)']],\n",
      "              'textfont': {'size': 10},\n",
      "              'texttemplate': '%{text}',\n",
      "              'type': 'heatmap',\n",
      "              'visible': False,\n",
      "              'x': array(['08:00-09:00', '09:00-10:00', '10:00-11:00', '11:00-12:00',\n",
      "                          '12:00-13:00', '13:00-14:00', '14:00-15:00', '15:00-16:00'],\n",
      "                         dtype=object),\n",
      "              'y': array(['Mon', 'Tue', 'Wed', 'Thu', 'Fri'], dtype=object),\n",
      "              'z': [[9, 2, 9, 6, 0, 0, 0, 9], [7, 0, 1, 9, 0, 6, 3, 9], [0, 5, 0,\n",
      "                    0, 0, 9, 2, 9], [0, 4, 7, 5, 0, 9, 6, 9], [3, 4, 5, 0, 0, 0, 8,\n",
      "                    9]],\n",
      "              'zmax': 9,\n",
      "              'zmin': 0}],\n",
      "    'layout': {'height': 600,\n",
      "               'margin': {'b': 50, 'l': 50, 'r': 150, 't': 100},\n",
      "               'template': '...',\n",
      "               'title': {'text': 'Schedule for Teacher', 'x': 0.5, 'xanchor': 'center'},\n",
      "               'updatemenus': [{'active': 0,\n",
      "                                'buttons': [{'args': [{'visible': [True, False,\n",
      "                                                                   False, False,\n",
      "                                                                   False, False,\n",
      "                                                                   False, False,\n",
      "                                                                   False, False,\n",
      "                                                                   False, False,\n",
      "                                                                   False]},\n",
      "                                                      {'title': 'Schedule for T1'}],\n",
      "                                             'label': 'T1',\n",
      "                                             'method': 'update'},\n",
      "                                            {'args': [{'visible': [False, True,\n",
      "                                                                   False, False,\n",
      "                                                                   False, False,\n",
      "                                                                   False, False,\n",
      "                                                                   False, False,\n",
      "                                                                   False, False,\n",
      "                                                                   False]},\n",
      "                                                      {'title': 'Schedule for T10'}],\n",
      "                                             'label': 'T10',\n",
      "                                             'method': 'update'},\n",
      "                                            {'args': [{'visible': [False, False,\n",
      "                                                                   True, False,\n",
      "                                                                   False, False,\n",
      "                                                                   False, False,\n",
      "                                                                   False, False,\n",
      "                                                                   False, False,\n",
      "                                                                   False]},\n",
      "                                                      {'title': 'Schedule for T11'}],\n",
      "                                             'label': 'T11',\n",
      "                                             'method': 'update'},\n",
      "                                            {'args': [{'visible': [False, False,\n",
      "                                                                   False, True,\n",
      "                                                                   False, False,\n",
      "                                                                   False, False,\n",
      "                                                                   False, False,\n",
      "                                                                   False, False,\n",
      "                                                                   False]},\n",
      "                                                      {'title': 'Schedule for T12'}],\n",
      "                                             'label': 'T12',\n",
      "                                             'method': 'update'},\n",
      "                                            {'args': [{'visible': [False, False,\n",
      "                                                                   False, False,\n",
      "                                                                   True, False,\n",
      "                                                                   False, False,\n",
      "                                                                   False, False,\n",
      "                                                                   False, False,\n",
      "                                                                   False]},\n",
      "                                                      {'title': 'Schedule for T13'}],\n",
      "                                             'label': 'T13',\n",
      "                                             'method': 'update'},\n",
      "                                            {'args': [{'visible': [False, False,\n",
      "                                                                   False, False,\n",
      "                                                                   False, True,\n",
      "                                                                   False, False,\n",
      "                                                                   False, False,\n",
      "                                                                   False, False,\n",
      "                                                                   False]},\n",
      "                                                      {'title': 'Schedule for T2'}],\n",
      "                                             'label': 'T2',\n",
      "                                             'method': 'update'},\n",
      "                                            {'args': [{'visible': [False, False,\n",
      "                                                                   False, False,\n",
      "                                                                   False, False,\n",
      "                                                                   True, False,\n",
      "                                                                   False, False,\n",
      "                                                                   False, False,\n",
      "                                                                   False]},\n",
      "                                                      {'title': 'Schedule for T3'}],\n",
      "                                             'label': 'T3',\n",
      "                                             'method': 'update'},\n",
      "                                            {'args': [{'visible': [False, False,\n",
      "                                                                   False, False,\n",
      "                                                                   False, False,\n",
      "                                                                   False, True,\n",
      "                                                                   False, False,\n",
      "                                                                   False, False,\n",
      "                                                                   False]},\n",
      "                                                      {'title': 'Schedule for T4'}],\n",
      "                                             'label': 'T4',\n",
      "                                             'method': 'update'},\n",
      "                                            {'args': [{'visible': [False, False,\n",
      "                                                                   False, False,\n",
      "                                                                   False, False,\n",
      "                                                                   False, False,\n",
      "                                                                   True, False,\n",
      "                                                                   False, False,\n",
      "                                                                   False]},\n",
      "                                                      {'title': 'Schedule for T5'}],\n",
      "                                             'label': 'T5',\n",
      "                                             'method': 'update'},\n",
      "                                            {'args': [{'visible': [False, False,\n",
      "                                                                   False, False,\n",
      "                                                                   False, False,\n",
      "                                                                   False, False,\n",
      "                                                                   False, True,\n",
      "                                                                   False, False,\n",
      "                                                                   False]},\n",
      "                                                      {'title': 'Schedule for T6'}],\n",
      "                                             'label': 'T6',\n",
      "                                             'method': 'update'},\n",
      "                                            {'args': [{'visible': [False, False,\n",
      "                                                                   False, False,\n",
      "                                                                   False, False,\n",
      "                                                                   False, False,\n",
      "                                                                   False, False,\n",
      "                                                                   True, False,\n",
      "                                                                   False]},\n",
      "                                                      {'title': 'Schedule for T7'}],\n",
      "                                             'label': 'T7',\n",
      "                                             'method': 'update'},\n",
      "                                            {'args': [{'visible': [False, False,\n",
      "                                                                   False, False,\n",
      "                                                                   False, False,\n",
      "                                                                   False, False,\n",
      "                                                                   False, False,\n",
      "                                                                   False, True,\n",
      "                                                                   False]},\n",
      "                                                      {'title': 'Schedule for T8'}],\n",
      "                                             'label': 'T8',\n",
      "                                             'method': 'update'},\n",
      "                                            {'args': [{'visible': [False, False,\n",
      "                                                                   False, False,\n",
      "                                                                   False, False,\n",
      "                                                                   False, False,\n",
      "                                                                   False, False,\n",
      "                                                                   False, False,\n",
      "                                                                   True]},\n",
      "                                                      {'title': 'Schedule for T9'}],\n",
      "                                             'label': 'T9',\n",
      "                                             'method': 'update'}],\n",
      "                                'x': 1.1,\n",
      "                                'xanchor': 'left',\n",
      "                                'y': 1,\n",
      "                                'yanchor': 'top'}],\n",
      "               'width': 1200,\n",
      "               'xaxis': {'gridcolor': 'black',\n",
      "                         'showgrid': True,\n",
      "                         'side': 'top',\n",
      "                         'tickmode': 'array',\n",
      "                         'ticktext': [08:00-09:00, 09:00-10:00, 10:00-11:00,\n",
      "                                      11:00-12:00, 12:00-13:00, 13:00-14:00,\n",
      "                                      14:00-15:00, 15:00-16:00],\n",
      "                         'tickvals': [08:00-09:00, 09:00-10:00, 10:00-11:00,\n",
      "                                      11:00-12:00, 12:00-13:00, 13:00-14:00,\n",
      "                                      14:00-15:00, 15:00-16:00]},\n",
      "               'yaxis': {'autorange': 'reversed', 'gridcolor': 'black', 'showgrid': True, 'title': {'text': 'Day'}}}\n",
      "})\n",
      "Total classes scheduled: 315\n",
      "\n",
      "Homeroom Assignments:\n"
     ]
    },
    {
     "data": {
      "application/vnd.plotly.v1+json": {
       "config": {
        "plotlyServerURL": "https://plot.ly"
       },
       "data": [
        {
         "colorscale": [
          [
           0,
           "white"
          ],
          [
           0.1,
           "lightblue"
          ],
          [
           0.2,
           "skyblue"
          ],
          [
           0.3,
           "dodgerblue"
          ],
          [
           0.4,
           "steelblue"
          ],
          [
           0.5,
           "deepskyblue"
          ],
          [
           0.6,
           "cornflowerblue"
          ],
          [
           0.7,
           "lightpink"
          ],
          [
           0.8,
           "salmon"
          ],
          [
           0.9,
           "tomato"
          ],
          [
           1,
           "orangered"
          ]
         ],
         "hoverinfo": "text",
         "showscale": false,
         "text": [
          [
           "",
           "P3",
           "",
           "P5",
           "",
           "P1",
           "M1",
           "M2\n(T1)"
          ],
          [
           "M2\n(T1)",
           "M3",
           "",
           "P2",
           "",
           "M1",
           "P2",
           "M2\n(T1, T4)"
          ],
          [
           "",
           "P1",
           "M3",
           "",
           "",
           "P1",
           "M2",
           "M2\n(T1, T4)"
          ],
          [
           "",
           "P3",
           "",
           "P6",
           "",
           "",
           "",
           "M2\n(T1, T4)"
          ],
          [
           "P5\n(T1)",
           "P1",
           "",
           "P5",
           "",
           "P6",
           "",
           "M2\n(T1, T4)"
          ]
         ],
         "textfont": {
          "size": 10
         },
         "texttemplate": "%{text}",
         "type": "heatmap",
         "visible": true,
         "x": [
          "08:00-09:00",
          "09:00-10:00",
          "10:00-11:00",
          "11:00-12:00",
          "12:00-13:00",
          "13:00-14:00",
          "14:00-15:00",
          "15:00-16:00"
         ],
         "y": [
          "Mon",
          "Tue",
          "Wed",
          "Thu",
          "Fri"
         ],
         "z": [
          [
           0,
           3,
           0,
           5,
           0,
           1,
           7,
           8
          ],
          [
           8,
           9,
           0,
           2,
           0,
           7,
           2,
           8
          ],
          [
           0,
           1,
           9,
           0,
           0,
           1,
           8,
           8
          ],
          [
           0,
           3,
           0,
           6,
           0,
           0,
           0,
           8
          ],
          [
           5,
           1,
           0,
           5,
           0,
           6,
           0,
           8
          ]
         ],
         "zmax": 9,
         "zmin": 0
        },
        {
         "colorscale": [
          [
           0,
           "white"
          ],
          [
           0.1,
           "lightblue"
          ],
          [
           0.2,
           "skyblue"
          ],
          [
           0.3,
           "dodgerblue"
          ],
          [
           0.4,
           "steelblue"
          ],
          [
           0.5,
           "deepskyblue"
          ],
          [
           0.6,
           "cornflowerblue"
          ],
          [
           0.7,
           "lightpink"
          ],
          [
           0.8,
           "salmon"
          ],
          [
           0.9,
           "tomato"
          ],
          [
           1,
           "orangered"
          ]
         ],
         "hoverinfo": "text",
         "showscale": false,
         "text": [
          [
           "P3\n(T10)",
           "M1",
           "",
           "P2",
           "",
           "P2",
           "P3",
           "M1\n(T10)"
          ],
          [
           "P5\n(T10)",
           "M1",
           "",
           "P3",
           "",
           "M3",
           "",
           "M1\n(T10)"
          ],
          [
           "M3\n(T10)",
           "P4",
           "P5",
           "P1",
           "",
           "M1",
           "P3",
           "M1\n(T10)"
          ],
          [
           "",
           "P6",
           "P2",
           "M1",
           "",
           "P1",
           "P5",
           "M1\n(T10)"
          ],
          [
           "P2\n(T10)",
           "P3",
           "M3",
           "P2",
           "",
           "",
           "",
           "M1\n(T10)"
          ]
         ],
         "textfont": {
          "size": 10
         },
         "texttemplate": "%{text}",
         "type": "heatmap",
         "visible": false,
         "x": [
          "08:00-09:00",
          "09:00-10:00",
          "10:00-11:00",
          "11:00-12:00",
          "12:00-13:00",
          "13:00-14:00",
          "14:00-15:00",
          "15:00-16:00"
         ],
         "y": [
          "Mon",
          "Tue",
          "Wed",
          "Thu",
          "Fri"
         ],
         "z": [
          [
           3,
           7,
           0,
           2,
           0,
           2,
           3,
           7
          ],
          [
           5,
           7,
           0,
           3,
           0,
           9,
           0,
           7
          ],
          [
           9,
           4,
           5,
           1,
           0,
           7,
           3,
           7
          ],
          [
           0,
           6,
           2,
           7,
           0,
           1,
           5,
           7
          ],
          [
           2,
           3,
           9,
           2,
           0,
           0,
           0,
           7
          ]
         ],
         "zmax": 9,
         "zmin": 0
        },
        {
         "colorscale": [
          [
           0,
           "white"
          ],
          [
           0.1,
           "lightblue"
          ],
          [
           0.2,
           "skyblue"
          ],
          [
           0.3,
           "dodgerblue"
          ],
          [
           0.4,
           "steelblue"
          ],
          [
           0.5,
           "deepskyblue"
          ],
          [
           0.6,
           "cornflowerblue"
          ],
          [
           0.7,
           "lightpink"
          ],
          [
           0.8,
           "salmon"
          ],
          [
           0.9,
           "tomato"
          ],
          [
           1,
           "orangered"
          ]
         ],
         "hoverinfo": "text",
         "showscale": false,
         "text": [
          [
           "M2\n(T11)",
           "P1",
           "M1",
           "",
           "",
           "",
           "P1",
           "P5\n(T11)"
          ],
          [
           "",
           "P4",
           "P3",
           "M1",
           "",
           "M2",
           "P5",
           "P5\n(T11, T12)"
          ],
          [
           "M1\n(T11)",
           "P2",
           "P4",
           "M3",
           "",
           "M2",
           "",
           "P5\n(T11)"
          ],
          [
           "P5\n(T11)",
           "P2",
           "",
           "P1",
           "",
           "M2",
           "M1",
           "P5\n(T11)"
          ],
          [
           "M1\n(T11)",
           "M3",
           "M2",
           "P6",
           "",
           "",
           "",
           "P5\n(T11)"
          ]
         ],
         "textfont": {
          "size": 10
         },
         "texttemplate": "%{text}",
         "type": "heatmap",
         "visible": false,
         "x": [
          "08:00-09:00",
          "09:00-10:00",
          "10:00-11:00",
          "11:00-12:00",
          "12:00-13:00",
          "13:00-14:00",
          "14:00-15:00",
          "15:00-16:00"
         ],
         "y": [
          "Mon",
          "Tue",
          "Wed",
          "Thu",
          "Fri"
         ],
         "z": [
          [
           8,
           1,
           7,
           0,
           0,
           0,
           1,
           5
          ],
          [
           0,
           4,
           3,
           7,
           0,
           8,
           5,
           5
          ],
          [
           7,
           2,
           4,
           9,
           0,
           8,
           0,
           5
          ],
          [
           5,
           2,
           0,
           1,
           0,
           8,
           7,
           5
          ],
          [
           7,
           9,
           8,
           6,
           0,
           0,
           0,
           5
          ]
         ],
         "zmax": 9,
         "zmin": 0
        },
        {
         "colorscale": [
          [
           0,
           "white"
          ],
          [
           0.1,
           "lightblue"
          ],
          [
           0.2,
           "skyblue"
          ],
          [
           0.3,
           "dodgerblue"
          ],
          [
           0.4,
           "steelblue"
          ],
          [
           0.5,
           "deepskyblue"
          ],
          [
           0.6,
           "cornflowerblue"
          ],
          [
           0.7,
           "lightpink"
          ],
          [
           0.8,
           "salmon"
          ],
          [
           0.9,
           "tomato"
          ],
          [
           1,
           "orangered"
          ]
         ],
         "hoverinfo": "text",
         "showscale": false,
         "text": [
          [
           "P2\n(T12)",
           "P5",
           "P1",
           "",
           "",
           "M1",
           "P6",
           "P5\n(T11, T12)"
          ],
          [
           "",
           "",
           "P2",
           "",
           "",
           "P3",
           "M1",
           "P5\n(T12)"
          ],
          [
           "",
           "P3",
           "P1",
           "",
           "",
           "",
           "P6",
           "P5\n(T11, T12)"
          ],
          [
           "P4\n(T12)",
           "M3",
           "P1",
           "",
           "",
           "P4",
           "",
           "P5\n(T11, T12)"
          ],
          [
           "",
           "P2",
           "P1",
           "",
           "",
           "P3",
           "P5",
           "P5\n(T11, T12)"
          ]
         ],
         "textfont": {
          "size": 10
         },
         "texttemplate": "%{text}",
         "type": "heatmap",
         "visible": false,
         "x": [
          "08:00-09:00",
          "09:00-10:00",
          "10:00-11:00",
          "11:00-12:00",
          "12:00-13:00",
          "13:00-14:00",
          "14:00-15:00",
          "15:00-16:00"
         ],
         "y": [
          "Mon",
          "Tue",
          "Wed",
          "Thu",
          "Fri"
         ],
         "z": [
          [
           2,
           5,
           1,
           0,
           0,
           7,
           6,
           5
          ],
          [
           0,
           0,
           2,
           0,
           0,
           3,
           7,
           5
          ],
          [
           0,
           3,
           1,
           0,
           0,
           0,
           6,
           5
          ],
          [
           4,
           9,
           1,
           0,
           0,
           4,
           0,
           5
          ],
          [
           0,
           2,
           1,
           0,
           0,
           3,
           5,
           5
          ]
         ],
         "zmax": 9,
         "zmin": 0
        },
        {
         "colorscale": [
          [
           0,
           "white"
          ],
          [
           0.1,
           "lightblue"
          ],
          [
           0.2,
           "skyblue"
          ],
          [
           0.3,
           "dodgerblue"
          ],
          [
           0.4,
           "steelblue"
          ],
          [
           0.5,
           "deepskyblue"
          ],
          [
           0.6,
           "cornflowerblue"
          ],
          [
           0.7,
           "lightpink"
          ],
          [
           0.8,
           "salmon"
          ],
          [
           0.9,
           "tomato"
          ],
          [
           1,
           "orangered"
          ]
         ],
         "hoverinfo": "text",
         "showscale": false,
         "text": [
          [
           "P1\n(T13)",
           "",
           "P4",
           "M1",
           "",
           "M3",
           "",
           ""
          ],
          [
           "M3\n(T13)",
           "M2",
           "",
           "P1",
           "",
           "",
           "",
           ""
          ],
          [
           "P4\n(T13)",
           "M3",
           "P2",
           "P4",
           "",
           "",
           "M1",
           ""
          ],
          [
           "M1\n(T13)",
           "P1",
           "P5",
           "P4",
           "",
           "P2",
           "M3",
           ""
          ],
          [
           "",
           "P5",
           "P6",
           "M3",
           "",
           "P5",
           "P1",
           ""
          ]
         ],
         "textfont": {
          "size": 10
         },
         "texttemplate": "%{text}",
         "type": "heatmap",
         "visible": false,
         "x": [
          "08:00-09:00",
          "09:00-10:00",
          "10:00-11:00",
          "11:00-12:00",
          "12:00-13:00",
          "13:00-14:00",
          "14:00-15:00",
          "15:00-16:00"
         ],
         "y": [
          "Mon",
          "Tue",
          "Wed",
          "Thu",
          "Fri"
         ],
         "z": [
          [
           1,
           0,
           4,
           7,
           0,
           9,
           0,
           0
          ],
          [
           9,
           8,
           0,
           1,
           0,
           0,
           0,
           0
          ],
          [
           4,
           9,
           2,
           4,
           0,
           0,
           7,
           0
          ],
          [
           7,
           1,
           5,
           4,
           0,
           2,
           9,
           0
          ],
          [
           0,
           5,
           6,
           9,
           0,
           5,
           1,
           0
          ]
         ],
         "zmax": 9,
         "zmin": 0
        },
        {
         "colorscale": [
          [
           0,
           "white"
          ],
          [
           0.1,
           "lightblue"
          ],
          [
           0.2,
           "skyblue"
          ],
          [
           0.3,
           "dodgerblue"
          ],
          [
           0.4,
           "steelblue"
          ],
          [
           0.5,
           "deepskyblue"
          ],
          [
           0.6,
           "cornflowerblue"
          ],
          [
           0.7,
           "lightpink"
          ],
          [
           0.8,
           "salmon"
          ],
          [
           0.9,
           "tomato"
          ],
          [
           1,
           "orangered"
          ]
         ],
         "hoverinfo": "text",
         "showscale": false,
         "text": [
          [
           "P5\n(T2)",
           "M3",
           "",
           "P1",
           "",
           "P5",
           "M3",
           "P3\n(T2)"
          ],
          [
           "P4\n(T2)",
           "P3",
           "",
           "P6",
           "",
           "",
           "P4",
           "P3\n(T2)"
          ],
          [
           "P6\n(T2)",
           "",
           "",
           "P2",
           "",
           "",
           "M3",
           "P3\n(T2)"
          ],
          [
           "P6\n(T2)",
           "",
           "P3",
           "M3",
           "",
           "",
           "P4",
           "P3\n(T2)"
          ],
          [
           "P6\n(T2)",
           "",
           "",
           "",
           "",
           "P4",
           "P2",
           "P3\n(T2)"
          ]
         ],
         "textfont": {
          "size": 10
         },
         "texttemplate": "%{text}",
         "type": "heatmap",
         "visible": false,
         "x": [
          "08:00-09:00",
          "09:00-10:00",
          "10:00-11:00",
          "11:00-12:00",
          "12:00-13:00",
          "13:00-14:00",
          "14:00-15:00",
          "15:00-16:00"
         ],
         "y": [
          "Mon",
          "Tue",
          "Wed",
          "Thu",
          "Fri"
         ],
         "z": [
          [
           5,
           9,
           0,
           1,
           0,
           5,
           9,
           3
          ],
          [
           4,
           3,
           0,
           6,
           0,
           0,
           4,
           3
          ],
          [
           6,
           0,
           0,
           2,
           0,
           0,
           9,
           3
          ],
          [
           6,
           0,
           3,
           9,
           0,
           0,
           4,
           3
          ],
          [
           6,
           0,
           0,
           0,
           0,
           4,
           2,
           3
          ]
         ],
         "zmax": 9,
         "zmin": 0
        },
        {
         "colorscale": [
          [
           0,
           "white"
          ],
          [
           0.1,
           "lightblue"
          ],
          [
           0.2,
           "skyblue"
          ],
          [
           0.3,
           "dodgerblue"
          ],
          [
           0.4,
           "steelblue"
          ],
          [
           0.5,
           "deepskyblue"
          ],
          [
           0.6,
           "cornflowerblue"
          ],
          [
           0.7,
           "lightpink"
          ],
          [
           0.8,
           "salmon"
          ],
          [
           0.9,
           "tomato"
          ],
          [
           1,
           "orangered"
          ]
         ],
         "hoverinfo": "text",
         "showscale": false,
         "text": [
          [
           "",
           "",
           "P6",
           "P3",
           "",
           "",
           "P2",
           "P4\n(T3)"
          ],
          [
           "",
           "P5",
           "M1",
           "",
           "",
           "P2",
           "",
           "P4\n(T3)"
          ],
          [
           "P5\n(T3)",
           "",
           "",
           "",
           "",
           "P4",
           "P1",
           "P4\n(T3)"
          ],
          [
           "P2\n(T3)",
           "",
           "",
           "P3",
           "",
           "P5",
           "",
           "P4\n(T3)"
          ],
          [
           "",
           "",
           "P3",
           "",
           "",
           "M2",
           "M1",
           "P4\n(T3)"
          ]
         ],
         "textfont": {
          "size": 10
         },
         "texttemplate": "%{text}",
         "type": "heatmap",
         "visible": false,
         "x": [
          "08:00-09:00",
          "09:00-10:00",
          "10:00-11:00",
          "11:00-12:00",
          "12:00-13:00",
          "13:00-14:00",
          "14:00-15:00",
          "15:00-16:00"
         ],
         "y": [
          "Mon",
          "Tue",
          "Wed",
          "Thu",
          "Fri"
         ],
         "z": [
          [
           0,
           0,
           6,
           3,
           0,
           0,
           2,
           4
          ],
          [
           0,
           5,
           7,
           0,
           0,
           2,
           0,
           4
          ],
          [
           5,
           0,
           0,
           0,
           0,
           4,
           1,
           4
          ],
          [
           2,
           0,
           0,
           3,
           0,
           5,
           0,
           4
          ],
          [
           0,
           0,
           3,
           0,
           0,
           8,
           7,
           4
          ]
         ],
         "zmax": 9,
         "zmin": 0
        },
        {
         "colorscale": [
          [
           0,
           "white"
          ],
          [
           0.1,
           "lightblue"
          ],
          [
           0.2,
           "skyblue"
          ],
          [
           0.3,
           "dodgerblue"
          ],
          [
           0.4,
           "steelblue"
          ],
          [
           0.5,
           "deepskyblue"
          ],
          [
           0.6,
           "cornflowerblue"
          ],
          [
           0.7,
           "lightpink"
          ],
          [
           0.8,
           "salmon"
          ],
          [
           0.9,
           "tomato"
          ],
          [
           1,
           "orangered"
          ]
         ],
         "hoverinfo": "text",
         "showscale": false,
         "text": [
          [
           "P6\n(T4)",
           "",
           "",
           "M3",
           "",
           "P3",
           "M2",
           "M2\n(T1, T4)"
          ],
          [
           "P2\n(T4)",
           "",
           "M2",
           "P5",
           "",
           "P1",
           "M3",
           "M2\n(T4)"
          ],
          [
           "P2\n(T4)",
           "",
           "M2",
           "M1",
           "",
           "",
           "P5",
           "M2\n(T4)"
          ],
          [
           "M3\n(T4)",
           "M2",
           "P4",
           "M2",
           "",
           "P6",
           "P1",
           "M2\n(T4)"
          ],
          [
           "M3\n(T4)",
           "",
           "P4",
           "P1",
           "",
           "",
           "P4",
           "M2\n(T4)"
          ]
         ],
         "textfont": {
          "size": 10
         },
         "texttemplate": "%{text}",
         "type": "heatmap",
         "visible": false,
         "x": [
          "08:00-09:00",
          "09:00-10:00",
          "10:00-11:00",
          "11:00-12:00",
          "12:00-13:00",
          "13:00-14:00",
          "14:00-15:00",
          "15:00-16:00"
         ],
         "y": [
          "Mon",
          "Tue",
          "Wed",
          "Thu",
          "Fri"
         ],
         "z": [
          [
           6,
           0,
           0,
           9,
           0,
           3,
           8,
           8
          ],
          [
           2,
           0,
           8,
           5,
           0,
           1,
           9,
           8
          ],
          [
           2,
           0,
           8,
           7,
           0,
           0,
           5,
           8
          ],
          [
           9,
           8,
           4,
           8,
           0,
           6,
           1,
           8
          ],
          [
           9,
           0,
           4,
           1,
           0,
           0,
           4,
           8
          ]
         ],
         "zmax": 9,
         "zmin": 0
        },
        {
         "colorscale": [
          [
           0,
           "white"
          ],
          [
           0.1,
           "lightblue"
          ],
          [
           0.2,
           "skyblue"
          ],
          [
           0.3,
           "dodgerblue"
          ],
          [
           0.4,
           "steelblue"
          ],
          [
           0.5,
           "deepskyblue"
          ],
          [
           0.6,
           "cornflowerblue"
          ],
          [
           0.7,
           "lightpink"
          ],
          [
           0.8,
           "salmon"
          ],
          [
           0.9,
           "tomato"
          ],
          [
           1,
           "orangered"
          ]
         ],
         "hoverinfo": "text",
         "showscale": false,
         "text": [
          [
           "",
           "P4",
           "P2",
           "P4",
           "",
           "P4",
           "",
           "P6\n(T5)"
          ],
          [
           "P6\n(T5)",
           "P1",
           "P5",
           "P4",
           "",
           "P4",
           "M2",
           "P6\n(T5)"
          ],
          [
           "P1\n(T5)",
           "",
           "M1",
           "M2",
           "",
           "P2",
           "",
           "P6\n(T5)"
          ],
          [
           "P3\n(T5)",
           "",
           "",
           "",
           "",
           "M1",
           "P2",
           "P6\n(T5)"
          ],
          [
           "",
           "",
           "M1",
           "P4",
           "",
           "M3",
           "",
           "P6\n(T5)"
          ]
         ],
         "textfont": {
          "size": 10
         },
         "texttemplate": "%{text}",
         "type": "heatmap",
         "visible": false,
         "x": [
          "08:00-09:00",
          "09:00-10:00",
          "10:00-11:00",
          "11:00-12:00",
          "12:00-13:00",
          "13:00-14:00",
          "14:00-15:00",
          "15:00-16:00"
         ],
         "y": [
          "Mon",
          "Tue",
          "Wed",
          "Thu",
          "Fri"
         ],
         "z": [
          [
           0,
           4,
           2,
           4,
           0,
           4,
           0,
           6
          ],
          [
           6,
           1,
           5,
           4,
           0,
           4,
           8,
           6
          ],
          [
           1,
           0,
           7,
           8,
           0,
           2,
           0,
           6
          ],
          [
           3,
           0,
           0,
           0,
           0,
           7,
           2,
           6
          ],
          [
           0,
           0,
           7,
           4,
           0,
           9,
           0,
           6
          ]
         ],
         "zmax": 9,
         "zmin": 0
        },
        {
         "colorscale": [
          [
           0,
           "white"
          ],
          [
           0.1,
           "lightblue"
          ],
          [
           0.2,
           "skyblue"
          ],
          [
           0.3,
           "dodgerblue"
          ],
          [
           0.4,
           "steelblue"
          ],
          [
           0.5,
           "deepskyblue"
          ],
          [
           0.6,
           "cornflowerblue"
          ],
          [
           0.7,
           "lightpink"
          ],
          [
           0.8,
           "salmon"
          ],
          [
           0.9,
           "tomato"
          ],
          [
           1,
           "orangered"
          ]
         ],
         "hoverinfo": "text",
         "showscale": false,
         "text": [
          [
           "P4\n(T6)",
           "M2",
           "P5",
           "",
           "",
           "M2",
           "",
           "P1\n(T6)"
          ],
          [
           "",
           "P6",
           "M3",
           "",
           "",
           "P5",
           "",
           "P1\n(T6)"
          ],
          [
           "",
           "P6",
           "P3",
           "P6",
           "",
           "P5",
           "",
           "P1\n(T6)"
          ],
          [
           "M2\n(T6)",
           "M1",
           "P6",
           "",
           "",
           "P3",
           "",
           "P1\n(T6)"
          ],
          [
           "P1\n(T6)",
           "P6",
           "P2",
           "M1",
           "",
           "P1",
           "M3",
           "P1\n(T6)"
          ]
         ],
         "textfont": {
          "size": 10
         },
         "texttemplate": "%{text}",
         "type": "heatmap",
         "visible": false,
         "x": [
          "08:00-09:00",
          "09:00-10:00",
          "10:00-11:00",
          "11:00-12:00",
          "12:00-13:00",
          "13:00-14:00",
          "14:00-15:00",
          "15:00-16:00"
         ],
         "y": [
          "Mon",
          "Tue",
          "Wed",
          "Thu",
          "Fri"
         ],
         "z": [
          [
           4,
           8,
           5,
           0,
           0,
           8,
           0,
           1
          ],
          [
           0,
           6,
           9,
           0,
           0,
           5,
           0,
           1
          ],
          [
           0,
           6,
           3,
           6,
           0,
           5,
           0,
           1
          ],
          [
           8,
           7,
           6,
           0,
           0,
           3,
           0,
           1
          ],
          [
           1,
           6,
           2,
           7,
           0,
           1,
           9,
           1
          ]
         ],
         "zmax": 9,
         "zmin": 0
        },
        {
         "colorscale": [
          [
           0,
           "white"
          ],
          [
           0.1,
           "lightblue"
          ],
          [
           0.2,
           "skyblue"
          ],
          [
           0.3,
           "dodgerblue"
          ],
          [
           0.4,
           "steelblue"
          ],
          [
           0.5,
           "deepskyblue"
          ],
          [
           0.6,
           "cornflowerblue"
          ],
          [
           0.7,
           "lightpink"
          ],
          [
           0.8,
           "salmon"
          ],
          [
           0.9,
           "tomato"
          ],
          [
           1,
           "orangered"
          ]
         ],
         "hoverinfo": "text",
         "showscale": false,
         "text": [
          [
           "M1\n(T7)",
           "P6",
           "P3",
           "M2",
           "",
           "",
           "P5",
           ""
          ],
          [
           "P1\n(T7)",
           "P2",
           "P4",
           "M2",
           "",
           "",
           "P6",
           ""
          ],
          [
           "M2\n(T7)",
           "M1",
           "P6",
           "P3",
           "",
           "P3",
           "",
           ""
          ],
          [
           "",
           "P5",
           "M2",
           "P2",
           "",
           "",
           "P3",
           ""
          ],
          [
           "M2\n(T7)",
           "M1",
           "",
           "P3",
           "",
           "M1",
           "P6",
           ""
          ]
         ],
         "textfont": {
          "size": 10
         },
         "texttemplate": "%{text}",
         "type": "heatmap",
         "visible": false,
         "x": [
          "08:00-09:00",
          "09:00-10:00",
          "10:00-11:00",
          "11:00-12:00",
          "12:00-13:00",
          "13:00-14:00",
          "14:00-15:00",
          "15:00-16:00"
         ],
         "y": [
          "Mon",
          "Tue",
          "Wed",
          "Thu",
          "Fri"
         ],
         "z": [
          [
           7,
           6,
           3,
           8,
           0,
           0,
           5,
           0
          ],
          [
           1,
           2,
           4,
           8,
           0,
           0,
           6,
           0
          ],
          [
           8,
           7,
           6,
           3,
           0,
           3,
           0,
           0
          ],
          [
           0,
           5,
           8,
           2,
           0,
           0,
           3,
           0
          ],
          [
           8,
           7,
           0,
           3,
           0,
           7,
           6,
           0
          ]
         ],
         "zmax": 9,
         "zmin": 0
        },
        {
         "colorscale": [
          [
           0,
           "white"
          ],
          [
           0.1,
           "lightblue"
          ],
          [
           0.2,
           "skyblue"
          ],
          [
           0.3,
           "dodgerblue"
          ],
          [
           0.4,
           "steelblue"
          ],
          [
           0.5,
           "deepskyblue"
          ],
          [
           0.6,
           "cornflowerblue"
          ],
          [
           0.7,
           "lightpink"
          ],
          [
           0.8,
           "salmon"
          ],
          [
           0.9,
           "tomato"
          ],
          [
           1,
           "orangered"
          ]
         ],
         "hoverinfo": "text",
         "showscale": false,
         "text": [
          [
           "",
           "",
           "M2",
           "",
           "",
           "P6",
           "P4",
           "P2\n(T8)"
          ],
          [
           "P3\n(T8)",
           "",
           "P6",
           "",
           "",
           "",
           "P1",
           "P2\n(T8)"
          ],
          [
           "P3\n(T8)",
           "M2",
           "",
           "P5",
           "",
           "P6",
           "P4",
           "P2\n(T8)"
          ],
          [
           "P1\n(T8)",
           "",
           "M3",
           "",
           "",
           "",
           "M2",
           "P2\n(T8)"
          ],
          [
           "P4\n(T8)",
           "M2",
           "",
           "M2",
           "",
           "P2",
           "P3",
           "P2\n(T8)"
          ]
         ],
         "textfont": {
          "size": 10
         },
         "texttemplate": "%{text}",
         "type": "heatmap",
         "visible": false,
         "x": [
          "08:00-09:00",
          "09:00-10:00",
          "10:00-11:00",
          "11:00-12:00",
          "12:00-13:00",
          "13:00-14:00",
          "14:00-15:00",
          "15:00-16:00"
         ],
         "y": [
          "Mon",
          "Tue",
          "Wed",
          "Thu",
          "Fri"
         ],
         "z": [
          [
           0,
           0,
           8,
           0,
           0,
           6,
           4,
           2
          ],
          [
           3,
           0,
           6,
           0,
           0,
           0,
           1,
           2
          ],
          [
           3,
           8,
           0,
           5,
           0,
           6,
           4,
           2
          ],
          [
           1,
           0,
           9,
           0,
           0,
           0,
           8,
           2
          ],
          [
           4,
           8,
           0,
           8,
           0,
           2,
           3,
           2
          ]
         ],
         "zmax": 9,
         "zmin": 0
        },
        {
         "colorscale": [
          [
           0,
           "white"
          ],
          [
           0.1,
           "lightblue"
          ],
          [
           0.2,
           "skyblue"
          ],
          [
           0.3,
           "dodgerblue"
          ],
          [
           0.4,
           "steelblue"
          ],
          [
           0.5,
           "deepskyblue"
          ],
          [
           0.6,
           "cornflowerblue"
          ],
          [
           0.7,
           "lightpink"
          ],
          [
           0.8,
           "salmon"
          ],
          [
           0.9,
           "tomato"
          ],
          [
           1,
           "orangered"
          ]
         ],
         "hoverinfo": "text",
         "showscale": false,
         "text": [
          [
           "M3\n(T9)",
           "P2",
           "M3",
           "P6",
           "",
           "",
           "",
           "M3\n(T9)"
          ],
          [
           "M1\n(T9)",
           "",
           "P1",
           "M3",
           "",
           "P6",
           "P3",
           "M3\n(T9)"
          ],
          [
           "",
           "P5",
           "",
           "",
           "",
           "M3",
           "P2",
           "M3\n(T9)"
          ],
          [
           "",
           "P4",
           "M1",
           "P5",
           "",
           "M3",
           "P6",
           "M3\n(T9)"
          ],
          [
           "P3\n(T9)",
           "P4",
           "P5",
           "",
           "",
           "",
           "M2",
           "M3\n(T9)"
          ]
         ],
         "textfont": {
          "size": 10
         },
         "texttemplate": "%{text}",
         "type": "heatmap",
         "visible": false,
         "x": [
          "08:00-09:00",
          "09:00-10:00",
          "10:00-11:00",
          "11:00-12:00",
          "12:00-13:00",
          "13:00-14:00",
          "14:00-15:00",
          "15:00-16:00"
         ],
         "y": [
          "Mon",
          "Tue",
          "Wed",
          "Thu",
          "Fri"
         ],
         "z": [
          [
           9,
           2,
           9,
           6,
           0,
           0,
           0,
           9
          ],
          [
           7,
           0,
           1,
           9,
           0,
           6,
           3,
           9
          ],
          [
           0,
           5,
           0,
           0,
           0,
           9,
           2,
           9
          ],
          [
           0,
           4,
           7,
           5,
           0,
           9,
           6,
           9
          ],
          [
           3,
           4,
           5,
           0,
           0,
           0,
           8,
           9
          ]
         ],
         "zmax": 9,
         "zmin": 0
        }
       ],
       "layout": {
        "height": 600,
        "margin": {
         "b": 50,
         "l": 50,
         "r": 150,
         "t": 100
        },
        "template": {
         "data": {
          "bar": [
           {
            "error_x": {
             "color": "#2a3f5f"
            },
            "error_y": {
             "color": "#2a3f5f"
            },
            "marker": {
             "line": {
              "color": "#E5ECF6",
              "width": 0.5
             },
             "pattern": {
              "fillmode": "overlay",
              "size": 10,
              "solidity": 0.2
             }
            },
            "type": "bar"
           }
          ],
          "barpolar": [
           {
            "marker": {
             "line": {
              "color": "#E5ECF6",
              "width": 0.5
             },
             "pattern": {
              "fillmode": "overlay",
              "size": 10,
              "solidity": 0.2
             }
            },
            "type": "barpolar"
           }
          ],
          "carpet": [
           {
            "aaxis": {
             "endlinecolor": "#2a3f5f",
             "gridcolor": "white",
             "linecolor": "white",
             "minorgridcolor": "white",
             "startlinecolor": "#2a3f5f"
            },
            "baxis": {
             "endlinecolor": "#2a3f5f",
             "gridcolor": "white",
             "linecolor": "white",
             "minorgridcolor": "white",
             "startlinecolor": "#2a3f5f"
            },
            "type": "carpet"
           }
          ],
          "choropleth": [
           {
            "colorbar": {
             "outlinewidth": 0,
             "ticks": ""
            },
            "type": "choropleth"
           }
          ],
          "contour": [
           {
            "colorbar": {
             "outlinewidth": 0,
             "ticks": ""
            },
            "colorscale": [
             [
              0,
              "#0d0887"
             ],
             [
              0.1111111111111111,
              "#46039f"
             ],
             [
              0.2222222222222222,
              "#7201a8"
             ],
             [
              0.3333333333333333,
              "#9c179e"
             ],
             [
              0.4444444444444444,
              "#bd3786"
             ],
             [
              0.5555555555555556,
              "#d8576b"
             ],
             [
              0.6666666666666666,
              "#ed7953"
             ],
             [
              0.7777777777777778,
              "#fb9f3a"
             ],
             [
              0.8888888888888888,
              "#fdca26"
             ],
             [
              1,
              "#f0f921"
             ]
            ],
            "type": "contour"
           }
          ],
          "contourcarpet": [
           {
            "colorbar": {
             "outlinewidth": 0,
             "ticks": ""
            },
            "type": "contourcarpet"
           }
          ],
          "heatmap": [
           {
            "colorbar": {
             "outlinewidth": 0,
             "ticks": ""
            },
            "colorscale": [
             [
              0,
              "#0d0887"
             ],
             [
              0.1111111111111111,
              "#46039f"
             ],
             [
              0.2222222222222222,
              "#7201a8"
             ],
             [
              0.3333333333333333,
              "#9c179e"
             ],
             [
              0.4444444444444444,
              "#bd3786"
             ],
             [
              0.5555555555555556,
              "#d8576b"
             ],
             [
              0.6666666666666666,
              "#ed7953"
             ],
             [
              0.7777777777777778,
              "#fb9f3a"
             ],
             [
              0.8888888888888888,
              "#fdca26"
             ],
             [
              1,
              "#f0f921"
             ]
            ],
            "type": "heatmap"
           }
          ],
          "heatmapgl": [
           {
            "colorbar": {
             "outlinewidth": 0,
             "ticks": ""
            },
            "colorscale": [
             [
              0,
              "#0d0887"
             ],
             [
              0.1111111111111111,
              "#46039f"
             ],
             [
              0.2222222222222222,
              "#7201a8"
             ],
             [
              0.3333333333333333,
              "#9c179e"
             ],
             [
              0.4444444444444444,
              "#bd3786"
             ],
             [
              0.5555555555555556,
              "#d8576b"
             ],
             [
              0.6666666666666666,
              "#ed7953"
             ],
             [
              0.7777777777777778,
              "#fb9f3a"
             ],
             [
              0.8888888888888888,
              "#fdca26"
             ],
             [
              1,
              "#f0f921"
             ]
            ],
            "type": "heatmapgl"
           }
          ],
          "histogram": [
           {
            "marker": {
             "pattern": {
              "fillmode": "overlay",
              "size": 10,
              "solidity": 0.2
             }
            },
            "type": "histogram"
           }
          ],
          "histogram2d": [
           {
            "colorbar": {
             "outlinewidth": 0,
             "ticks": ""
            },
            "colorscale": [
             [
              0,
              "#0d0887"
             ],
             [
              0.1111111111111111,
              "#46039f"
             ],
             [
              0.2222222222222222,
              "#7201a8"
             ],
             [
              0.3333333333333333,
              "#9c179e"
             ],
             [
              0.4444444444444444,
              "#bd3786"
             ],
             [
              0.5555555555555556,
              "#d8576b"
             ],
             [
              0.6666666666666666,
              "#ed7953"
             ],
             [
              0.7777777777777778,
              "#fb9f3a"
             ],
             [
              0.8888888888888888,
              "#fdca26"
             ],
             [
              1,
              "#f0f921"
             ]
            ],
            "type": "histogram2d"
           }
          ],
          "histogram2dcontour": [
           {
            "colorbar": {
             "outlinewidth": 0,
             "ticks": ""
            },
            "colorscale": [
             [
              0,
              "#0d0887"
             ],
             [
              0.1111111111111111,
              "#46039f"
             ],
             [
              0.2222222222222222,
              "#7201a8"
             ],
             [
              0.3333333333333333,
              "#9c179e"
             ],
             [
              0.4444444444444444,
              "#bd3786"
             ],
             [
              0.5555555555555556,
              "#d8576b"
             ],
             [
              0.6666666666666666,
              "#ed7953"
             ],
             [
              0.7777777777777778,
              "#fb9f3a"
             ],
             [
              0.8888888888888888,
              "#fdca26"
             ],
             [
              1,
              "#f0f921"
             ]
            ],
            "type": "histogram2dcontour"
           }
          ],
          "mesh3d": [
           {
            "colorbar": {
             "outlinewidth": 0,
             "ticks": ""
            },
            "type": "mesh3d"
           }
          ],
          "parcoords": [
           {
            "line": {
             "colorbar": {
              "outlinewidth": 0,
              "ticks": ""
             }
            },
            "type": "parcoords"
           }
          ],
          "pie": [
           {
            "automargin": true,
            "type": "pie"
           }
          ],
          "scatter": [
           {
            "fillpattern": {
             "fillmode": "overlay",
             "size": 10,
             "solidity": 0.2
            },
            "type": "scatter"
           }
          ],
          "scatter3d": [
           {
            "line": {
             "colorbar": {
              "outlinewidth": 0,
              "ticks": ""
             }
            },
            "marker": {
             "colorbar": {
              "outlinewidth": 0,
              "ticks": ""
             }
            },
            "type": "scatter3d"
           }
          ],
          "scattercarpet": [
           {
            "marker": {
             "colorbar": {
              "outlinewidth": 0,
              "ticks": ""
             }
            },
            "type": "scattercarpet"
           }
          ],
          "scattergeo": [
           {
            "marker": {
             "colorbar": {
              "outlinewidth": 0,
              "ticks": ""
             }
            },
            "type": "scattergeo"
           }
          ],
          "scattergl": [
           {
            "marker": {
             "colorbar": {
              "outlinewidth": 0,
              "ticks": ""
             }
            },
            "type": "scattergl"
           }
          ],
          "scattermapbox": [
           {
            "marker": {
             "colorbar": {
              "outlinewidth": 0,
              "ticks": ""
             }
            },
            "type": "scattermapbox"
           }
          ],
          "scatterpolar": [
           {
            "marker": {
             "colorbar": {
              "outlinewidth": 0,
              "ticks": ""
             }
            },
            "type": "scatterpolar"
           }
          ],
          "scatterpolargl": [
           {
            "marker": {
             "colorbar": {
              "outlinewidth": 0,
              "ticks": ""
             }
            },
            "type": "scatterpolargl"
           }
          ],
          "scatterternary": [
           {
            "marker": {
             "colorbar": {
              "outlinewidth": 0,
              "ticks": ""
             }
            },
            "type": "scatterternary"
           }
          ],
          "surface": [
           {
            "colorbar": {
             "outlinewidth": 0,
             "ticks": ""
            },
            "colorscale": [
             [
              0,
              "#0d0887"
             ],
             [
              0.1111111111111111,
              "#46039f"
             ],
             [
              0.2222222222222222,
              "#7201a8"
             ],
             [
              0.3333333333333333,
              "#9c179e"
             ],
             [
              0.4444444444444444,
              "#bd3786"
             ],
             [
              0.5555555555555556,
              "#d8576b"
             ],
             [
              0.6666666666666666,
              "#ed7953"
             ],
             [
              0.7777777777777778,
              "#fb9f3a"
             ],
             [
              0.8888888888888888,
              "#fdca26"
             ],
             [
              1,
              "#f0f921"
             ]
            ],
            "type": "surface"
           }
          ],
          "table": [
           {
            "cells": {
             "fill": {
              "color": "#EBF0F8"
             },
             "line": {
              "color": "white"
             }
            },
            "header": {
             "fill": {
              "color": "#C8D4E3"
             },
             "line": {
              "color": "white"
             }
            },
            "type": "table"
           }
          ]
         },
         "layout": {
          "annotationdefaults": {
           "arrowcolor": "#2a3f5f",
           "arrowhead": 0,
           "arrowwidth": 1
          },
          "autotypenumbers": "strict",
          "coloraxis": {
           "colorbar": {
            "outlinewidth": 0,
            "ticks": ""
           }
          },
          "colorscale": {
           "diverging": [
            [
             0,
             "#8e0152"
            ],
            [
             0.1,
             "#c51b7d"
            ],
            [
             0.2,
             "#de77ae"
            ],
            [
             0.3,
             "#f1b6da"
            ],
            [
             0.4,
             "#fde0ef"
            ],
            [
             0.5,
             "#f7f7f7"
            ],
            [
             0.6,
             "#e6f5d0"
            ],
            [
             0.7,
             "#b8e186"
            ],
            [
             0.8,
             "#7fbc41"
            ],
            [
             0.9,
             "#4d9221"
            ],
            [
             1,
             "#276419"
            ]
           ],
           "sequential": [
            [
             0,
             "#0d0887"
            ],
            [
             0.1111111111111111,
             "#46039f"
            ],
            [
             0.2222222222222222,
             "#7201a8"
            ],
            [
             0.3333333333333333,
             "#9c179e"
            ],
            [
             0.4444444444444444,
             "#bd3786"
            ],
            [
             0.5555555555555556,
             "#d8576b"
            ],
            [
             0.6666666666666666,
             "#ed7953"
            ],
            [
             0.7777777777777778,
             "#fb9f3a"
            ],
            [
             0.8888888888888888,
             "#fdca26"
            ],
            [
             1,
             "#f0f921"
            ]
           ],
           "sequentialminus": [
            [
             0,
             "#0d0887"
            ],
            [
             0.1111111111111111,
             "#46039f"
            ],
            [
             0.2222222222222222,
             "#7201a8"
            ],
            [
             0.3333333333333333,
             "#9c179e"
            ],
            [
             0.4444444444444444,
             "#bd3786"
            ],
            [
             0.5555555555555556,
             "#d8576b"
            ],
            [
             0.6666666666666666,
             "#ed7953"
            ],
            [
             0.7777777777777778,
             "#fb9f3a"
            ],
            [
             0.8888888888888888,
             "#fdca26"
            ],
            [
             1,
             "#f0f921"
            ]
           ]
          },
          "colorway": [
           "#636efa",
           "#EF553B",
           "#00cc96",
           "#ab63fa",
           "#FFA15A",
           "#19d3f3",
           "#FF6692",
           "#B6E880",
           "#FF97FF",
           "#FECB52"
          ],
          "font": {
           "color": "#2a3f5f"
          },
          "geo": {
           "bgcolor": "white",
           "lakecolor": "white",
           "landcolor": "#E5ECF6",
           "showlakes": true,
           "showland": true,
           "subunitcolor": "white"
          },
          "hoverlabel": {
           "align": "left"
          },
          "hovermode": "closest",
          "mapbox": {
           "style": "light"
          },
          "paper_bgcolor": "white",
          "plot_bgcolor": "#E5ECF6",
          "polar": {
           "angularaxis": {
            "gridcolor": "white",
            "linecolor": "white",
            "ticks": ""
           },
           "bgcolor": "#E5ECF6",
           "radialaxis": {
            "gridcolor": "white",
            "linecolor": "white",
            "ticks": ""
           }
          },
          "scene": {
           "xaxis": {
            "backgroundcolor": "#E5ECF6",
            "gridcolor": "white",
            "gridwidth": 2,
            "linecolor": "white",
            "showbackground": true,
            "ticks": "",
            "zerolinecolor": "white"
           },
           "yaxis": {
            "backgroundcolor": "#E5ECF6",
            "gridcolor": "white",
            "gridwidth": 2,
            "linecolor": "white",
            "showbackground": true,
            "ticks": "",
            "zerolinecolor": "white"
           },
           "zaxis": {
            "backgroundcolor": "#E5ECF6",
            "gridcolor": "white",
            "gridwidth": 2,
            "linecolor": "white",
            "showbackground": true,
            "ticks": "",
            "zerolinecolor": "white"
           }
          },
          "shapedefaults": {
           "line": {
            "color": "#2a3f5f"
           }
          },
          "ternary": {
           "aaxis": {
            "gridcolor": "white",
            "linecolor": "white",
            "ticks": ""
           },
           "baxis": {
            "gridcolor": "white",
            "linecolor": "white",
            "ticks": ""
           },
           "bgcolor": "#E5ECF6",
           "caxis": {
            "gridcolor": "white",
            "linecolor": "white",
            "ticks": ""
           }
          },
          "title": {
           "x": 0.05
          },
          "xaxis": {
           "automargin": true,
           "gridcolor": "white",
           "linecolor": "white",
           "ticks": "",
           "title": {
            "standoff": 15
           },
           "zerolinecolor": "white",
           "zerolinewidth": 2
          },
          "yaxis": {
           "automargin": true,
           "gridcolor": "white",
           "linecolor": "white",
           "ticks": "",
           "title": {
            "standoff": 15
           },
           "zerolinecolor": "white",
           "zerolinewidth": 2
          }
         }
        },
        "title": {
         "text": "Schedule for Teacher",
         "x": 0.5,
         "xanchor": "center"
        },
        "updatemenus": [
         {
          "active": 0,
          "buttons": [
           {
            "args": [
             {
              "visible": [
               true,
               false,
               false,
               false,
               false,
               false,
               false,
               false,
               false,
               false,
               false,
               false,
               false
              ]
             },
             {
              "title": "Schedule for T1"
             }
            ],
            "label": "T1",
            "method": "update"
           },
           {
            "args": [
             {
              "visible": [
               false,
               true,
               false,
               false,
               false,
               false,
               false,
               false,
               false,
               false,
               false,
               false,
               false
              ]
             },
             {
              "title": "Schedule for T10"
             }
            ],
            "label": "T10",
            "method": "update"
           },
           {
            "args": [
             {
              "visible": [
               false,
               false,
               true,
               false,
               false,
               false,
               false,
               false,
               false,
               false,
               false,
               false,
               false
              ]
             },
             {
              "title": "Schedule for T11"
             }
            ],
            "label": "T11",
            "method": "update"
           },
           {
            "args": [
             {
              "visible": [
               false,
               false,
               false,
               true,
               false,
               false,
               false,
               false,
               false,
               false,
               false,
               false,
               false
              ]
             },
             {
              "title": "Schedule for T12"
             }
            ],
            "label": "T12",
            "method": "update"
           },
           {
            "args": [
             {
              "visible": [
               false,
               false,
               false,
               false,
               true,
               false,
               false,
               false,
               false,
               false,
               false,
               false,
               false
              ]
             },
             {
              "title": "Schedule for T13"
             }
            ],
            "label": "T13",
            "method": "update"
           },
           {
            "args": [
             {
              "visible": [
               false,
               false,
               false,
               false,
               false,
               true,
               false,
               false,
               false,
               false,
               false,
               false,
               false
              ]
             },
             {
              "title": "Schedule for T2"
             }
            ],
            "label": "T2",
            "method": "update"
           },
           {
            "args": [
             {
              "visible": [
               false,
               false,
               false,
               false,
               false,
               false,
               true,
               false,
               false,
               false,
               false,
               false,
               false
              ]
             },
             {
              "title": "Schedule for T3"
             }
            ],
            "label": "T3",
            "method": "update"
           },
           {
            "args": [
             {
              "visible": [
               false,
               false,
               false,
               false,
               false,
               false,
               false,
               true,
               false,
               false,
               false,
               false,
               false
              ]
             },
             {
              "title": "Schedule for T4"
             }
            ],
            "label": "T4",
            "method": "update"
           },
           {
            "args": [
             {
              "visible": [
               false,
               false,
               false,
               false,
               false,
               false,
               false,
               false,
               true,
               false,
               false,
               false,
               false
              ]
             },
             {
              "title": "Schedule for T5"
             }
            ],
            "label": "T5",
            "method": "update"
           },
           {
            "args": [
             {
              "visible": [
               false,
               false,
               false,
               false,
               false,
               false,
               false,
               false,
               false,
               true,
               false,
               false,
               false
              ]
             },
             {
              "title": "Schedule for T6"
             }
            ],
            "label": "T6",
            "method": "update"
           },
           {
            "args": [
             {
              "visible": [
               false,
               false,
               false,
               false,
               false,
               false,
               false,
               false,
               false,
               false,
               true,
               false,
               false
              ]
             },
             {
              "title": "Schedule for T7"
             }
            ],
            "label": "T7",
            "method": "update"
           },
           {
            "args": [
             {
              "visible": [
               false,
               false,
               false,
               false,
               false,
               false,
               false,
               false,
               false,
               false,
               false,
               true,
               false
              ]
             },
             {
              "title": "Schedule for T8"
             }
            ],
            "label": "T8",
            "method": "update"
           },
           {
            "args": [
             {
              "visible": [
               false,
               false,
               false,
               false,
               false,
               false,
               false,
               false,
               false,
               false,
               false,
               false,
               true
              ]
             },
             {
              "title": "Schedule for T9"
             }
            ],
            "label": "T9",
            "method": "update"
           }
          ],
          "x": 1.1,
          "xanchor": "left",
          "y": 1,
          "yanchor": "top"
         }
        ],
        "width": 1200,
        "xaxis": {
         "gridcolor": "black",
         "showgrid": true,
         "side": "top",
         "tickmode": "array",
         "ticktext": [
          "08:00-09:00",
          "09:00-10:00",
          "10:00-11:00",
          "11:00-12:00",
          "12:00-13:00",
          "13:00-14:00",
          "14:00-15:00",
          "15:00-16:00"
         ],
         "tickvals": [
          "08:00-09:00",
          "09:00-10:00",
          "10:00-11:00",
          "11:00-12:00",
          "12:00-13:00",
          "13:00-14:00",
          "14:00-15:00",
          "15:00-16:00"
         ]
        },
        "yaxis": {
         "autorange": "reversed",
         "gridcolor": "black",
         "showgrid": true,
         "title": {
          "text": "Day"
         }
        }
       }
      }
     },
     "metadata": {},
     "output_type": "display_data"
    },
    {
     "data": {
      "application/vnd.plotly.v1+json": {
       "config": {
        "plotlyServerURL": "https://plot.ly"
       },
       "data": [
        {
         "colorscale": [
          [
           0,
           "white"
          ],
          [
           1,
           "lightgreen"
          ]
         ],
         "hoverinfo": "text",
         "showscale": false,
         "text": [
          [
           "T13",
           "T11",
           "T12",
           "T2",
           "",
           "T1",
           "T11",
           "T6"
          ],
          [
           "T7",
           "T5",
           "T9",
           "T13",
           "",
           "T4",
           "T8",
           "T6"
          ],
          [
           "T5",
           "T1",
           "T12",
           "T10",
           "",
           "T1",
           "T3",
           "T6"
          ],
          [
           "T8",
           "T13",
           "T12",
           "T11",
           "",
           "T10",
           "T4",
           "T6"
          ],
          [
           "T6",
           "T1",
           "T12",
           "T4",
           "",
           "T6",
           "T13",
           "T6"
          ]
         ],
         "textfont": {
          "size": 10
         },
         "texttemplate": "%{text}",
         "type": "heatmap",
         "visible": true,
         "x": [
          "08:00-09:00",
          "09:00-10:00",
          "10:00-11:00",
          "11:00-12:00",
          "12:00-13:00",
          "13:00-14:00",
          "14:00-15:00",
          "15:00-16:00"
         ],
         "y": [
          "Mon",
          "Tue",
          "Wed",
          "Thu",
          "Fri"
         ],
         "z": [
          [
           1,
           1,
           1,
           1,
           0,
           1,
           1,
           1
          ],
          [
           1,
           1,
           1,
           1,
           0,
           1,
           1,
           1
          ],
          [
           1,
           1,
           1,
           1,
           0,
           1,
           1,
           1
          ],
          [
           1,
           1,
           1,
           1,
           0,
           1,
           1,
           1
          ],
          [
           1,
           1,
           1,
           1,
           0,
           1,
           1,
           1
          ]
         ],
         "zmax": 1,
         "zmin": 0
        },
        {
         "colorscale": [
          [
           0,
           "white"
          ],
          [
           1,
           "lightgreen"
          ]
         ],
         "hoverinfo": "text",
         "showscale": false,
         "text": [
          [
           "T12",
           "T9",
           "T5",
           "T10",
           "",
           "T10",
           "T3",
           "T8"
          ],
          [
           "T4",
           "T7",
           "T12",
           "T1",
           "",
           "T3",
           "T1",
           "T8"
          ],
          [
           "T4",
           "T11",
           "T13",
           "T2",
           "",
           "T5",
           "T9",
           "T8"
          ],
          [
           "T3",
           "T11",
           "T10",
           "T7",
           "",
           "T13",
           "T5",
           "T8"
          ],
          [
           "T10",
           "T12",
           "T6",
           "T10",
           "",
           "T8",
           "T2",
           "T8"
          ]
         ],
         "textfont": {
          "size": 10
         },
         "texttemplate": "%{text}",
         "type": "heatmap",
         "visible": false,
         "x": [
          "08:00-09:00",
          "09:00-10:00",
          "10:00-11:00",
          "11:00-12:00",
          "12:00-13:00",
          "13:00-14:00",
          "14:00-15:00",
          "15:00-16:00"
         ],
         "y": [
          "Mon",
          "Tue",
          "Wed",
          "Thu",
          "Fri"
         ],
         "z": [
          [
           1,
           1,
           1,
           1,
           0,
           1,
           1,
           1
          ],
          [
           1,
           1,
           1,
           1,
           0,
           1,
           1,
           1
          ],
          [
           1,
           1,
           1,
           1,
           0,
           1,
           1,
           1
          ],
          [
           1,
           1,
           1,
           1,
           0,
           1,
           1,
           1
          ],
          [
           1,
           1,
           1,
           1,
           0,
           1,
           1,
           1
          ]
         ],
         "zmax": 1,
         "zmin": 0
        },
        {
         "colorscale": [
          [
           0,
           "white"
          ],
          [
           1,
           "lightgreen"
          ]
         ],
         "hoverinfo": "text",
         "showscale": false,
         "text": [
          [
           "T10",
           "T1",
           "T7",
           "T3",
           "",
           "T4",
           "T10",
           "T2"
          ],
          [
           "T8",
           "T2",
           "T11",
           "T10",
           "",
           "T12",
           "T9",
           "T2"
          ],
          [
           "T8",
           "T12",
           "T6",
           "T7",
           "",
           "T7",
           "T10",
           "T2"
          ],
          [
           "T5",
           "T1",
           "T2",
           "T3",
           "",
           "T6",
           "T7",
           "T2"
          ],
          [
           "T9",
           "T10",
           "T3",
           "T7",
           "",
           "T12",
           "T8",
           "T2"
          ]
         ],
         "textfont": {
          "size": 10
         },
         "texttemplate": "%{text}",
         "type": "heatmap",
         "visible": false,
         "x": [
          "08:00-09:00",
          "09:00-10:00",
          "10:00-11:00",
          "11:00-12:00",
          "12:00-13:00",
          "13:00-14:00",
          "14:00-15:00",
          "15:00-16:00"
         ],
         "y": [
          "Mon",
          "Tue",
          "Wed",
          "Thu",
          "Fri"
         ],
         "z": [
          [
           1,
           1,
           1,
           1,
           0,
           1,
           1,
           1
          ],
          [
           1,
           1,
           1,
           1,
           0,
           1,
           1,
           1
          ],
          [
           1,
           1,
           1,
           1,
           0,
           1,
           1,
           1
          ],
          [
           1,
           1,
           1,
           1,
           0,
           1,
           1,
           1
          ],
          [
           1,
           1,
           1,
           1,
           0,
           1,
           1,
           1
          ]
         ],
         "zmax": 1,
         "zmin": 0
        },
        {
         "colorscale": [
          [
           0,
           "white"
          ],
          [
           1,
           "lightgreen"
          ]
         ],
         "hoverinfo": "text",
         "showscale": false,
         "text": [
          [
           "T6",
           "T5",
           "T13",
           "T5",
           "",
           "T5",
           "T8",
           "T3"
          ],
          [
           "T2",
           "T11",
           "T7",
           "T5",
           "",
           "T5",
           "T2",
           "T3"
          ],
          [
           "T13",
           "T10",
           "T11",
           "T13",
           "",
           "T3",
           "T8",
           "T3"
          ],
          [
           "T12",
           "T9",
           "T4",
           "T13",
           "",
           "T12",
           "T2",
           "T3"
          ],
          [
           "T8",
           "T9",
           "T4",
           "T5",
           "",
           "T2",
           "T4",
           "T3"
          ]
         ],
         "textfont": {
          "size": 10
         },
         "texttemplate": "%{text}",
         "type": "heatmap",
         "visible": false,
         "x": [
          "08:00-09:00",
          "09:00-10:00",
          "10:00-11:00",
          "11:00-12:00",
          "12:00-13:00",
          "13:00-14:00",
          "14:00-15:00",
          "15:00-16:00"
         ],
         "y": [
          "Mon",
          "Tue",
          "Wed",
          "Thu",
          "Fri"
         ],
         "z": [
          [
           1,
           1,
           1,
           1,
           0,
           1,
           1,
           1
          ],
          [
           1,
           1,
           1,
           1,
           0,
           1,
           1,
           1
          ],
          [
           1,
           1,
           1,
           1,
           0,
           1,
           1,
           1
          ],
          [
           1,
           1,
           1,
           1,
           0,
           1,
           1,
           1
          ],
          [
           1,
           1,
           1,
           1,
           0,
           1,
           1,
           1
          ]
         ],
         "zmax": 1,
         "zmin": 0
        },
        {
         "colorscale": [
          [
           0,
           "white"
          ],
          [
           1,
           "lightgreen"
          ]
         ],
         "hoverinfo": "text",
         "showscale": false,
         "text": [
          [
           "T2",
           "T12",
           "T6",
           "T1",
           "",
           "T2",
           "T7",
           "T11, T12"
          ],
          [
           "T10",
           "T3",
           "T5",
           "T4",
           "",
           "T6",
           "T11",
           "T11, T12"
          ],
          [
           "T3",
           "T9",
           "T10",
           "T8",
           "",
           "T6",
           "T4",
           "T11, T12"
          ],
          [
           "T11",
           "T7",
           "T13",
           "T9",
           "",
           "T3",
           "T10",
           "T11, T12"
          ],
          [
           "T1",
           "T13",
           "T9",
           "T1",
           "",
           "T13",
           "T12",
           "T11, T12"
          ]
         ],
         "textfont": {
          "size": 10
         },
         "texttemplate": "%{text}",
         "type": "heatmap",
         "visible": false,
         "x": [
          "08:00-09:00",
          "09:00-10:00",
          "10:00-11:00",
          "11:00-12:00",
          "12:00-13:00",
          "13:00-14:00",
          "14:00-15:00",
          "15:00-16:00"
         ],
         "y": [
          "Mon",
          "Tue",
          "Wed",
          "Thu",
          "Fri"
         ],
         "z": [
          [
           1,
           1,
           1,
           1,
           0,
           1,
           1,
           1
          ],
          [
           1,
           1,
           1,
           1,
           0,
           1,
           1,
           1
          ],
          [
           1,
           1,
           1,
           1,
           0,
           1,
           1,
           1
          ],
          [
           1,
           1,
           1,
           1,
           0,
           1,
           1,
           1
          ],
          [
           1,
           1,
           1,
           1,
           0,
           1,
           1,
           1
          ]
         ],
         "zmax": 1,
         "zmin": 0
        },
        {
         "colorscale": [
          [
           0,
           "white"
          ],
          [
           1,
           "lightgreen"
          ]
         ],
         "hoverinfo": "text",
         "showscale": false,
         "text": [
          [
           "T4",
           "T7",
           "T3",
           "T9",
           "",
           "T8",
           "T12",
           "T5"
          ],
          [
           "T5",
           "T6",
           "T8",
           "T2",
           "",
           "T9",
           "T7",
           "T5"
          ],
          [
           "T2",
           "T6",
           "T7",
           "T6",
           "",
           "T8",
           "T12",
           "T5"
          ],
          [
           "T2",
           "T10",
           "T6",
           "T1",
           "",
           "T4",
           "T9",
           "T5"
          ],
          [
           "T2",
           "T6",
           "T13",
           "T11",
           "",
           "T1",
           "T7",
           "T5"
          ]
         ],
         "textfont": {
          "size": 10
         },
         "texttemplate": "%{text}",
         "type": "heatmap",
         "visible": false,
         "x": [
          "08:00-09:00",
          "09:00-10:00",
          "10:00-11:00",
          "11:00-12:00",
          "12:00-13:00",
          "13:00-14:00",
          "14:00-15:00",
          "15:00-16:00"
         ],
         "y": [
          "Mon",
          "Tue",
          "Wed",
          "Thu",
          "Fri"
         ],
         "z": [
          [
           1,
           1,
           1,
           1,
           0,
           1,
           1,
           1
          ],
          [
           1,
           1,
           1,
           1,
           0,
           1,
           1,
           1
          ],
          [
           1,
           1,
           1,
           1,
           0,
           1,
           1,
           1
          ],
          [
           1,
           1,
           1,
           1,
           0,
           1,
           1,
           1
          ],
          [
           1,
           1,
           1,
           1,
           0,
           1,
           1,
           1
          ]
         ],
         "zmax": 1,
         "zmin": 0
        },
        {
         "colorscale": [
          [
           0,
           "white"
          ],
          [
           1,
           "lightgreen"
          ]
         ],
         "hoverinfo": "text",
         "showscale": false,
         "text": [
          [
           "T7",
           "T10",
           "T11",
           "T13",
           "",
           "T12",
           "T1",
           "T10"
          ],
          [
           "T9",
           "T10",
           "T3",
           "T11",
           "",
           "T1",
           "T12",
           "T10"
          ],
          [
           "T11",
           "T7",
           "T5",
           "T4",
           "",
           "T10",
           "T13",
           "T10"
          ],
          [
           "T13",
           "T6",
           "T9",
           "T10",
           "",
           "T5",
           "T11",
           "T10"
          ],
          [
           "T11",
           "T7",
           "T5",
           "T6",
           "",
           "T7",
           "T3",
           "T10"
          ]
         ],
         "textfont": {
          "size": 10
         },
         "texttemplate": "%{text}",
         "type": "heatmap",
         "visible": false,
         "x": [
          "08:00-09:00",
          "09:00-10:00",
          "10:00-11:00",
          "11:00-12:00",
          "12:00-13:00",
          "13:00-14:00",
          "14:00-15:00",
          "15:00-16:00"
         ],
         "y": [
          "Mon",
          "Tue",
          "Wed",
          "Thu",
          "Fri"
         ],
         "z": [
          [
           1,
           1,
           1,
           1,
           0,
           1,
           1,
           1
          ],
          [
           1,
           1,
           1,
           1,
           0,
           1,
           1,
           1
          ],
          [
           1,
           1,
           1,
           1,
           0,
           1,
           1,
           1
          ],
          [
           1,
           1,
           1,
           1,
           0,
           1,
           1,
           1
          ],
          [
           1,
           1,
           1,
           1,
           0,
           1,
           1,
           1
          ]
         ],
         "zmax": 1,
         "zmin": 0
        },
        {
         "colorscale": [
          [
           0,
           "white"
          ],
          [
           1,
           "lightgreen"
          ]
         ],
         "hoverinfo": "text",
         "showscale": false,
         "text": [
          [
           "T11",
           "T6",
           "T8",
           "T7",
           "",
           "T6",
           "T4",
           "T1, T4"
          ],
          [
           "T1",
           "T13",
           "T4",
           "T7",
           "",
           "T11",
           "T5",
           "T1, T4"
          ],
          [
           "T7",
           "T8",
           "T4",
           "T5",
           "",
           "T11",
           "T1",
           "T1, T4"
          ],
          [
           "T6",
           "T4",
           "T7",
           "T4",
           "",
           "T11",
           "T8",
           "T1, T4"
          ],
          [
           "T7",
           "T8",
           "T11",
           "T8",
           "",
           "T3",
           "T9",
           "T1, T4"
          ]
         ],
         "textfont": {
          "size": 10
         },
         "texttemplate": "%{text}",
         "type": "heatmap",
         "visible": false,
         "x": [
          "08:00-09:00",
          "09:00-10:00",
          "10:00-11:00",
          "11:00-12:00",
          "12:00-13:00",
          "13:00-14:00",
          "14:00-15:00",
          "15:00-16:00"
         ],
         "y": [
          "Mon",
          "Tue",
          "Wed",
          "Thu",
          "Fri"
         ],
         "z": [
          [
           1,
           1,
           1,
           1,
           0,
           1,
           1,
           1
          ],
          [
           1,
           1,
           1,
           1,
           0,
           1,
           1,
           1
          ],
          [
           1,
           1,
           1,
           1,
           0,
           1,
           1,
           1
          ],
          [
           1,
           1,
           1,
           1,
           0,
           1,
           1,
           1
          ],
          [
           1,
           1,
           1,
           1,
           0,
           1,
           1,
           1
          ]
         ],
         "zmax": 1,
         "zmin": 0
        },
        {
         "colorscale": [
          [
           0,
           "white"
          ],
          [
           1,
           "lightgreen"
          ]
         ],
         "hoverinfo": "text",
         "showscale": false,
         "text": [
          [
           "T9",
           "T2",
           "T9",
           "T4",
           "",
           "T13",
           "T2",
           "T9"
          ],
          [
           "T13",
           "T1",
           "T6",
           "T9",
           "",
           "T10",
           "T4",
           "T9"
          ],
          [
           "T10",
           "T13",
           "T1",
           "T11",
           "",
           "T9",
           "T2",
           "T9"
          ],
          [
           "T4",
           "T12",
           "T8",
           "T2",
           "",
           "T9",
           "T13",
           "T9"
          ],
          [
           "T4",
           "T11",
           "T10",
           "T13",
           "",
           "T5",
           "T6",
           "T9"
          ]
         ],
         "textfont": {
          "size": 10
         },
         "texttemplate": "%{text}",
         "type": "heatmap",
         "visible": false,
         "x": [
          "08:00-09:00",
          "09:00-10:00",
          "10:00-11:00",
          "11:00-12:00",
          "12:00-13:00",
          "13:00-14:00",
          "14:00-15:00",
          "15:00-16:00"
         ],
         "y": [
          "Mon",
          "Tue",
          "Wed",
          "Thu",
          "Fri"
         ],
         "z": [
          [
           1,
           1,
           1,
           1,
           0,
           1,
           1,
           1
          ],
          [
           1,
           1,
           1,
           1,
           0,
           1,
           1,
           1
          ],
          [
           1,
           1,
           1,
           1,
           0,
           1,
           1,
           1
          ],
          [
           1,
           1,
           1,
           1,
           0,
           1,
           1,
           1
          ],
          [
           1,
           1,
           1,
           1,
           0,
           1,
           1,
           1
          ]
         ],
         "zmax": 1,
         "zmin": 0
        }
       ],
       "layout": {
        "height": 600,
        "margin": {
         "b": 50,
         "l": 50,
         "r": 150,
         "t": 100
        },
        "template": {
         "data": {
          "bar": [
           {
            "error_x": {
             "color": "#2a3f5f"
            },
            "error_y": {
             "color": "#2a3f5f"
            },
            "marker": {
             "line": {
              "color": "#E5ECF6",
              "width": 0.5
             },
             "pattern": {
              "fillmode": "overlay",
              "size": 10,
              "solidity": 0.2
             }
            },
            "type": "bar"
           }
          ],
          "barpolar": [
           {
            "marker": {
             "line": {
              "color": "#E5ECF6",
              "width": 0.5
             },
             "pattern": {
              "fillmode": "overlay",
              "size": 10,
              "solidity": 0.2
             }
            },
            "type": "barpolar"
           }
          ],
          "carpet": [
           {
            "aaxis": {
             "endlinecolor": "#2a3f5f",
             "gridcolor": "white",
             "linecolor": "white",
             "minorgridcolor": "white",
             "startlinecolor": "#2a3f5f"
            },
            "baxis": {
             "endlinecolor": "#2a3f5f",
             "gridcolor": "white",
             "linecolor": "white",
             "minorgridcolor": "white",
             "startlinecolor": "#2a3f5f"
            },
            "type": "carpet"
           }
          ],
          "choropleth": [
           {
            "colorbar": {
             "outlinewidth": 0,
             "ticks": ""
            },
            "type": "choropleth"
           }
          ],
          "contour": [
           {
            "colorbar": {
             "outlinewidth": 0,
             "ticks": ""
            },
            "colorscale": [
             [
              0,
              "#0d0887"
             ],
             [
              0.1111111111111111,
              "#46039f"
             ],
             [
              0.2222222222222222,
              "#7201a8"
             ],
             [
              0.3333333333333333,
              "#9c179e"
             ],
             [
              0.4444444444444444,
              "#bd3786"
             ],
             [
              0.5555555555555556,
              "#d8576b"
             ],
             [
              0.6666666666666666,
              "#ed7953"
             ],
             [
              0.7777777777777778,
              "#fb9f3a"
             ],
             [
              0.8888888888888888,
              "#fdca26"
             ],
             [
              1,
              "#f0f921"
             ]
            ],
            "type": "contour"
           }
          ],
          "contourcarpet": [
           {
            "colorbar": {
             "outlinewidth": 0,
             "ticks": ""
            },
            "type": "contourcarpet"
           }
          ],
          "heatmap": [
           {
            "colorbar": {
             "outlinewidth": 0,
             "ticks": ""
            },
            "colorscale": [
             [
              0,
              "#0d0887"
             ],
             [
              0.1111111111111111,
              "#46039f"
             ],
             [
              0.2222222222222222,
              "#7201a8"
             ],
             [
              0.3333333333333333,
              "#9c179e"
             ],
             [
              0.4444444444444444,
              "#bd3786"
             ],
             [
              0.5555555555555556,
              "#d8576b"
             ],
             [
              0.6666666666666666,
              "#ed7953"
             ],
             [
              0.7777777777777778,
              "#fb9f3a"
             ],
             [
              0.8888888888888888,
              "#fdca26"
             ],
             [
              1,
              "#f0f921"
             ]
            ],
            "type": "heatmap"
           }
          ],
          "heatmapgl": [
           {
            "colorbar": {
             "outlinewidth": 0,
             "ticks": ""
            },
            "colorscale": [
             [
              0,
              "#0d0887"
             ],
             [
              0.1111111111111111,
              "#46039f"
             ],
             [
              0.2222222222222222,
              "#7201a8"
             ],
             [
              0.3333333333333333,
              "#9c179e"
             ],
             [
              0.4444444444444444,
              "#bd3786"
             ],
             [
              0.5555555555555556,
              "#d8576b"
             ],
             [
              0.6666666666666666,
              "#ed7953"
             ],
             [
              0.7777777777777778,
              "#fb9f3a"
             ],
             [
              0.8888888888888888,
              "#fdca26"
             ],
             [
              1,
              "#f0f921"
             ]
            ],
            "type": "heatmapgl"
           }
          ],
          "histogram": [
           {
            "marker": {
             "pattern": {
              "fillmode": "overlay",
              "size": 10,
              "solidity": 0.2
             }
            },
            "type": "histogram"
           }
          ],
          "histogram2d": [
           {
            "colorbar": {
             "outlinewidth": 0,
             "ticks": ""
            },
            "colorscale": [
             [
              0,
              "#0d0887"
             ],
             [
              0.1111111111111111,
              "#46039f"
             ],
             [
              0.2222222222222222,
              "#7201a8"
             ],
             [
              0.3333333333333333,
              "#9c179e"
             ],
             [
              0.4444444444444444,
              "#bd3786"
             ],
             [
              0.5555555555555556,
              "#d8576b"
             ],
             [
              0.6666666666666666,
              "#ed7953"
             ],
             [
              0.7777777777777778,
              "#fb9f3a"
             ],
             [
              0.8888888888888888,
              "#fdca26"
             ],
             [
              1,
              "#f0f921"
             ]
            ],
            "type": "histogram2d"
           }
          ],
          "histogram2dcontour": [
           {
            "colorbar": {
             "outlinewidth": 0,
             "ticks": ""
            },
            "colorscale": [
             [
              0,
              "#0d0887"
             ],
             [
              0.1111111111111111,
              "#46039f"
             ],
             [
              0.2222222222222222,
              "#7201a8"
             ],
             [
              0.3333333333333333,
              "#9c179e"
             ],
             [
              0.4444444444444444,
              "#bd3786"
             ],
             [
              0.5555555555555556,
              "#d8576b"
             ],
             [
              0.6666666666666666,
              "#ed7953"
             ],
             [
              0.7777777777777778,
              "#fb9f3a"
             ],
             [
              0.8888888888888888,
              "#fdca26"
             ],
             [
              1,
              "#f0f921"
             ]
            ],
            "type": "histogram2dcontour"
           }
          ],
          "mesh3d": [
           {
            "colorbar": {
             "outlinewidth": 0,
             "ticks": ""
            },
            "type": "mesh3d"
           }
          ],
          "parcoords": [
           {
            "line": {
             "colorbar": {
              "outlinewidth": 0,
              "ticks": ""
             }
            },
            "type": "parcoords"
           }
          ],
          "pie": [
           {
            "automargin": true,
            "type": "pie"
           }
          ],
          "scatter": [
           {
            "fillpattern": {
             "fillmode": "overlay",
             "size": 10,
             "solidity": 0.2
            },
            "type": "scatter"
           }
          ],
          "scatter3d": [
           {
            "line": {
             "colorbar": {
              "outlinewidth": 0,
              "ticks": ""
             }
            },
            "marker": {
             "colorbar": {
              "outlinewidth": 0,
              "ticks": ""
             }
            },
            "type": "scatter3d"
           }
          ],
          "scattercarpet": [
           {
            "marker": {
             "colorbar": {
              "outlinewidth": 0,
              "ticks": ""
             }
            },
            "type": "scattercarpet"
           }
          ],
          "scattergeo": [
           {
            "marker": {
             "colorbar": {
              "outlinewidth": 0,
              "ticks": ""
             }
            },
            "type": "scattergeo"
           }
          ],
          "scattergl": [
           {
            "marker": {
             "colorbar": {
              "outlinewidth": 0,
              "ticks": ""
             }
            },
            "type": "scattergl"
           }
          ],
          "scattermapbox": [
           {
            "marker": {
             "colorbar": {
              "outlinewidth": 0,
              "ticks": ""
             }
            },
            "type": "scattermapbox"
           }
          ],
          "scatterpolar": [
           {
            "marker": {
             "colorbar": {
              "outlinewidth": 0,
              "ticks": ""
             }
            },
            "type": "scatterpolar"
           }
          ],
          "scatterpolargl": [
           {
            "marker": {
             "colorbar": {
              "outlinewidth": 0,
              "ticks": ""
             }
            },
            "type": "scatterpolargl"
           }
          ],
          "scatterternary": [
           {
            "marker": {
             "colorbar": {
              "outlinewidth": 0,
              "ticks": ""
             }
            },
            "type": "scatterternary"
           }
          ],
          "surface": [
           {
            "colorbar": {
             "outlinewidth": 0,
             "ticks": ""
            },
            "colorscale": [
             [
              0,
              "#0d0887"
             ],
             [
              0.1111111111111111,
              "#46039f"
             ],
             [
              0.2222222222222222,
              "#7201a8"
             ],
             [
              0.3333333333333333,
              "#9c179e"
             ],
             [
              0.4444444444444444,
              "#bd3786"
             ],
             [
              0.5555555555555556,
              "#d8576b"
             ],
             [
              0.6666666666666666,
              "#ed7953"
             ],
             [
              0.7777777777777778,
              "#fb9f3a"
             ],
             [
              0.8888888888888888,
              "#fdca26"
             ],
             [
              1,
              "#f0f921"
             ]
            ],
            "type": "surface"
           }
          ],
          "table": [
           {
            "cells": {
             "fill": {
              "color": "#EBF0F8"
             },
             "line": {
              "color": "white"
             }
            },
            "header": {
             "fill": {
              "color": "#C8D4E3"
             },
             "line": {
              "color": "white"
             }
            },
            "type": "table"
           }
          ]
         },
         "layout": {
          "annotationdefaults": {
           "arrowcolor": "#2a3f5f",
           "arrowhead": 0,
           "arrowwidth": 1
          },
          "autotypenumbers": "strict",
          "coloraxis": {
           "colorbar": {
            "outlinewidth": 0,
            "ticks": ""
           }
          },
          "colorscale": {
           "diverging": [
            [
             0,
             "#8e0152"
            ],
            [
             0.1,
             "#c51b7d"
            ],
            [
             0.2,
             "#de77ae"
            ],
            [
             0.3,
             "#f1b6da"
            ],
            [
             0.4,
             "#fde0ef"
            ],
            [
             0.5,
             "#f7f7f7"
            ],
            [
             0.6,
             "#e6f5d0"
            ],
            [
             0.7,
             "#b8e186"
            ],
            [
             0.8,
             "#7fbc41"
            ],
            [
             0.9,
             "#4d9221"
            ],
            [
             1,
             "#276419"
            ]
           ],
           "sequential": [
            [
             0,
             "#0d0887"
            ],
            [
             0.1111111111111111,
             "#46039f"
            ],
            [
             0.2222222222222222,
             "#7201a8"
            ],
            [
             0.3333333333333333,
             "#9c179e"
            ],
            [
             0.4444444444444444,
             "#bd3786"
            ],
            [
             0.5555555555555556,
             "#d8576b"
            ],
            [
             0.6666666666666666,
             "#ed7953"
            ],
            [
             0.7777777777777778,
             "#fb9f3a"
            ],
            [
             0.8888888888888888,
             "#fdca26"
            ],
            [
             1,
             "#f0f921"
            ]
           ],
           "sequentialminus": [
            [
             0,
             "#0d0887"
            ],
            [
             0.1111111111111111,
             "#46039f"
            ],
            [
             0.2222222222222222,
             "#7201a8"
            ],
            [
             0.3333333333333333,
             "#9c179e"
            ],
            [
             0.4444444444444444,
             "#bd3786"
            ],
            [
             0.5555555555555556,
             "#d8576b"
            ],
            [
             0.6666666666666666,
             "#ed7953"
            ],
            [
             0.7777777777777778,
             "#fb9f3a"
            ],
            [
             0.8888888888888888,
             "#fdca26"
            ],
            [
             1,
             "#f0f921"
            ]
           ]
          },
          "colorway": [
           "#636efa",
           "#EF553B",
           "#00cc96",
           "#ab63fa",
           "#FFA15A",
           "#19d3f3",
           "#FF6692",
           "#B6E880",
           "#FF97FF",
           "#FECB52"
          ],
          "font": {
           "color": "#2a3f5f"
          },
          "geo": {
           "bgcolor": "white",
           "lakecolor": "white",
           "landcolor": "#E5ECF6",
           "showlakes": true,
           "showland": true,
           "subunitcolor": "white"
          },
          "hoverlabel": {
           "align": "left"
          },
          "hovermode": "closest",
          "mapbox": {
           "style": "light"
          },
          "paper_bgcolor": "white",
          "plot_bgcolor": "#E5ECF6",
          "polar": {
           "angularaxis": {
            "gridcolor": "white",
            "linecolor": "white",
            "ticks": ""
           },
           "bgcolor": "#E5ECF6",
           "radialaxis": {
            "gridcolor": "white",
            "linecolor": "white",
            "ticks": ""
           }
          },
          "scene": {
           "xaxis": {
            "backgroundcolor": "#E5ECF6",
            "gridcolor": "white",
            "gridwidth": 2,
            "linecolor": "white",
            "showbackground": true,
            "ticks": "",
            "zerolinecolor": "white"
           },
           "yaxis": {
            "backgroundcolor": "#E5ECF6",
            "gridcolor": "white",
            "gridwidth": 2,
            "linecolor": "white",
            "showbackground": true,
            "ticks": "",
            "zerolinecolor": "white"
           },
           "zaxis": {
            "backgroundcolor": "#E5ECF6",
            "gridcolor": "white",
            "gridwidth": 2,
            "linecolor": "white",
            "showbackground": true,
            "ticks": "",
            "zerolinecolor": "white"
           }
          },
          "shapedefaults": {
           "line": {
            "color": "#2a3f5f"
           }
          },
          "ternary": {
           "aaxis": {
            "gridcolor": "white",
            "linecolor": "white",
            "ticks": ""
           },
           "baxis": {
            "gridcolor": "white",
            "linecolor": "white",
            "ticks": ""
           },
           "bgcolor": "#E5ECF6",
           "caxis": {
            "gridcolor": "white",
            "linecolor": "white",
            "ticks": ""
           }
          },
          "title": {
           "x": 0.05
          },
          "xaxis": {
           "automargin": true,
           "gridcolor": "white",
           "linecolor": "white",
           "ticks": "",
           "title": {
            "standoff": 15
           },
           "zerolinecolor": "white",
           "zerolinewidth": 2
          },
          "yaxis": {
           "automargin": true,
           "gridcolor": "white",
           "linecolor": "white",
           "ticks": "",
           "title": {
            "standoff": 15
           },
           "zerolinecolor": "white",
           "zerolinewidth": 2
          }
         }
        },
        "title": {
         "text": "Schedule by Grade",
         "x": 0.5,
         "xanchor": "center"
        },
        "updatemenus": [
         {
          "active": 0,
          "buttons": [
           {
            "args": [
             {
              "visible": [
               true,
               false,
               false,
               false,
               false,
               false,
               false,
               false,
               false
              ]
             },
             {
              "title": "Schedule for Grade P1"
             }
            ],
            "label": "P1",
            "method": "update"
           },
           {
            "args": [
             {
              "visible": [
               false,
               true,
               false,
               false,
               false,
               false,
               false,
               false,
               false
              ]
             },
             {
              "title": "Schedule for Grade P2"
             }
            ],
            "label": "P2",
            "method": "update"
           },
           {
            "args": [
             {
              "visible": [
               false,
               false,
               true,
               false,
               false,
               false,
               false,
               false,
               false
              ]
             },
             {
              "title": "Schedule for Grade P3"
             }
            ],
            "label": "P3",
            "method": "update"
           },
           {
            "args": [
             {
              "visible": [
               false,
               false,
               false,
               true,
               false,
               false,
               false,
               false,
               false
              ]
             },
             {
              "title": "Schedule for Grade P4"
             }
            ],
            "label": "P4",
            "method": "update"
           },
           {
            "args": [
             {
              "visible": [
               false,
               false,
               false,
               false,
               true,
               false,
               false,
               false,
               false
              ]
             },
             {
              "title": "Schedule for Grade P5"
             }
            ],
            "label": "P5",
            "method": "update"
           },
           {
            "args": [
             {
              "visible": [
               false,
               false,
               false,
               false,
               false,
               true,
               false,
               false,
               false
              ]
             },
             {
              "title": "Schedule for Grade P6"
             }
            ],
            "label": "P6",
            "method": "update"
           },
           {
            "args": [
             {
              "visible": [
               false,
               false,
               false,
               false,
               false,
               false,
               true,
               false,
               false
              ]
             },
             {
              "title": "Schedule for Grade M1"
             }
            ],
            "label": "M1",
            "method": "update"
           },
           {
            "args": [
             {
              "visible": [
               false,
               false,
               false,
               false,
               false,
               false,
               false,
               true,
               false
              ]
             },
             {
              "title": "Schedule for Grade M2"
             }
            ],
            "label": "M2",
            "method": "update"
           },
           {
            "args": [
             {
              "visible": [
               false,
               false,
               false,
               false,
               false,
               false,
               false,
               false,
               true
              ]
             },
             {
              "title": "Schedule for Grade M3"
             }
            ],
            "label": "M3",
            "method": "update"
           }
          ],
          "x": 1.1,
          "xanchor": "left",
          "y": 1,
          "yanchor": "top"
         }
        ],
        "width": 1200,
        "xaxis": {
         "gridcolor": "black",
         "showgrid": true,
         "side": "top",
         "tickmode": "array",
         "ticktext": [
          "08:00-09:00",
          "09:00-10:00",
          "10:00-11:00",
          "11:00-12:00",
          "12:00-13:00",
          "13:00-14:00",
          "14:00-15:00",
          "15:00-16:00"
         ],
         "tickvals": [
          "08:00-09:00",
          "09:00-10:00",
          "10:00-11:00",
          "11:00-12:00",
          "12:00-13:00",
          "13:00-14:00",
          "14:00-15:00",
          "15:00-16:00"
         ]
        },
        "yaxis": {
         "autorange": "reversed",
         "gridcolor": "black",
         "showgrid": true,
         "title": {
          "text": "Day"
         }
        }
       }
      }
     },
     "metadata": {},
     "output_type": "display_data"
    }
   ],
   "source": [
    "schedule_df, homeroom_df, extended_schedule, fig_teacher, fig_grade = create_school_schedule(n_teachers=13,\n",
    "    grades=[\"P1\", \"P2\", \"P3\", \"P4\", \"P5\", \"P6\", \"M1\", \"M2\", \"M3\"],\n",
    "    pe_teacher=\"T13\",\n",
    "    pe_grades=[\"P4\", \"P5\", \"P6\", \"M1\", \"M2\", \"M3\"],\n",
    "    pe_day=3,\n",
    "    n_pe_periods=6,\n",
    "    start_hour=8,\n",
    "    n_hours=8,\n",
    "    lunch_hour=5,\n",
    "    days_per_week=5,\n",
    "    enable_pe_constraints=False,\n",
    "    homeroom_mode=1)\n",
    "\n",
    "if schedule_df is not None:\n",
    "    print(f\"Total classes scheduled: {len(schedule_df)}\")\n",
    "    print(\"\\nHomeroom Assignments:\")\n",
    "    \n",
    "    # Display visualizations\n",
    "    fig_teacher.show()\n",
    "    fig_grade.show()"
   ]
  },
  {
   "cell_type": "code",
   "execution_count": 4,
   "metadata": {},
   "outputs": [
    {
     "data": {
      "text/html": [
       "<div>\n",
       "<style scoped>\n",
       "    .dataframe tbody tr th:only-of-type {\n",
       "        vertical-align: middle;\n",
       "    }\n",
       "\n",
       "    .dataframe tbody tr th {\n",
       "        vertical-align: top;\n",
       "    }\n",
       "\n",
       "    .dataframe thead th {\n",
       "        text-align: right;\n",
       "    }\n",
       "</style>\n",
       "<table border=\"1\" class=\"dataframe\">\n",
       "  <thead>\n",
       "    <tr style=\"text-align: right;\">\n",
       "      <th></th>\n",
       "      <th>Teacher</th>\n",
       "      <th>Grade</th>\n",
       "      <th>Day</th>\n",
       "      <th>Hour</th>\n",
       "      <th>DayName</th>\n",
       "      <th>TimeSlot</th>\n",
       "      <th>IsHomeroom</th>\n",
       "    </tr>\n",
       "  </thead>\n",
       "  <tbody>\n",
       "    <tr>\n",
       "      <th>0</th>\n",
       "      <td>T1</td>\n",
       "      <td>P1</td>\n",
       "      <td>1</td>\n",
       "      <td>6</td>\n",
       "      <td>Mon</td>\n",
       "      <td>13:00-14:00</td>\n",
       "      <td>No</td>\n",
       "    </tr>\n",
       "    <tr>\n",
       "      <th>1</th>\n",
       "      <td>T1</td>\n",
       "      <td>P1</td>\n",
       "      <td>3</td>\n",
       "      <td>2</td>\n",
       "      <td>Wed</td>\n",
       "      <td>09:00-10:00</td>\n",
       "      <td>No</td>\n",
       "    </tr>\n",
       "    <tr>\n",
       "      <th>2</th>\n",
       "      <td>T1</td>\n",
       "      <td>P1</td>\n",
       "      <td>3</td>\n",
       "      <td>6</td>\n",
       "      <td>Wed</td>\n",
       "      <td>13:00-14:00</td>\n",
       "      <td>No</td>\n",
       "    </tr>\n",
       "    <tr>\n",
       "      <th>3</th>\n",
       "      <td>T1</td>\n",
       "      <td>P1</td>\n",
       "      <td>5</td>\n",
       "      <td>2</td>\n",
       "      <td>Fri</td>\n",
       "      <td>09:00-10:00</td>\n",
       "      <td>No</td>\n",
       "    </tr>\n",
       "    <tr>\n",
       "      <th>4</th>\n",
       "      <td>T1</td>\n",
       "      <td>P2</td>\n",
       "      <td>2</td>\n",
       "      <td>4</td>\n",
       "      <td>Tue</td>\n",
       "      <td>11:00-12:00</td>\n",
       "      <td>No</td>\n",
       "    </tr>\n",
       "    <tr>\n",
       "      <th>...</th>\n",
       "      <td>...</td>\n",
       "      <td>...</td>\n",
       "      <td>...</td>\n",
       "      <td>...</td>\n",
       "      <td>...</td>\n",
       "      <td>...</td>\n",
       "      <td>...</td>\n",
       "    </tr>\n",
       "    <tr>\n",
       "      <th>320</th>\n",
       "      <td>T11</td>\n",
       "      <td>P5</td>\n",
       "      <td>2</td>\n",
       "      <td>8</td>\n",
       "      <td>Tue</td>\n",
       "      <td>15:00-16:00</td>\n",
       "      <td>Yes</td>\n",
       "    </tr>\n",
       "    <tr>\n",
       "      <th>321</th>\n",
       "      <td>T12</td>\n",
       "      <td>P5</td>\n",
       "      <td>1</td>\n",
       "      <td>8</td>\n",
       "      <td>Mon</td>\n",
       "      <td>15:00-16:00</td>\n",
       "      <td>Yes</td>\n",
       "    </tr>\n",
       "    <tr>\n",
       "      <th>322</th>\n",
       "      <td>T12</td>\n",
       "      <td>P5</td>\n",
       "      <td>3</td>\n",
       "      <td>8</td>\n",
       "      <td>Wed</td>\n",
       "      <td>15:00-16:00</td>\n",
       "      <td>Yes</td>\n",
       "    </tr>\n",
       "    <tr>\n",
       "      <th>323</th>\n",
       "      <td>T12</td>\n",
       "      <td>P5</td>\n",
       "      <td>4</td>\n",
       "      <td>8</td>\n",
       "      <td>Thu</td>\n",
       "      <td>15:00-16:00</td>\n",
       "      <td>Yes</td>\n",
       "    </tr>\n",
       "    <tr>\n",
       "      <th>324</th>\n",
       "      <td>T12</td>\n",
       "      <td>P5</td>\n",
       "      <td>5</td>\n",
       "      <td>8</td>\n",
       "      <td>Fri</td>\n",
       "      <td>15:00-16:00</td>\n",
       "      <td>Yes</td>\n",
       "    </tr>\n",
       "  </tbody>\n",
       "</table>\n",
       "<p>325 rows × 7 columns</p>\n",
       "</div>"
      ],
      "text/plain": [
       "    Teacher Grade  Day  Hour DayName     TimeSlot IsHomeroom\n",
       "0        T1    P1    1     6     Mon  13:00-14:00         No\n",
       "1        T1    P1    3     2     Wed  09:00-10:00         No\n",
       "2        T1    P1    3     6     Wed  13:00-14:00         No\n",
       "3        T1    P1    5     2     Fri  09:00-10:00         No\n",
       "4        T1    P2    2     4     Tue  11:00-12:00         No\n",
       "..      ...   ...  ...   ...     ...          ...        ...\n",
       "320     T11    P5    2     8     Tue  15:00-16:00        Yes\n",
       "321     T12    P5    1     8     Mon  15:00-16:00        Yes\n",
       "322     T12    P5    3     8     Wed  15:00-16:00        Yes\n",
       "323     T12    P5    4     8     Thu  15:00-16:00        Yes\n",
       "324     T12    P5    5     8     Fri  15:00-16:00        Yes\n",
       "\n",
       "[325 rows x 7 columns]"
      ]
     },
     "execution_count": 4,
     "metadata": {},
     "output_type": "execute_result"
    }
   ],
   "source": [
    "extended_schedule"
   ]
  },
  {
   "cell_type": "code",
   "execution_count": 9,
   "metadata": {},
   "outputs": [
    {
     "data": {
      "text/plain": [
       "[{'subject': 'P1',\n",
       "  'grade': 'P1',\n",
       "  'teacher': 'T1',\n",
       "  'day': 'Mon',\n",
       "  'period': 6,\n",
       "  'time': '13:00',\n",
       "  'timeslot': '13:00-14:00',\n",
       "  'duration': 1},\n",
       " {'subject': 'P1',\n",
       "  'grade': 'P1',\n",
       "  'teacher': 'T1',\n",
       "  'day': 'Wed',\n",
       "  'period': 2,\n",
       "  'time': '09:00',\n",
       "  'timeslot': '09:00-10:00',\n",
       "  'duration': 1},\n",
       " {'subject': 'P1',\n",
       "  'grade': 'P1',\n",
       "  'teacher': 'T1',\n",
       "  'day': 'Wed',\n",
       "  'period': 6,\n",
       "  'time': '13:00',\n",
       "  'timeslot': '13:00-14:00',\n",
       "  'duration': 1},\n",
       " {'subject': 'P1',\n",
       "  'grade': 'P1',\n",
       "  'teacher': 'T1',\n",
       "  'day': 'Fri',\n",
       "  'period': 2,\n",
       "  'time': '09:00',\n",
       "  'timeslot': '09:00-10:00',\n",
       "  'duration': 1},\n",
       " {'subject': 'P2',\n",
       "  'grade': 'P2',\n",
       "  'teacher': 'T1',\n",
       "  'day': 'Tue',\n",
       "  'period': 4,\n",
       "  'time': '11:00',\n",
       "  'timeslot': '11:00-12:00',\n",
       "  'duration': 1},\n",
       " {'subject': 'P2',\n",
       "  'grade': 'P2',\n",
       "  'teacher': 'T1',\n",
       "  'day': 'Tue',\n",
       "  'period': 7,\n",
       "  'time': '14:00',\n",
       "  'timeslot': '14:00-15:00',\n",
       "  'duration': 1},\n",
       " {'subject': 'P3',\n",
       "  'grade': 'P3',\n",
       "  'teacher': 'T1',\n",
       "  'day': 'Mon',\n",
       "  'period': 2,\n",
       "  'time': '09:00',\n",
       "  'timeslot': '09:00-10:00',\n",
       "  'duration': 1},\n",
       " {'subject': 'P3',\n",
       "  'grade': 'P3',\n",
       "  'teacher': 'T1',\n",
       "  'day': 'Thu',\n",
       "  'period': 2,\n",
       "  'time': '09:00',\n",
       "  'timeslot': '09:00-10:00',\n",
       "  'duration': 1},\n",
       " {'subject': 'P5',\n",
       "  'grade': 'P5',\n",
       "  'teacher': 'T1',\n",
       "  'day': 'Mon',\n",
       "  'period': 4,\n",
       "  'time': '11:00',\n",
       "  'timeslot': '11:00-12:00',\n",
       "  'duration': 1},\n",
       " {'subject': 'P5',\n",
       "  'grade': 'P5',\n",
       "  'teacher': 'T1',\n",
       "  'day': 'Fri',\n",
       "  'period': 1,\n",
       "  'time': '08:00',\n",
       "  'timeslot': '08:00-09:00',\n",
       "  'duration': 1},\n",
       " {'subject': 'P5',\n",
       "  'grade': 'P5',\n",
       "  'teacher': 'T1',\n",
       "  'day': 'Fri',\n",
       "  'period': 4,\n",
       "  'time': '11:00',\n",
       "  'timeslot': '11:00-12:00',\n",
       "  'duration': 1},\n",
       " {'subject': 'P6',\n",
       "  'grade': 'P6',\n",
       "  'teacher': 'T1',\n",
       "  'day': 'Thu',\n",
       "  'period': 4,\n",
       "  'time': '11:00',\n",
       "  'timeslot': '11:00-12:00',\n",
       "  'duration': 1},\n",
       " {'subject': 'P6',\n",
       "  'grade': 'P6',\n",
       "  'teacher': 'T1',\n",
       "  'day': 'Fri',\n",
       "  'period': 6,\n",
       "  'time': '13:00',\n",
       "  'timeslot': '13:00-14:00',\n",
       "  'duration': 1},\n",
       " {'subject': 'M1',\n",
       "  'grade': 'M1',\n",
       "  'teacher': 'T1',\n",
       "  'day': 'Mon',\n",
       "  'period': 7,\n",
       "  'time': '14:00',\n",
       "  'timeslot': '14:00-15:00',\n",
       "  'duration': 1},\n",
       " {'subject': 'M1',\n",
       "  'grade': 'M1',\n",
       "  'teacher': 'T1',\n",
       "  'day': 'Tue',\n",
       "  'period': 6,\n",
       "  'time': '13:00',\n",
       "  'timeslot': '13:00-14:00',\n",
       "  'duration': 1},\n",
       " {'subject': 'M2',\n",
       "  'grade': 'M2',\n",
       "  'teacher': 'T1',\n",
       "  'day': 'Mon',\n",
       "  'period': 8,\n",
       "  'time': '15:00',\n",
       "  'timeslot': '15:00-16:00',\n",
       "  'duration': 1},\n",
       " {'subject': 'M2',\n",
       "  'grade': 'M2',\n",
       "  'teacher': 'T1',\n",
       "  'day': 'Tue',\n",
       "  'period': 1,\n",
       "  'time': '08:00',\n",
       "  'timeslot': '08:00-09:00',\n",
       "  'duration': 1},\n",
       " {'subject': 'M2',\n",
       "  'grade': 'M2',\n",
       "  'teacher': 'T1',\n",
       "  'day': 'Wed',\n",
       "  'period': 7,\n",
       "  'time': '14:00',\n",
       "  'timeslot': '14:00-15:00',\n",
       "  'duration': 1},\n",
       " {'subject': 'M3',\n",
       "  'grade': 'M3',\n",
       "  'teacher': 'T1',\n",
       "  'day': 'Tue',\n",
       "  'period': 2,\n",
       "  'time': '09:00',\n",
       "  'timeslot': '09:00-10:00',\n",
       "  'duration': 1},\n",
       " {'subject': 'M3',\n",
       "  'grade': 'M3',\n",
       "  'teacher': 'T1',\n",
       "  'day': 'Wed',\n",
       "  'period': 3,\n",
       "  'time': '10:00',\n",
       "  'timeslot': '10:00-11:00',\n",
       "  'duration': 1},\n",
       " {'subject': 'P1',\n",
       "  'grade': 'P1',\n",
       "  'teacher': 'T2',\n",
       "  'day': 'Mon',\n",
       "  'period': 4,\n",
       "  'time': '11:00',\n",
       "  'timeslot': '11:00-12:00',\n",
       "  'duration': 1},\n",
       " {'subject': 'P2',\n",
       "  'grade': 'P2',\n",
       "  'teacher': 'T2',\n",
       "  'day': 'Wed',\n",
       "  'period': 4,\n",
       "  'time': '11:00',\n",
       "  'timeslot': '11:00-12:00',\n",
       "  'duration': 1},\n",
       " {'subject': 'P2',\n",
       "  'grade': 'P2',\n",
       "  'teacher': 'T2',\n",
       "  'day': 'Fri',\n",
       "  'period': 7,\n",
       "  'time': '14:00',\n",
       "  'timeslot': '14:00-15:00',\n",
       "  'duration': 1},\n",
       " {'subject': 'P3',\n",
       "  'grade': 'P3',\n",
       "  'teacher': 'T2',\n",
       "  'day': 'Mon',\n",
       "  'period': 8,\n",
       "  'time': '15:00',\n",
       "  'timeslot': '15:00-16:00',\n",
       "  'duration': 1},\n",
       " {'subject': 'P3',\n",
       "  'grade': 'P3',\n",
       "  'teacher': 'T2',\n",
       "  'day': 'Tue',\n",
       "  'period': 2,\n",
       "  'time': '09:00',\n",
       "  'timeslot': '09:00-10:00',\n",
       "  'duration': 1},\n",
       " {'subject': 'P3',\n",
       "  'grade': 'P3',\n",
       "  'teacher': 'T2',\n",
       "  'day': 'Tue',\n",
       "  'period': 8,\n",
       "  'time': '15:00',\n",
       "  'timeslot': '15:00-16:00',\n",
       "  'duration': 1},\n",
       " {'subject': 'P3',\n",
       "  'grade': 'P3',\n",
       "  'teacher': 'T2',\n",
       "  'day': 'Wed',\n",
       "  'period': 8,\n",
       "  'time': '15:00',\n",
       "  'timeslot': '15:00-16:00',\n",
       "  'duration': 1},\n",
       " {'subject': 'P3',\n",
       "  'grade': 'P3',\n",
       "  'teacher': 'T2',\n",
       "  'day': 'Thu',\n",
       "  'period': 3,\n",
       "  'time': '10:00',\n",
       "  'timeslot': '10:00-11:00',\n",
       "  'duration': 1},\n",
       " {'subject': 'P3',\n",
       "  'grade': 'P3',\n",
       "  'teacher': 'T2',\n",
       "  'day': 'Thu',\n",
       "  'period': 8,\n",
       "  'time': '15:00',\n",
       "  'timeslot': '15:00-16:00',\n",
       "  'duration': 1},\n",
       " {'subject': 'P3',\n",
       "  'grade': 'P3',\n",
       "  'teacher': 'T2',\n",
       "  'day': 'Fri',\n",
       "  'period': 8,\n",
       "  'time': '15:00',\n",
       "  'timeslot': '15:00-16:00',\n",
       "  'duration': 1},\n",
       " {'subject': 'P4',\n",
       "  'grade': 'P4',\n",
       "  'teacher': 'T2',\n",
       "  'day': 'Tue',\n",
       "  'period': 1,\n",
       "  'time': '08:00',\n",
       "  'timeslot': '08:00-09:00',\n",
       "  'duration': 1},\n",
       " {'subject': 'P4',\n",
       "  'grade': 'P4',\n",
       "  'teacher': 'T2',\n",
       "  'day': 'Tue',\n",
       "  'period': 7,\n",
       "  'time': '14:00',\n",
       "  'timeslot': '14:00-15:00',\n",
       "  'duration': 1},\n",
       " {'subject': 'P4',\n",
       "  'grade': 'P4',\n",
       "  'teacher': 'T2',\n",
       "  'day': 'Thu',\n",
       "  'period': 7,\n",
       "  'time': '14:00',\n",
       "  'timeslot': '14:00-15:00',\n",
       "  'duration': 1},\n",
       " {'subject': 'P4',\n",
       "  'grade': 'P4',\n",
       "  'teacher': 'T2',\n",
       "  'day': 'Fri',\n",
       "  'period': 6,\n",
       "  'time': '13:00',\n",
       "  'timeslot': '13:00-14:00',\n",
       "  'duration': 1},\n",
       " {'subject': 'P5',\n",
       "  'grade': 'P5',\n",
       "  'teacher': 'T2',\n",
       "  'day': 'Mon',\n",
       "  'period': 1,\n",
       "  'time': '08:00',\n",
       "  'timeslot': '08:00-09:00',\n",
       "  'duration': 1},\n",
       " {'subject': 'P5',\n",
       "  'grade': 'P5',\n",
       "  'teacher': 'T2',\n",
       "  'day': 'Mon',\n",
       "  'period': 6,\n",
       "  'time': '13:00',\n",
       "  'timeslot': '13:00-14:00',\n",
       "  'duration': 1},\n",
       " {'subject': 'P6',\n",
       "  'grade': 'P6',\n",
       "  'teacher': 'T2',\n",
       "  'day': 'Tue',\n",
       "  'period': 4,\n",
       "  'time': '11:00',\n",
       "  'timeslot': '11:00-12:00',\n",
       "  'duration': 1},\n",
       " {'subject': 'P6',\n",
       "  'grade': 'P6',\n",
       "  'teacher': 'T2',\n",
       "  'day': 'Wed',\n",
       "  'period': 1,\n",
       "  'time': '08:00',\n",
       "  'timeslot': '08:00-09:00',\n",
       "  'duration': 1},\n",
       " {'subject': 'P6',\n",
       "  'grade': 'P6',\n",
       "  'teacher': 'T2',\n",
       "  'day': 'Thu',\n",
       "  'period': 1,\n",
       "  'time': '08:00',\n",
       "  'timeslot': '08:00-09:00',\n",
       "  'duration': 1},\n",
       " {'subject': 'P6',\n",
       "  'grade': 'P6',\n",
       "  'teacher': 'T2',\n",
       "  'day': 'Fri',\n",
       "  'period': 1,\n",
       "  'time': '08:00',\n",
       "  'timeslot': '08:00-09:00',\n",
       "  'duration': 1},\n",
       " {'subject': 'M3',\n",
       "  'grade': 'M3',\n",
       "  'teacher': 'T2',\n",
       "  'day': 'Mon',\n",
       "  'period': 2,\n",
       "  'time': '09:00',\n",
       "  'timeslot': '09:00-10:00',\n",
       "  'duration': 1},\n",
       " {'subject': 'M3',\n",
       "  'grade': 'M3',\n",
       "  'teacher': 'T2',\n",
       "  'day': 'Mon',\n",
       "  'period': 7,\n",
       "  'time': '14:00',\n",
       "  'timeslot': '14:00-15:00',\n",
       "  'duration': 1},\n",
       " {'subject': 'M3',\n",
       "  'grade': 'M3',\n",
       "  'teacher': 'T2',\n",
       "  'day': 'Wed',\n",
       "  'period': 7,\n",
       "  'time': '14:00',\n",
       "  'timeslot': '14:00-15:00',\n",
       "  'duration': 1},\n",
       " {'subject': 'M3',\n",
       "  'grade': 'M3',\n",
       "  'teacher': 'T2',\n",
       "  'day': 'Thu',\n",
       "  'period': 4,\n",
       "  'time': '11:00',\n",
       "  'timeslot': '11:00-12:00',\n",
       "  'duration': 1},\n",
       " {'subject': 'P1',\n",
       "  'grade': 'P1',\n",
       "  'teacher': 'T3',\n",
       "  'day': 'Wed',\n",
       "  'period': 7,\n",
       "  'time': '14:00',\n",
       "  'timeslot': '14:00-15:00',\n",
       "  'duration': 1},\n",
       " {'subject': 'P2',\n",
       "  'grade': 'P2',\n",
       "  'teacher': 'T3',\n",
       "  'day': 'Mon',\n",
       "  'period': 7,\n",
       "  'time': '14:00',\n",
       "  'timeslot': '14:00-15:00',\n",
       "  'duration': 1},\n",
       " {'subject': 'P2',\n",
       "  'grade': 'P2',\n",
       "  'teacher': 'T3',\n",
       "  'day': 'Tue',\n",
       "  'period': 6,\n",
       "  'time': '13:00',\n",
       "  'timeslot': '13:00-14:00',\n",
       "  'duration': 1},\n",
       " {'subject': 'P2',\n",
       "  'grade': 'P2',\n",
       "  'teacher': 'T3',\n",
       "  'day': 'Thu',\n",
       "  'period': 1,\n",
       "  'time': '08:00',\n",
       "  'timeslot': '08:00-09:00',\n",
       "  'duration': 1},\n",
       " {'subject': 'P3',\n",
       "  'grade': 'P3',\n",
       "  'teacher': 'T3',\n",
       "  'day': 'Mon',\n",
       "  'period': 4,\n",
       "  'time': '11:00',\n",
       "  'timeslot': '11:00-12:00',\n",
       "  'duration': 1},\n",
       " {'subject': 'P3',\n",
       "  'grade': 'P3',\n",
       "  'teacher': 'T3',\n",
       "  'day': 'Thu',\n",
       "  'period': 4,\n",
       "  'time': '11:00',\n",
       "  'timeslot': '11:00-12:00',\n",
       "  'duration': 1},\n",
       " {'subject': 'P3',\n",
       "  'grade': 'P3',\n",
       "  'teacher': 'T3',\n",
       "  'day': 'Fri',\n",
       "  'period': 3,\n",
       "  'time': '10:00',\n",
       "  'timeslot': '10:00-11:00',\n",
       "  'duration': 1},\n",
       " {'subject': 'P4',\n",
       "  'grade': 'P4',\n",
       "  'teacher': 'T3',\n",
       "  'day': 'Mon',\n",
       "  'period': 8,\n",
       "  'time': '15:00',\n",
       "  'timeslot': '15:00-16:00',\n",
       "  'duration': 1},\n",
       " {'subject': 'P4',\n",
       "  'grade': 'P4',\n",
       "  'teacher': 'T3',\n",
       "  'day': 'Tue',\n",
       "  'period': 8,\n",
       "  'time': '15:00',\n",
       "  'timeslot': '15:00-16:00',\n",
       "  'duration': 1},\n",
       " {'subject': 'P4',\n",
       "  'grade': 'P4',\n",
       "  'teacher': 'T3',\n",
       "  'day': 'Wed',\n",
       "  'period': 6,\n",
       "  'time': '13:00',\n",
       "  'timeslot': '13:00-14:00',\n",
       "  'duration': 1},\n",
       " {'subject': 'P4',\n",
       "  'grade': 'P4',\n",
       "  'teacher': 'T3',\n",
       "  'day': 'Wed',\n",
       "  'period': 8,\n",
       "  'time': '15:00',\n",
       "  'timeslot': '15:00-16:00',\n",
       "  'duration': 1},\n",
       " {'subject': 'P4',\n",
       "  'grade': 'P4',\n",
       "  'teacher': 'T3',\n",
       "  'day': 'Thu',\n",
       "  'period': 8,\n",
       "  'time': '15:00',\n",
       "  'timeslot': '15:00-16:00',\n",
       "  'duration': 1},\n",
       " {'subject': 'P4',\n",
       "  'grade': 'P4',\n",
       "  'teacher': 'T3',\n",
       "  'day': 'Fri',\n",
       "  'period': 8,\n",
       "  'time': '15:00',\n",
       "  'timeslot': '15:00-16:00',\n",
       "  'duration': 1},\n",
       " {'subject': 'P5',\n",
       "  'grade': 'P5',\n",
       "  'teacher': 'T3',\n",
       "  'day': 'Tue',\n",
       "  'period': 2,\n",
       "  'time': '09:00',\n",
       "  'timeslot': '09:00-10:00',\n",
       "  'duration': 1},\n",
       " {'subject': 'P5',\n",
       "  'grade': 'P5',\n",
       "  'teacher': 'T3',\n",
       "  'day': 'Wed',\n",
       "  'period': 1,\n",
       "  'time': '08:00',\n",
       "  'timeslot': '08:00-09:00',\n",
       "  'duration': 1},\n",
       " {'subject': 'P5',\n",
       "  'grade': 'P5',\n",
       "  'teacher': 'T3',\n",
       "  'day': 'Thu',\n",
       "  'period': 6,\n",
       "  'time': '13:00',\n",
       "  'timeslot': '13:00-14:00',\n",
       "  'duration': 1},\n",
       " {'subject': 'P6',\n",
       "  'grade': 'P6',\n",
       "  'teacher': 'T3',\n",
       "  'day': 'Mon',\n",
       "  'period': 3,\n",
       "  'time': '10:00',\n",
       "  'timeslot': '10:00-11:00',\n",
       "  'duration': 1},\n",
       " {'subject': 'M1',\n",
       "  'grade': 'M1',\n",
       "  'teacher': 'T3',\n",
       "  'day': 'Tue',\n",
       "  'period': 3,\n",
       "  'time': '10:00',\n",
       "  'timeslot': '10:00-11:00',\n",
       "  'duration': 1},\n",
       " {'subject': 'M1',\n",
       "  'grade': 'M1',\n",
       "  'teacher': 'T3',\n",
       "  'day': 'Fri',\n",
       "  'period': 7,\n",
       "  'time': '14:00',\n",
       "  'timeslot': '14:00-15:00',\n",
       "  'duration': 1},\n",
       " {'subject': 'M2',\n",
       "  'grade': 'M2',\n",
       "  'teacher': 'T3',\n",
       "  'day': 'Fri',\n",
       "  'period': 6,\n",
       "  'time': '13:00',\n",
       "  'timeslot': '13:00-14:00',\n",
       "  'duration': 1},\n",
       " {'subject': 'P1',\n",
       "  'grade': 'P1',\n",
       "  'teacher': 'T4',\n",
       "  'day': 'Tue',\n",
       "  'period': 6,\n",
       "  'time': '13:00',\n",
       "  'timeslot': '13:00-14:00',\n",
       "  'duration': 1},\n",
       " {'subject': 'P1',\n",
       "  'grade': 'P1',\n",
       "  'teacher': 'T4',\n",
       "  'day': 'Thu',\n",
       "  'period': 7,\n",
       "  'time': '14:00',\n",
       "  'timeslot': '14:00-15:00',\n",
       "  'duration': 1},\n",
       " {'subject': 'P1',\n",
       "  'grade': 'P1',\n",
       "  'teacher': 'T4',\n",
       "  'day': 'Fri',\n",
       "  'period': 4,\n",
       "  'time': '11:00',\n",
       "  'timeslot': '11:00-12:00',\n",
       "  'duration': 1},\n",
       " {'subject': 'P2',\n",
       "  'grade': 'P2',\n",
       "  'teacher': 'T4',\n",
       "  'day': 'Tue',\n",
       "  'period': 1,\n",
       "  'time': '08:00',\n",
       "  'timeslot': '08:00-09:00',\n",
       "  'duration': 1},\n",
       " {'subject': 'P2',\n",
       "  'grade': 'P2',\n",
       "  'teacher': 'T4',\n",
       "  'day': 'Wed',\n",
       "  'period': 1,\n",
       "  'time': '08:00',\n",
       "  'timeslot': '08:00-09:00',\n",
       "  'duration': 1},\n",
       " {'subject': 'P3',\n",
       "  'grade': 'P3',\n",
       "  'teacher': 'T4',\n",
       "  'day': 'Mon',\n",
       "  'period': 6,\n",
       "  'time': '13:00',\n",
       "  'timeslot': '13:00-14:00',\n",
       "  'duration': 1},\n",
       " {'subject': 'P4',\n",
       "  'grade': 'P4',\n",
       "  'teacher': 'T4',\n",
       "  'day': 'Thu',\n",
       "  'period': 3,\n",
       "  'time': '10:00',\n",
       "  'timeslot': '10:00-11:00',\n",
       "  'duration': 1},\n",
       " {'subject': 'P4',\n",
       "  'grade': 'P4',\n",
       "  'teacher': 'T4',\n",
       "  'day': 'Fri',\n",
       "  'period': 3,\n",
       "  'time': '10:00',\n",
       "  'timeslot': '10:00-11:00',\n",
       "  'duration': 1},\n",
       " {'subject': 'P4',\n",
       "  'grade': 'P4',\n",
       "  'teacher': 'T4',\n",
       "  'day': 'Fri',\n",
       "  'period': 7,\n",
       "  'time': '14:00',\n",
       "  'timeslot': '14:00-15:00',\n",
       "  'duration': 1},\n",
       " {'subject': 'P5',\n",
       "  'grade': 'P5',\n",
       "  'teacher': 'T4',\n",
       "  'day': 'Tue',\n",
       "  'period': 4,\n",
       "  'time': '11:00',\n",
       "  'timeslot': '11:00-12:00',\n",
       "  'duration': 1},\n",
       " {'subject': 'P5',\n",
       "  'grade': 'P5',\n",
       "  'teacher': 'T4',\n",
       "  'day': 'Wed',\n",
       "  'period': 7,\n",
       "  'time': '14:00',\n",
       "  'timeslot': '14:00-15:00',\n",
       "  'duration': 1},\n",
       " {'subject': 'P6',\n",
       "  'grade': 'P6',\n",
       "  'teacher': 'T4',\n",
       "  'day': 'Mon',\n",
       "  'period': 1,\n",
       "  'time': '08:00',\n",
       "  'timeslot': '08:00-09:00',\n",
       "  'duration': 1},\n",
       " {'subject': 'P6',\n",
       "  'grade': 'P6',\n",
       "  'teacher': 'T4',\n",
       "  'day': 'Thu',\n",
       "  'period': 6,\n",
       "  'time': '13:00',\n",
       "  'timeslot': '13:00-14:00',\n",
       "  'duration': 1},\n",
       " {'subject': 'M1',\n",
       "  'grade': 'M1',\n",
       "  'teacher': 'T4',\n",
       "  'day': 'Wed',\n",
       "  'period': 4,\n",
       "  'time': '11:00',\n",
       "  'timeslot': '11:00-12:00',\n",
       "  'duration': 1},\n",
       " {'subject': 'M2',\n",
       "  'grade': 'M2',\n",
       "  'teacher': 'T4',\n",
       "  'day': 'Mon',\n",
       "  'period': 7,\n",
       "  'time': '14:00',\n",
       "  'timeslot': '14:00-15:00',\n",
       "  'duration': 1},\n",
       " {'subject': 'M2',\n",
       "  'grade': 'M2',\n",
       "  'teacher': 'T4',\n",
       "  'day': 'Tue',\n",
       "  'period': 3,\n",
       "  'time': '10:00',\n",
       "  'timeslot': '10:00-11:00',\n",
       "  'duration': 1},\n",
       " {'subject': 'M2',\n",
       "  'grade': 'M2',\n",
       "  'teacher': 'T4',\n",
       "  'day': 'Tue',\n",
       "  'period': 8,\n",
       "  'time': '15:00',\n",
       "  'timeslot': '15:00-16:00',\n",
       "  'duration': 1},\n",
       " {'subject': 'M2',\n",
       "  'grade': 'M2',\n",
       "  'teacher': 'T4',\n",
       "  'day': 'Wed',\n",
       "  'period': 3,\n",
       "  'time': '10:00',\n",
       "  'timeslot': '10:00-11:00',\n",
       "  'duration': 1},\n",
       " {'subject': 'M2',\n",
       "  'grade': 'M2',\n",
       "  'teacher': 'T4',\n",
       "  'day': 'Wed',\n",
       "  'period': 8,\n",
       "  'time': '15:00',\n",
       "  'timeslot': '15:00-16:00',\n",
       "  'duration': 1},\n",
       " {'subject': 'M2',\n",
       "  'grade': 'M2',\n",
       "  'teacher': 'T4',\n",
       "  'day': 'Thu',\n",
       "  'period': 2,\n",
       "  'time': '09:00',\n",
       "  'timeslot': '09:00-10:00',\n",
       "  'duration': 1},\n",
       " {'subject': 'M2',\n",
       "  'grade': 'M2',\n",
       "  'teacher': 'T4',\n",
       "  'day': 'Thu',\n",
       "  'period': 4,\n",
       "  'time': '11:00',\n",
       "  'timeslot': '11:00-12:00',\n",
       "  'duration': 1},\n",
       " {'subject': 'M2',\n",
       "  'grade': 'M2',\n",
       "  'teacher': 'T4',\n",
       "  'day': 'Thu',\n",
       "  'period': 8,\n",
       "  'time': '15:00',\n",
       "  'timeslot': '15:00-16:00',\n",
       "  'duration': 1},\n",
       " {'subject': 'M2',\n",
       "  'grade': 'M2',\n",
       "  'teacher': 'T4',\n",
       "  'day': 'Fri',\n",
       "  'period': 8,\n",
       "  'time': '15:00',\n",
       "  'timeslot': '15:00-16:00',\n",
       "  'duration': 1},\n",
       " {'subject': 'M3',\n",
       "  'grade': 'M3',\n",
       "  'teacher': 'T4',\n",
       "  'day': 'Mon',\n",
       "  'period': 4,\n",
       "  'time': '11:00',\n",
       "  'timeslot': '11:00-12:00',\n",
       "  'duration': 1},\n",
       " {'subject': 'M3',\n",
       "  'grade': 'M3',\n",
       "  'teacher': 'T4',\n",
       "  'day': 'Tue',\n",
       "  'period': 7,\n",
       "  'time': '14:00',\n",
       "  'timeslot': '14:00-15:00',\n",
       "  'duration': 1},\n",
       " {'subject': 'M3',\n",
       "  'grade': 'M3',\n",
       "  'teacher': 'T4',\n",
       "  'day': 'Thu',\n",
       "  'period': 1,\n",
       "  'time': '08:00',\n",
       "  'timeslot': '08:00-09:00',\n",
       "  'duration': 1},\n",
       " {'subject': 'M3',\n",
       "  'grade': 'M3',\n",
       "  'teacher': 'T4',\n",
       "  'day': 'Fri',\n",
       "  'period': 1,\n",
       "  'time': '08:00',\n",
       "  'timeslot': '08:00-09:00',\n",
       "  'duration': 1},\n",
       " {'subject': 'P1',\n",
       "  'grade': 'P1',\n",
       "  'teacher': 'T5',\n",
       "  'day': 'Tue',\n",
       "  'period': 2,\n",
       "  'time': '09:00',\n",
       "  'timeslot': '09:00-10:00',\n",
       "  'duration': 1},\n",
       " {'subject': 'P1',\n",
       "  'grade': 'P1',\n",
       "  'teacher': 'T5',\n",
       "  'day': 'Wed',\n",
       "  'period': 1,\n",
       "  'time': '08:00',\n",
       "  'timeslot': '08:00-09:00',\n",
       "  'duration': 1},\n",
       " {'subject': 'P2',\n",
       "  'grade': 'P2',\n",
       "  'teacher': 'T5',\n",
       "  'day': 'Mon',\n",
       "  'period': 3,\n",
       "  'time': '10:00',\n",
       "  'timeslot': '10:00-11:00',\n",
       "  'duration': 1},\n",
       " {'subject': 'P2',\n",
       "  'grade': 'P2',\n",
       "  'teacher': 'T5',\n",
       "  'day': 'Wed',\n",
       "  'period': 6,\n",
       "  'time': '13:00',\n",
       "  'timeslot': '13:00-14:00',\n",
       "  'duration': 1},\n",
       " {'subject': 'P2',\n",
       "  'grade': 'P2',\n",
       "  'teacher': 'T5',\n",
       "  'day': 'Thu',\n",
       "  'period': 7,\n",
       "  'time': '14:00',\n",
       "  'timeslot': '14:00-15:00',\n",
       "  'duration': 1},\n",
       " {'subject': 'P3',\n",
       "  'grade': 'P3',\n",
       "  'teacher': 'T5',\n",
       "  'day': 'Thu',\n",
       "  'period': 1,\n",
       "  'time': '08:00',\n",
       "  'timeslot': '08:00-09:00',\n",
       "  'duration': 1},\n",
       " {'subject': 'P4',\n",
       "  'grade': 'P4',\n",
       "  'teacher': 'T5',\n",
       "  'day': 'Mon',\n",
       "  'period': 2,\n",
       "  'time': '09:00',\n",
       "  'timeslot': '09:00-10:00',\n",
       "  'duration': 1},\n",
       " {'subject': 'P4',\n",
       "  'grade': 'P4',\n",
       "  'teacher': 'T5',\n",
       "  'day': 'Mon',\n",
       "  'period': 4,\n",
       "  'time': '11:00',\n",
       "  'timeslot': '11:00-12:00',\n",
       "  'duration': 1},\n",
       " {'subject': 'P4',\n",
       "  'grade': 'P4',\n",
       "  'teacher': 'T5',\n",
       "  'day': 'Mon',\n",
       "  'period': 6,\n",
       "  'time': '13:00',\n",
       "  'timeslot': '13:00-14:00',\n",
       "  'duration': 1},\n",
       " {'subject': 'P4',\n",
       "  'grade': 'P4',\n",
       "  'teacher': 'T5',\n",
       "  'day': 'Tue',\n",
       "  'period': 4,\n",
       "  'time': '11:00',\n",
       "  'timeslot': '11:00-12:00',\n",
       "  'duration': 1},\n",
       " {'subject': 'P4',\n",
       "  'grade': 'P4',\n",
       "  'teacher': 'T5',\n",
       "  'day': 'Tue',\n",
       "  'period': 6,\n",
       "  'time': '13:00',\n",
       "  'timeslot': '13:00-14:00',\n",
       "  'duration': 1},\n",
       " {'subject': 'P4',\n",
       "  'grade': 'P4',\n",
       "  'teacher': 'T5',\n",
       "  'day': 'Fri',\n",
       "  'period': 4,\n",
       "  'time': '11:00',\n",
       "  'timeslot': '11:00-12:00',\n",
       "  'duration': 1},\n",
       " {'subject': 'P5',\n",
       "  'grade': 'P5',\n",
       "  'teacher': 'T5',\n",
       "  'day': 'Tue',\n",
       "  'period': 3,\n",
       "  'time': '10:00',\n",
       "  'timeslot': '10:00-11:00',\n",
       "  'duration': 1},\n",
       " {'subject': 'P6',\n",
       "  'grade': 'P6',\n",
       "  'teacher': 'T5',\n",
       "  'day': 'Mon',\n",
       "  'period': 8,\n",
       "  'time': '15:00',\n",
       "  'timeslot': '15:00-16:00',\n",
       "  'duration': 1},\n",
       " {'subject': 'P6',\n",
       "  'grade': 'P6',\n",
       "  'teacher': 'T5',\n",
       "  'day': 'Tue',\n",
       "  'period': 1,\n",
       "  'time': '08:00',\n",
       "  'timeslot': '08:00-09:00',\n",
       "  'duration': 1},\n",
       " {'subject': 'P6',\n",
       "  'grade': 'P6',\n",
       "  'teacher': 'T5',\n",
       "  'day': 'Tue',\n",
       "  'period': 8,\n",
       "  'time': '15:00',\n",
       "  'timeslot': '15:00-16:00',\n",
       "  'duration': 1},\n",
       " {'subject': 'P6',\n",
       "  'grade': 'P6',\n",
       "  'teacher': 'T5',\n",
       "  'day': 'Wed',\n",
       "  'period': 8,\n",
       "  'time': '15:00',\n",
       "  'timeslot': '15:00-16:00',\n",
       "  'duration': 1},\n",
       " {'subject': 'P6',\n",
       "  'grade': 'P6',\n",
       "  'teacher': 'T5',\n",
       "  'day': 'Thu',\n",
       "  'period': 8,\n",
       "  'time': '15:00',\n",
       "  'timeslot': '15:00-16:00',\n",
       "  'duration': 1},\n",
       " {'subject': 'P6',\n",
       "  'grade': 'P6',\n",
       "  'teacher': 'T5',\n",
       "  'day': 'Fri',\n",
       "  'period': 8,\n",
       "  'time': '15:00',\n",
       "  'timeslot': '15:00-16:00',\n",
       "  'duration': 1},\n",
       " {'subject': 'M1',\n",
       "  'grade': 'M1',\n",
       "  'teacher': 'T5',\n",
       "  'day': 'Wed',\n",
       "  'period': 3,\n",
       "  'time': '10:00',\n",
       "  'timeslot': '10:00-11:00',\n",
       "  'duration': 1},\n",
       " {'subject': 'M1',\n",
       "  'grade': 'M1',\n",
       "  'teacher': 'T5',\n",
       "  'day': 'Thu',\n",
       "  'period': 6,\n",
       "  'time': '13:00',\n",
       "  'timeslot': '13:00-14:00',\n",
       "  'duration': 1},\n",
       " {'subject': 'M1',\n",
       "  'grade': 'M1',\n",
       "  'teacher': 'T5',\n",
       "  'day': 'Fri',\n",
       "  'period': 3,\n",
       "  'time': '10:00',\n",
       "  'timeslot': '10:00-11:00',\n",
       "  'duration': 1},\n",
       " {'subject': 'M2',\n",
       "  'grade': 'M2',\n",
       "  'teacher': 'T5',\n",
       "  'day': 'Tue',\n",
       "  'period': 7,\n",
       "  'time': '14:00',\n",
       "  'timeslot': '14:00-15:00',\n",
       "  'duration': 1},\n",
       " {'subject': 'M2',\n",
       "  'grade': 'M2',\n",
       "  'teacher': 'T5',\n",
       "  'day': 'Wed',\n",
       "  'period': 4,\n",
       "  'time': '11:00',\n",
       "  'timeslot': '11:00-12:00',\n",
       "  'duration': 1},\n",
       " {'subject': 'M3',\n",
       "  'grade': 'M3',\n",
       "  'teacher': 'T5',\n",
       "  'day': 'Fri',\n",
       "  'period': 6,\n",
       "  'time': '13:00',\n",
       "  'timeslot': '13:00-14:00',\n",
       "  'duration': 1},\n",
       " {'subject': 'P1',\n",
       "  'grade': 'P1',\n",
       "  'teacher': 'T6',\n",
       "  'day': 'Mon',\n",
       "  'period': 8,\n",
       "  'time': '15:00',\n",
       "  'timeslot': '15:00-16:00',\n",
       "  'duration': 1},\n",
       " {'subject': 'P1',\n",
       "  'grade': 'P1',\n",
       "  'teacher': 'T6',\n",
       "  'day': 'Tue',\n",
       "  'period': 8,\n",
       "  'time': '15:00',\n",
       "  'timeslot': '15:00-16:00',\n",
       "  'duration': 1},\n",
       " {'subject': 'P1',\n",
       "  'grade': 'P1',\n",
       "  'teacher': 'T6',\n",
       "  'day': 'Wed',\n",
       "  'period': 8,\n",
       "  'time': '15:00',\n",
       "  'timeslot': '15:00-16:00',\n",
       "  'duration': 1},\n",
       " {'subject': 'P1',\n",
       "  'grade': 'P1',\n",
       "  'teacher': 'T6',\n",
       "  'day': 'Thu',\n",
       "  'period': 8,\n",
       "  'time': '15:00',\n",
       "  'timeslot': '15:00-16:00',\n",
       "  'duration': 1},\n",
       " {'subject': 'P1',\n",
       "  'grade': 'P1',\n",
       "  'teacher': 'T6',\n",
       "  'day': 'Fri',\n",
       "  'period': 1,\n",
       "  'time': '08:00',\n",
       "  'timeslot': '08:00-09:00',\n",
       "  'duration': 1},\n",
       " {'subject': 'P1',\n",
       "  'grade': 'P1',\n",
       "  'teacher': 'T6',\n",
       "  'day': 'Fri',\n",
       "  'period': 6,\n",
       "  'time': '13:00',\n",
       "  'timeslot': '13:00-14:00',\n",
       "  'duration': 1},\n",
       " {'subject': 'P1',\n",
       "  'grade': 'P1',\n",
       "  'teacher': 'T6',\n",
       "  'day': 'Fri',\n",
       "  'period': 8,\n",
       "  'time': '15:00',\n",
       "  'timeslot': '15:00-16:00',\n",
       "  'duration': 1},\n",
       " {'subject': 'P2',\n",
       "  'grade': 'P2',\n",
       "  'teacher': 'T6',\n",
       "  'day': 'Fri',\n",
       "  'period': 3,\n",
       "  'time': '10:00',\n",
       "  'timeslot': '10:00-11:00',\n",
       "  'duration': 1},\n",
       " {'subject': 'P3',\n",
       "  'grade': 'P3',\n",
       "  'teacher': 'T6',\n",
       "  'day': 'Wed',\n",
       "  'period': 3,\n",
       "  'time': '10:00',\n",
       "  'timeslot': '10:00-11:00',\n",
       "  'duration': 1},\n",
       " {'subject': 'P3',\n",
       "  'grade': 'P3',\n",
       "  'teacher': 'T6',\n",
       "  'day': 'Thu',\n",
       "  'period': 6,\n",
       "  'time': '13:00',\n",
       "  'timeslot': '13:00-14:00',\n",
       "  'duration': 1},\n",
       " {'subject': 'P4',\n",
       "  'grade': 'P4',\n",
       "  'teacher': 'T6',\n",
       "  'day': 'Mon',\n",
       "  'period': 1,\n",
       "  'time': '08:00',\n",
       "  'timeslot': '08:00-09:00',\n",
       "  'duration': 1},\n",
       " {'subject': 'P5',\n",
       "  'grade': 'P5',\n",
       "  'teacher': 'T6',\n",
       "  'day': 'Mon',\n",
       "  'period': 3,\n",
       "  'time': '10:00',\n",
       "  'timeslot': '10:00-11:00',\n",
       "  'duration': 1},\n",
       " {'subject': 'P5',\n",
       "  'grade': 'P5',\n",
       "  'teacher': 'T6',\n",
       "  'day': 'Tue',\n",
       "  'period': 6,\n",
       "  'time': '13:00',\n",
       "  'timeslot': '13:00-14:00',\n",
       "  'duration': 1},\n",
       " {'subject': 'P5',\n",
       "  'grade': 'P5',\n",
       "  'teacher': 'T6',\n",
       "  'day': 'Wed',\n",
       "  'period': 6,\n",
       "  'time': '13:00',\n",
       "  'timeslot': '13:00-14:00',\n",
       "  'duration': 1},\n",
       " {'subject': 'P6',\n",
       "  'grade': 'P6',\n",
       "  'teacher': 'T6',\n",
       "  'day': 'Tue',\n",
       "  'period': 2,\n",
       "  'time': '09:00',\n",
       "  'timeslot': '09:00-10:00',\n",
       "  'duration': 1},\n",
       " {'subject': 'P6',\n",
       "  'grade': 'P6',\n",
       "  'teacher': 'T6',\n",
       "  'day': 'Wed',\n",
       "  'period': 2,\n",
       "  'time': '09:00',\n",
       "  'timeslot': '09:00-10:00',\n",
       "  'duration': 1},\n",
       " {'subject': 'P6',\n",
       "  'grade': 'P6',\n",
       "  'teacher': 'T6',\n",
       "  'day': 'Wed',\n",
       "  'period': 4,\n",
       "  'time': '11:00',\n",
       "  'timeslot': '11:00-12:00',\n",
       "  'duration': 1},\n",
       " {'subject': 'P6',\n",
       "  'grade': 'P6',\n",
       "  'teacher': 'T6',\n",
       "  'day': 'Thu',\n",
       "  'period': 3,\n",
       "  'time': '10:00',\n",
       "  'timeslot': '10:00-11:00',\n",
       "  'duration': 1},\n",
       " {'subject': 'P6',\n",
       "  'grade': 'P6',\n",
       "  'teacher': 'T6',\n",
       "  'day': 'Fri',\n",
       "  'period': 2,\n",
       "  'time': '09:00',\n",
       "  'timeslot': '09:00-10:00',\n",
       "  'duration': 1},\n",
       " {'subject': 'M1',\n",
       "  'grade': 'M1',\n",
       "  'teacher': 'T6',\n",
       "  'day': 'Thu',\n",
       "  'period': 2,\n",
       "  'time': '09:00',\n",
       "  'timeslot': '09:00-10:00',\n",
       "  'duration': 1},\n",
       " {'subject': 'M1',\n",
       "  'grade': 'M1',\n",
       "  'teacher': 'T6',\n",
       "  'day': 'Fri',\n",
       "  'period': 4,\n",
       "  'time': '11:00',\n",
       "  'timeslot': '11:00-12:00',\n",
       "  'duration': 1},\n",
       " {'subject': 'M2',\n",
       "  'grade': 'M2',\n",
       "  'teacher': 'T6',\n",
       "  'day': 'Mon',\n",
       "  'period': 2,\n",
       "  'time': '09:00',\n",
       "  'timeslot': '09:00-10:00',\n",
       "  'duration': 1},\n",
       " {'subject': 'M2',\n",
       "  'grade': 'M2',\n",
       "  'teacher': 'T6',\n",
       "  'day': 'Mon',\n",
       "  'period': 6,\n",
       "  'time': '13:00',\n",
       "  'timeslot': '13:00-14:00',\n",
       "  'duration': 1},\n",
       " {'subject': 'M2',\n",
       "  'grade': 'M2',\n",
       "  'teacher': 'T6',\n",
       "  'day': 'Thu',\n",
       "  'period': 1,\n",
       "  'time': '08:00',\n",
       "  'timeslot': '08:00-09:00',\n",
       "  'duration': 1},\n",
       " {'subject': 'M3',\n",
       "  'grade': 'M3',\n",
       "  'teacher': 'T6',\n",
       "  'day': 'Tue',\n",
       "  'period': 3,\n",
       "  'time': '10:00',\n",
       "  'timeslot': '10:00-11:00',\n",
       "  'duration': 1},\n",
       " {'subject': 'M3',\n",
       "  'grade': 'M3',\n",
       "  'teacher': 'T6',\n",
       "  'day': 'Fri',\n",
       "  'period': 7,\n",
       "  'time': '14:00',\n",
       "  'timeslot': '14:00-15:00',\n",
       "  'duration': 1},\n",
       " {'subject': 'P1',\n",
       "  'grade': 'P1',\n",
       "  'teacher': 'T7',\n",
       "  'day': 'Tue',\n",
       "  'period': 1,\n",
       "  'time': '08:00',\n",
       "  'timeslot': '08:00-09:00',\n",
       "  'duration': 1},\n",
       " {'subject': 'P2',\n",
       "  'grade': 'P2',\n",
       "  'teacher': 'T7',\n",
       "  'day': 'Tue',\n",
       "  'period': 2,\n",
       "  'time': '09:00',\n",
       "  'timeslot': '09:00-10:00',\n",
       "  'duration': 1},\n",
       " {'subject': 'P2',\n",
       "  'grade': 'P2',\n",
       "  'teacher': 'T7',\n",
       "  'day': 'Thu',\n",
       "  'period': 4,\n",
       "  'time': '11:00',\n",
       "  'timeslot': '11:00-12:00',\n",
       "  'duration': 1},\n",
       " {'subject': 'P3',\n",
       "  'grade': 'P3',\n",
       "  'teacher': 'T7',\n",
       "  'day': 'Mon',\n",
       "  'period': 3,\n",
       "  'time': '10:00',\n",
       "  'timeslot': '10:00-11:00',\n",
       "  'duration': 1},\n",
       " {'subject': 'P3',\n",
       "  'grade': 'P3',\n",
       "  'teacher': 'T7',\n",
       "  'day': 'Wed',\n",
       "  'period': 4,\n",
       "  'time': '11:00',\n",
       "  'timeslot': '11:00-12:00',\n",
       "  'duration': 1},\n",
       " {'subject': 'P3',\n",
       "  'grade': 'P3',\n",
       "  'teacher': 'T7',\n",
       "  'day': 'Wed',\n",
       "  'period': 6,\n",
       "  'time': '13:00',\n",
       "  'timeslot': '13:00-14:00',\n",
       "  'duration': 1},\n",
       " {'subject': 'P3',\n",
       "  'grade': 'P3',\n",
       "  'teacher': 'T7',\n",
       "  'day': 'Thu',\n",
       "  'period': 7,\n",
       "  'time': '14:00',\n",
       "  'timeslot': '14:00-15:00',\n",
       "  'duration': 1},\n",
       " {'subject': 'P3',\n",
       "  'grade': 'P3',\n",
       "  'teacher': 'T7',\n",
       "  'day': 'Fri',\n",
       "  'period': 4,\n",
       "  'time': '11:00',\n",
       "  'timeslot': '11:00-12:00',\n",
       "  'duration': 1},\n",
       " {'subject': 'P4',\n",
       "  'grade': 'P4',\n",
       "  'teacher': 'T7',\n",
       "  'day': 'Tue',\n",
       "  'period': 3,\n",
       "  'time': '10:00',\n",
       "  'timeslot': '10:00-11:00',\n",
       "  'duration': 1},\n",
       " {'subject': 'P5',\n",
       "  'grade': 'P5',\n",
       "  'teacher': 'T7',\n",
       "  'day': 'Mon',\n",
       "  'period': 7,\n",
       "  'time': '14:00',\n",
       "  'timeslot': '14:00-15:00',\n",
       "  'duration': 1},\n",
       " {'subject': 'P5',\n",
       "  'grade': 'P5',\n",
       "  'teacher': 'T7',\n",
       "  'day': 'Thu',\n",
       "  'period': 2,\n",
       "  'time': '09:00',\n",
       "  'timeslot': '09:00-10:00',\n",
       "  'duration': 1},\n",
       " {'subject': 'P6',\n",
       "  'grade': 'P6',\n",
       "  'teacher': 'T7',\n",
       "  'day': 'Mon',\n",
       "  'period': 2,\n",
       "  'time': '09:00',\n",
       "  'timeslot': '09:00-10:00',\n",
       "  'duration': 1},\n",
       " {'subject': 'P6',\n",
       "  'grade': 'P6',\n",
       "  'teacher': 'T7',\n",
       "  'day': 'Tue',\n",
       "  'period': 7,\n",
       "  'time': '14:00',\n",
       "  'timeslot': '14:00-15:00',\n",
       "  'duration': 1},\n",
       " {'subject': 'P6',\n",
       "  'grade': 'P6',\n",
       "  'teacher': 'T7',\n",
       "  'day': 'Wed',\n",
       "  'period': 3,\n",
       "  'time': '10:00',\n",
       "  'timeslot': '10:00-11:00',\n",
       "  'duration': 1},\n",
       " {'subject': 'P6',\n",
       "  'grade': 'P6',\n",
       "  'teacher': 'T7',\n",
       "  'day': 'Fri',\n",
       "  'period': 7,\n",
       "  'time': '14:00',\n",
       "  'timeslot': '14:00-15:00',\n",
       "  'duration': 1},\n",
       " {'subject': 'M1',\n",
       "  'grade': 'M1',\n",
       "  'teacher': 'T7',\n",
       "  'day': 'Mon',\n",
       "  'period': 1,\n",
       "  'time': '08:00',\n",
       "  'timeslot': '08:00-09:00',\n",
       "  'duration': 1},\n",
       " {'subject': 'M1',\n",
       "  'grade': 'M1',\n",
       "  'teacher': 'T7',\n",
       "  'day': 'Wed',\n",
       "  'period': 2,\n",
       "  'time': '09:00',\n",
       "  'timeslot': '09:00-10:00',\n",
       "  'duration': 1},\n",
       " {'subject': 'M1',\n",
       "  'grade': 'M1',\n",
       "  'teacher': 'T7',\n",
       "  'day': 'Fri',\n",
       "  'period': 2,\n",
       "  'time': '09:00',\n",
       "  'timeslot': '09:00-10:00',\n",
       "  'duration': 1},\n",
       " {'subject': 'M1',\n",
       "  'grade': 'M1',\n",
       "  'teacher': 'T7',\n",
       "  'day': 'Fri',\n",
       "  'period': 6,\n",
       "  'time': '13:00',\n",
       "  'timeslot': '13:00-14:00',\n",
       "  'duration': 1},\n",
       " {'subject': 'M2',\n",
       "  'grade': 'M2',\n",
       "  'teacher': 'T7',\n",
       "  'day': 'Mon',\n",
       "  'period': 4,\n",
       "  'time': '11:00',\n",
       "  'timeslot': '11:00-12:00',\n",
       "  'duration': 1},\n",
       " {'subject': 'M2',\n",
       "  'grade': 'M2',\n",
       "  'teacher': 'T7',\n",
       "  'day': 'Tue',\n",
       "  'period': 4,\n",
       "  'time': '11:00',\n",
       "  'timeslot': '11:00-12:00',\n",
       "  'duration': 1},\n",
       " {'subject': 'M2',\n",
       "  'grade': 'M2',\n",
       "  'teacher': 'T7',\n",
       "  'day': 'Wed',\n",
       "  'period': 1,\n",
       "  'time': '08:00',\n",
       "  'timeslot': '08:00-09:00',\n",
       "  'duration': 1},\n",
       " {'subject': 'M2',\n",
       "  'grade': 'M2',\n",
       "  'teacher': 'T7',\n",
       "  'day': 'Thu',\n",
       "  'period': 3,\n",
       "  'time': '10:00',\n",
       "  'timeslot': '10:00-11:00',\n",
       "  'duration': 1},\n",
       " {'subject': 'M2',\n",
       "  'grade': 'M2',\n",
       "  'teacher': 'T7',\n",
       "  'day': 'Fri',\n",
       "  'period': 1,\n",
       "  'time': '08:00',\n",
       "  'timeslot': '08:00-09:00',\n",
       "  'duration': 1},\n",
       " {'subject': 'P1',\n",
       "  'grade': 'P1',\n",
       "  'teacher': 'T8',\n",
       "  'day': 'Tue',\n",
       "  'period': 7,\n",
       "  'time': '14:00',\n",
       "  'timeslot': '14:00-15:00',\n",
       "  'duration': 1},\n",
       " {'subject': 'P1',\n",
       "  'grade': 'P1',\n",
       "  'teacher': 'T8',\n",
       "  'day': 'Thu',\n",
       "  'period': 1,\n",
       "  'time': '08:00',\n",
       "  'timeslot': '08:00-09:00',\n",
       "  'duration': 1},\n",
       " {'subject': 'P2',\n",
       "  'grade': 'P2',\n",
       "  'teacher': 'T8',\n",
       "  'day': 'Mon',\n",
       "  'period': 8,\n",
       "  'time': '15:00',\n",
       "  'timeslot': '15:00-16:00',\n",
       "  'duration': 1},\n",
       " {'subject': 'P2',\n",
       "  'grade': 'P2',\n",
       "  'teacher': 'T8',\n",
       "  'day': 'Tue',\n",
       "  'period': 8,\n",
       "  'time': '15:00',\n",
       "  'timeslot': '15:00-16:00',\n",
       "  'duration': 1},\n",
       " {'subject': 'P2',\n",
       "  'grade': 'P2',\n",
       "  'teacher': 'T8',\n",
       "  'day': 'Wed',\n",
       "  'period': 8,\n",
       "  'time': '15:00',\n",
       "  'timeslot': '15:00-16:00',\n",
       "  'duration': 1},\n",
       " {'subject': 'P2',\n",
       "  'grade': 'P2',\n",
       "  'teacher': 'T8',\n",
       "  'day': 'Thu',\n",
       "  'period': 8,\n",
       "  'time': '15:00',\n",
       "  'timeslot': '15:00-16:00',\n",
       "  'duration': 1},\n",
       " {'subject': 'P2',\n",
       "  'grade': 'P2',\n",
       "  'teacher': 'T8',\n",
       "  'day': 'Fri',\n",
       "  'period': 6,\n",
       "  'time': '13:00',\n",
       "  'timeslot': '13:00-14:00',\n",
       "  'duration': 1},\n",
       " {'subject': 'P2',\n",
       "  'grade': 'P2',\n",
       "  'teacher': 'T8',\n",
       "  'day': 'Fri',\n",
       "  'period': 8,\n",
       "  'time': '15:00',\n",
       "  'timeslot': '15:00-16:00',\n",
       "  'duration': 1},\n",
       " {'subject': 'P3',\n",
       "  'grade': 'P3',\n",
       "  'teacher': 'T8',\n",
       "  'day': 'Tue',\n",
       "  'period': 1,\n",
       "  'time': '08:00',\n",
       "  'timeslot': '08:00-09:00',\n",
       "  'duration': 1},\n",
       " {'subject': 'P3',\n",
       "  'grade': 'P3',\n",
       "  'teacher': 'T8',\n",
       "  'day': 'Wed',\n",
       "  'period': 1,\n",
       "  'time': '08:00',\n",
       "  'timeslot': '08:00-09:00',\n",
       "  'duration': 1},\n",
       " {'subject': 'P3',\n",
       "  'grade': 'P3',\n",
       "  'teacher': 'T8',\n",
       "  'day': 'Fri',\n",
       "  'period': 7,\n",
       "  'time': '14:00',\n",
       "  'timeslot': '14:00-15:00',\n",
       "  'duration': 1},\n",
       " {'subject': 'P4',\n",
       "  'grade': 'P4',\n",
       "  'teacher': 'T8',\n",
       "  'day': 'Mon',\n",
       "  'period': 7,\n",
       "  'time': '14:00',\n",
       "  'timeslot': '14:00-15:00',\n",
       "  'duration': 1},\n",
       " {'subject': 'P4',\n",
       "  'grade': 'P4',\n",
       "  'teacher': 'T8',\n",
       "  'day': 'Wed',\n",
       "  'period': 7,\n",
       "  'time': '14:00',\n",
       "  'timeslot': '14:00-15:00',\n",
       "  'duration': 1},\n",
       " {'subject': 'P4',\n",
       "  'grade': 'P4',\n",
       "  'teacher': 'T8',\n",
       "  'day': 'Fri',\n",
       "  'period': 1,\n",
       "  'time': '08:00',\n",
       "  'timeslot': '08:00-09:00',\n",
       "  'duration': 1},\n",
       " {'subject': 'P5',\n",
       "  'grade': 'P5',\n",
       "  'teacher': 'T8',\n",
       "  'day': 'Wed',\n",
       "  'period': 4,\n",
       "  'time': '11:00',\n",
       "  'timeslot': '11:00-12:00',\n",
       "  'duration': 1},\n",
       " {'subject': 'P6',\n",
       "  'grade': 'P6',\n",
       "  'teacher': 'T8',\n",
       "  'day': 'Mon',\n",
       "  'period': 6,\n",
       "  'time': '13:00',\n",
       "  'timeslot': '13:00-14:00',\n",
       "  'duration': 1},\n",
       " {'subject': 'P6',\n",
       "  'grade': 'P6',\n",
       "  'teacher': 'T8',\n",
       "  'day': 'Tue',\n",
       "  'period': 3,\n",
       "  'time': '10:00',\n",
       "  'timeslot': '10:00-11:00',\n",
       "  'duration': 1},\n",
       " {'subject': 'P6',\n",
       "  'grade': 'P6',\n",
       "  'teacher': 'T8',\n",
       "  'day': 'Wed',\n",
       "  'period': 6,\n",
       "  'time': '13:00',\n",
       "  'timeslot': '13:00-14:00',\n",
       "  'duration': 1},\n",
       " {'subject': 'M2',\n",
       "  'grade': 'M2',\n",
       "  'teacher': 'T8',\n",
       "  'day': 'Mon',\n",
       "  'period': 3,\n",
       "  'time': '10:00',\n",
       "  'timeslot': '10:00-11:00',\n",
       "  'duration': 1},\n",
       " {'subject': 'M2',\n",
       "  'grade': 'M2',\n",
       "  'teacher': 'T8',\n",
       "  'day': 'Wed',\n",
       "  'period': 2,\n",
       "  'time': '09:00',\n",
       "  'timeslot': '09:00-10:00',\n",
       "  'duration': 1},\n",
       " {'subject': 'M2',\n",
       "  'grade': 'M2',\n",
       "  'teacher': 'T8',\n",
       "  'day': 'Thu',\n",
       "  'period': 7,\n",
       "  'time': '14:00',\n",
       "  'timeslot': '14:00-15:00',\n",
       "  'duration': 1},\n",
       " {'subject': 'M2',\n",
       "  'grade': 'M2',\n",
       "  'teacher': 'T8',\n",
       "  'day': 'Fri',\n",
       "  'period': 2,\n",
       "  'time': '09:00',\n",
       "  'timeslot': '09:00-10:00',\n",
       "  'duration': 1},\n",
       " {'subject': 'M2',\n",
       "  'grade': 'M2',\n",
       "  'teacher': 'T8',\n",
       "  'day': 'Fri',\n",
       "  'period': 4,\n",
       "  'time': '11:00',\n",
       "  'timeslot': '11:00-12:00',\n",
       "  'duration': 1},\n",
       " {'subject': 'M3',\n",
       "  'grade': 'M3',\n",
       "  'teacher': 'T8',\n",
       "  'day': 'Thu',\n",
       "  'period': 3,\n",
       "  'time': '10:00',\n",
       "  'timeslot': '10:00-11:00',\n",
       "  'duration': 1},\n",
       " {'subject': 'P1',\n",
       "  'grade': 'P1',\n",
       "  'teacher': 'T9',\n",
       "  'day': 'Tue',\n",
       "  'period': 3,\n",
       "  'time': '10:00',\n",
       "  'timeslot': '10:00-11:00',\n",
       "  'duration': 1},\n",
       " {'subject': 'P2',\n",
       "  'grade': 'P2',\n",
       "  'teacher': 'T9',\n",
       "  'day': 'Mon',\n",
       "  'period': 2,\n",
       "  'time': '09:00',\n",
       "  'timeslot': '09:00-10:00',\n",
       "  'duration': 1},\n",
       " {'subject': 'P2',\n",
       "  'grade': 'P2',\n",
       "  'teacher': 'T9',\n",
       "  'day': 'Wed',\n",
       "  'period': 7,\n",
       "  'time': '14:00',\n",
       "  'timeslot': '14:00-15:00',\n",
       "  'duration': 1},\n",
       " {'subject': 'P3',\n",
       "  'grade': 'P3',\n",
       "  'teacher': 'T9',\n",
       "  'day': 'Tue',\n",
       "  'period': 7,\n",
       "  'time': '14:00',\n",
       "  'timeslot': '14:00-15:00',\n",
       "  'duration': 1},\n",
       " {'subject': 'P3',\n",
       "  'grade': 'P3',\n",
       "  'teacher': 'T9',\n",
       "  'day': 'Fri',\n",
       "  'period': 1,\n",
       "  'time': '08:00',\n",
       "  'timeslot': '08:00-09:00',\n",
       "  'duration': 1},\n",
       " {'subject': 'P4',\n",
       "  'grade': 'P4',\n",
       "  'teacher': 'T9',\n",
       "  'day': 'Thu',\n",
       "  'period': 2,\n",
       "  'time': '09:00',\n",
       "  'timeslot': '09:00-10:00',\n",
       "  'duration': 1},\n",
       " {'subject': 'P4',\n",
       "  'grade': 'P4',\n",
       "  'teacher': 'T9',\n",
       "  'day': 'Fri',\n",
       "  'period': 2,\n",
       "  'time': '09:00',\n",
       "  'timeslot': '09:00-10:00',\n",
       "  'duration': 1},\n",
       " {'subject': 'P5',\n",
       "  'grade': 'P5',\n",
       "  'teacher': 'T9',\n",
       "  'day': 'Wed',\n",
       "  'period': 2,\n",
       "  'time': '09:00',\n",
       "  'timeslot': '09:00-10:00',\n",
       "  'duration': 1},\n",
       " {'subject': 'P5',\n",
       "  'grade': 'P5',\n",
       "  'teacher': 'T9',\n",
       "  'day': 'Thu',\n",
       "  'period': 4,\n",
       "  'time': '11:00',\n",
       "  'timeslot': '11:00-12:00',\n",
       "  'duration': 1},\n",
       " {'subject': 'P5',\n",
       "  'grade': 'P5',\n",
       "  'teacher': 'T9',\n",
       "  'day': 'Fri',\n",
       "  'period': 3,\n",
       "  'time': '10:00',\n",
       "  'timeslot': '10:00-11:00',\n",
       "  'duration': 1},\n",
       " {'subject': 'P6',\n",
       "  'grade': 'P6',\n",
       "  'teacher': 'T9',\n",
       "  'day': 'Mon',\n",
       "  'period': 4,\n",
       "  'time': '11:00',\n",
       "  'timeslot': '11:00-12:00',\n",
       "  'duration': 1},\n",
       " {'subject': 'P6',\n",
       "  'grade': 'P6',\n",
       "  'teacher': 'T9',\n",
       "  'day': 'Tue',\n",
       "  'period': 6,\n",
       "  'time': '13:00',\n",
       "  'timeslot': '13:00-14:00',\n",
       "  'duration': 1},\n",
       " {'subject': 'P6',\n",
       "  'grade': 'P6',\n",
       "  'teacher': 'T9',\n",
       "  'day': 'Thu',\n",
       "  'period': 7,\n",
       "  'time': '14:00',\n",
       "  'timeslot': '14:00-15:00',\n",
       "  'duration': 1},\n",
       " {'subject': 'M1',\n",
       "  'grade': 'M1',\n",
       "  'teacher': 'T9',\n",
       "  'day': 'Tue',\n",
       "  'period': 1,\n",
       "  'time': '08:00',\n",
       "  'timeslot': '08:00-09:00',\n",
       "  'duration': 1},\n",
       " {'subject': 'M1',\n",
       "  'grade': 'M1',\n",
       "  'teacher': 'T9',\n",
       "  'day': 'Thu',\n",
       "  'period': 3,\n",
       "  'time': '10:00',\n",
       "  'timeslot': '10:00-11:00',\n",
       "  'duration': 1},\n",
       " {'subject': 'M2',\n",
       "  'grade': 'M2',\n",
       "  'teacher': 'T9',\n",
       "  'day': 'Fri',\n",
       "  'period': 7,\n",
       "  'time': '14:00',\n",
       "  'timeslot': '14:00-15:00',\n",
       "  'duration': 1},\n",
       " {'subject': 'M3',\n",
       "  'grade': 'M3',\n",
       "  'teacher': 'T9',\n",
       "  'day': 'Mon',\n",
       "  'period': 1,\n",
       "  'time': '08:00',\n",
       "  'timeslot': '08:00-09:00',\n",
       "  'duration': 1},\n",
       " {'subject': 'M3',\n",
       "  'grade': 'M3',\n",
       "  'teacher': 'T9',\n",
       "  'day': 'Mon',\n",
       "  'period': 3,\n",
       "  'time': '10:00',\n",
       "  'timeslot': '10:00-11:00',\n",
       "  'duration': 1},\n",
       " {'subject': 'M3',\n",
       "  'grade': 'M3',\n",
       "  'teacher': 'T9',\n",
       "  'day': 'Mon',\n",
       "  'period': 8,\n",
       "  'time': '15:00',\n",
       "  'timeslot': '15:00-16:00',\n",
       "  'duration': 1},\n",
       " {'subject': 'M3',\n",
       "  'grade': 'M3',\n",
       "  'teacher': 'T9',\n",
       "  'day': 'Tue',\n",
       "  'period': 4,\n",
       "  'time': '11:00',\n",
       "  'timeslot': '11:00-12:00',\n",
       "  'duration': 1},\n",
       " {'subject': 'M3',\n",
       "  'grade': 'M3',\n",
       "  'teacher': 'T9',\n",
       "  'day': 'Tue',\n",
       "  'period': 8,\n",
       "  'time': '15:00',\n",
       "  'timeslot': '15:00-16:00',\n",
       "  'duration': 1},\n",
       " {'subject': 'M3',\n",
       "  'grade': 'M3',\n",
       "  'teacher': 'T9',\n",
       "  'day': 'Wed',\n",
       "  'period': 6,\n",
       "  'time': '13:00',\n",
       "  'timeslot': '13:00-14:00',\n",
       "  'duration': 1},\n",
       " {'subject': 'M3',\n",
       "  'grade': 'M3',\n",
       "  'teacher': 'T9',\n",
       "  'day': 'Wed',\n",
       "  'period': 8,\n",
       "  'time': '15:00',\n",
       "  'timeslot': '15:00-16:00',\n",
       "  'duration': 1},\n",
       " {'subject': 'M3',\n",
       "  'grade': 'M3',\n",
       "  'teacher': 'T9',\n",
       "  'day': 'Thu',\n",
       "  'period': 6,\n",
       "  'time': '13:00',\n",
       "  'timeslot': '13:00-14:00',\n",
       "  'duration': 1},\n",
       " {'subject': 'M3',\n",
       "  'grade': 'M3',\n",
       "  'teacher': 'T9',\n",
       "  'day': 'Thu',\n",
       "  'period': 8,\n",
       "  'time': '15:00',\n",
       "  'timeslot': '15:00-16:00',\n",
       "  'duration': 1},\n",
       " {'subject': 'M3',\n",
       "  'grade': 'M3',\n",
       "  'teacher': 'T9',\n",
       "  'day': 'Fri',\n",
       "  'period': 8,\n",
       "  'time': '15:00',\n",
       "  'timeslot': '15:00-16:00',\n",
       "  'duration': 1},\n",
       " {'subject': 'P1',\n",
       "  'grade': 'P1',\n",
       "  'teacher': 'T10',\n",
       "  'day': 'Wed',\n",
       "  'period': 4,\n",
       "  'time': '11:00',\n",
       "  'timeslot': '11:00-12:00',\n",
       "  'duration': 1},\n",
       " {'subject': 'P1',\n",
       "  'grade': 'P1',\n",
       "  'teacher': 'T10',\n",
       "  'day': 'Thu',\n",
       "  'period': 6,\n",
       "  'time': '13:00',\n",
       "  'timeslot': '13:00-14:00',\n",
       "  'duration': 1},\n",
       " {'subject': 'P2',\n",
       "  'grade': 'P2',\n",
       "  'teacher': 'T10',\n",
       "  'day': 'Mon',\n",
       "  'period': 4,\n",
       "  'time': '11:00',\n",
       "  'timeslot': '11:00-12:00',\n",
       "  'duration': 1},\n",
       " {'subject': 'P2',\n",
       "  'grade': 'P2',\n",
       "  'teacher': 'T10',\n",
       "  'day': 'Mon',\n",
       "  'period': 6,\n",
       "  'time': '13:00',\n",
       "  'timeslot': '13:00-14:00',\n",
       "  'duration': 1},\n",
       " {'subject': 'P2',\n",
       "  'grade': 'P2',\n",
       "  'teacher': 'T10',\n",
       "  'day': 'Thu',\n",
       "  'period': 3,\n",
       "  'time': '10:00',\n",
       "  'timeslot': '10:00-11:00',\n",
       "  'duration': 1},\n",
       " {'subject': 'P2',\n",
       "  'grade': 'P2',\n",
       "  'teacher': 'T10',\n",
       "  'day': 'Fri',\n",
       "  'period': 1,\n",
       "  'time': '08:00',\n",
       "  'timeslot': '08:00-09:00',\n",
       "  'duration': 1},\n",
       " {'subject': 'P2',\n",
       "  'grade': 'P2',\n",
       "  'teacher': 'T10',\n",
       "  'day': 'Fri',\n",
       "  'period': 4,\n",
       "  'time': '11:00',\n",
       "  'timeslot': '11:00-12:00',\n",
       "  'duration': 1},\n",
       " {'subject': 'P3',\n",
       "  'grade': 'P3',\n",
       "  'teacher': 'T10',\n",
       "  'day': 'Mon',\n",
       "  'period': 1,\n",
       "  'time': '08:00',\n",
       "  'timeslot': '08:00-09:00',\n",
       "  'duration': 1},\n",
       " {'subject': 'P3',\n",
       "  'grade': 'P3',\n",
       "  'teacher': 'T10',\n",
       "  'day': 'Mon',\n",
       "  'period': 7,\n",
       "  'time': '14:00',\n",
       "  'timeslot': '14:00-15:00',\n",
       "  'duration': 1},\n",
       " {'subject': 'P3',\n",
       "  'grade': 'P3',\n",
       "  'teacher': 'T10',\n",
       "  'day': 'Tue',\n",
       "  'period': 4,\n",
       "  'time': '11:00',\n",
       "  'timeslot': '11:00-12:00',\n",
       "  'duration': 1},\n",
       " {'subject': 'P3',\n",
       "  'grade': 'P3',\n",
       "  'teacher': 'T10',\n",
       "  'day': 'Wed',\n",
       "  'period': 7,\n",
       "  'time': '14:00',\n",
       "  'timeslot': '14:00-15:00',\n",
       "  'duration': 1},\n",
       " {'subject': 'P3',\n",
       "  'grade': 'P3',\n",
       "  'teacher': 'T10',\n",
       "  'day': 'Fri',\n",
       "  'period': 2,\n",
       "  'time': '09:00',\n",
       "  'timeslot': '09:00-10:00',\n",
       "  'duration': 1},\n",
       " {'subject': 'P4',\n",
       "  'grade': 'P4',\n",
       "  'teacher': 'T10',\n",
       "  'day': 'Wed',\n",
       "  'period': 2,\n",
       "  'time': '09:00',\n",
       "  'timeslot': '09:00-10:00',\n",
       "  'duration': 1},\n",
       " {'subject': 'P5',\n",
       "  'grade': 'P5',\n",
       "  'teacher': 'T10',\n",
       "  'day': 'Tue',\n",
       "  'period': 1,\n",
       "  'time': '08:00',\n",
       "  'timeslot': '08:00-09:00',\n",
       "  'duration': 1},\n",
       " {'subject': 'P5',\n",
       "  'grade': 'P5',\n",
       "  'teacher': 'T10',\n",
       "  'day': 'Wed',\n",
       "  'period': 3,\n",
       "  'time': '10:00',\n",
       "  'timeslot': '10:00-11:00',\n",
       "  'duration': 1},\n",
       " {'subject': 'P5',\n",
       "  'grade': 'P5',\n",
       "  'teacher': 'T10',\n",
       "  'day': 'Thu',\n",
       "  'period': 7,\n",
       "  'time': '14:00',\n",
       "  'timeslot': '14:00-15:00',\n",
       "  'duration': 1},\n",
       " {'subject': 'P6',\n",
       "  'grade': 'P6',\n",
       "  'teacher': 'T10',\n",
       "  'day': 'Thu',\n",
       "  'period': 2,\n",
       "  'time': '09:00',\n",
       "  'timeslot': '09:00-10:00',\n",
       "  'duration': 1},\n",
       " {'subject': 'M1',\n",
       "  'grade': 'M1',\n",
       "  'teacher': 'T10',\n",
       "  'day': 'Mon',\n",
       "  'period': 2,\n",
       "  'time': '09:00',\n",
       "  'timeslot': '09:00-10:00',\n",
       "  'duration': 1},\n",
       " {'subject': 'M1',\n",
       "  'grade': 'M1',\n",
       "  'teacher': 'T10',\n",
       "  'day': 'Mon',\n",
       "  'period': 8,\n",
       "  'time': '15:00',\n",
       "  'timeslot': '15:00-16:00',\n",
       "  'duration': 1},\n",
       " {'subject': 'M1',\n",
       "  'grade': 'M1',\n",
       "  'teacher': 'T10',\n",
       "  'day': 'Tue',\n",
       "  'period': 2,\n",
       "  'time': '09:00',\n",
       "  'timeslot': '09:00-10:00',\n",
       "  'duration': 1},\n",
       " {'subject': 'M1',\n",
       "  'grade': 'M1',\n",
       "  'teacher': 'T10',\n",
       "  'day': 'Tue',\n",
       "  'period': 8,\n",
       "  'time': '15:00',\n",
       "  'timeslot': '15:00-16:00',\n",
       "  'duration': 1},\n",
       " {'subject': 'M1',\n",
       "  'grade': 'M1',\n",
       "  'teacher': 'T10',\n",
       "  'day': 'Wed',\n",
       "  'period': 6,\n",
       "  'time': '13:00',\n",
       "  'timeslot': '13:00-14:00',\n",
       "  'duration': 1},\n",
       " {'subject': 'M1',\n",
       "  'grade': 'M1',\n",
       "  'teacher': 'T10',\n",
       "  'day': 'Wed',\n",
       "  'period': 8,\n",
       "  'time': '15:00',\n",
       "  'timeslot': '15:00-16:00',\n",
       "  'duration': 1},\n",
       " {'subject': 'M1',\n",
       "  'grade': 'M1',\n",
       "  'teacher': 'T10',\n",
       "  'day': 'Thu',\n",
       "  'period': 4,\n",
       "  'time': '11:00',\n",
       "  'timeslot': '11:00-12:00',\n",
       "  'duration': 1},\n",
       " {'subject': 'M1',\n",
       "  'grade': 'M1',\n",
       "  'teacher': 'T10',\n",
       "  'day': 'Thu',\n",
       "  'period': 8,\n",
       "  'time': '15:00',\n",
       "  'timeslot': '15:00-16:00',\n",
       "  'duration': 1},\n",
       " {'subject': 'M1',\n",
       "  'grade': 'M1',\n",
       "  'teacher': 'T10',\n",
       "  'day': 'Fri',\n",
       "  'period': 8,\n",
       "  'time': '15:00',\n",
       "  'timeslot': '15:00-16:00',\n",
       "  'duration': 1},\n",
       " {'subject': 'M3',\n",
       "  'grade': 'M3',\n",
       "  'teacher': 'T10',\n",
       "  'day': 'Tue',\n",
       "  'period': 6,\n",
       "  'time': '13:00',\n",
       "  'timeslot': '13:00-14:00',\n",
       "  'duration': 1},\n",
       " {'subject': 'M3',\n",
       "  'grade': 'M3',\n",
       "  'teacher': 'T10',\n",
       "  'day': 'Wed',\n",
       "  'period': 1,\n",
       "  'time': '08:00',\n",
       "  'timeslot': '08:00-09:00',\n",
       "  'duration': 1},\n",
       " {'subject': 'M3',\n",
       "  'grade': 'M3',\n",
       "  'teacher': 'T10',\n",
       "  'day': 'Fri',\n",
       "  'period': 3,\n",
       "  'time': '10:00',\n",
       "  'timeslot': '10:00-11:00',\n",
       "  'duration': 1},\n",
       " {'subject': 'P1',\n",
       "  'grade': 'P1',\n",
       "  'teacher': 'T11',\n",
       "  'day': 'Mon',\n",
       "  'period': 2,\n",
       "  'time': '09:00',\n",
       "  'timeslot': '09:00-10:00',\n",
       "  'duration': 1},\n",
       " {'subject': 'P1',\n",
       "  'grade': 'P1',\n",
       "  'teacher': 'T11',\n",
       "  'day': 'Mon',\n",
       "  'period': 7,\n",
       "  'time': '14:00',\n",
       "  'timeslot': '14:00-15:00',\n",
       "  'duration': 1},\n",
       " {'subject': 'P1',\n",
       "  'grade': 'P1',\n",
       "  'teacher': 'T11',\n",
       "  'day': 'Thu',\n",
       "  'period': 4,\n",
       "  'time': '11:00',\n",
       "  'timeslot': '11:00-12:00',\n",
       "  'duration': 1},\n",
       " {'subject': 'P2',\n",
       "  'grade': 'P2',\n",
       "  'teacher': 'T11',\n",
       "  'day': 'Wed',\n",
       "  'period': 2,\n",
       "  'time': '09:00',\n",
       "  'timeslot': '09:00-10:00',\n",
       "  'duration': 1},\n",
       " {'subject': 'P2',\n",
       "  'grade': 'P2',\n",
       "  'teacher': 'T11',\n",
       "  'day': 'Thu',\n",
       "  'period': 2,\n",
       "  'time': '09:00',\n",
       "  'timeslot': '09:00-10:00',\n",
       "  'duration': 1},\n",
       " {'subject': 'P3',\n",
       "  'grade': 'P3',\n",
       "  'teacher': 'T11',\n",
       "  'day': 'Tue',\n",
       "  'period': 3,\n",
       "  'time': '10:00',\n",
       "  'timeslot': '10:00-11:00',\n",
       "  'duration': 1},\n",
       " {'subject': 'P4',\n",
       "  'grade': 'P4',\n",
       "  'teacher': 'T11',\n",
       "  'day': 'Tue',\n",
       "  'period': 2,\n",
       "  'time': '09:00',\n",
       "  'timeslot': '09:00-10:00',\n",
       "  'duration': 1},\n",
       " {'subject': 'P4',\n",
       "  'grade': 'P4',\n",
       "  'teacher': 'T11',\n",
       "  'day': 'Wed',\n",
       "  'period': 3,\n",
       "  'time': '10:00',\n",
       "  'timeslot': '10:00-11:00',\n",
       "  'duration': 1},\n",
       " {'subject': 'P5',\n",
       "  'grade': 'P5',\n",
       "  'teacher': 'T11',\n",
       "  'day': 'Mon',\n",
       "  'period': 8,\n",
       "  'time': '15:00',\n",
       "  'timeslot': '15:00-16:00',\n",
       "  'duration': 1},\n",
       " {'subject': 'P5',\n",
       "  'grade': 'P5',\n",
       "  'teacher': 'T11',\n",
       "  'day': 'Tue',\n",
       "  'period': 7,\n",
       "  'time': '14:00',\n",
       "  'timeslot': '14:00-15:00',\n",
       "  'duration': 1},\n",
       " {'subject': 'P5',\n",
       "  'grade': 'P5',\n",
       "  'teacher': 'T11',\n",
       "  'day': 'Wed',\n",
       "  'period': 8,\n",
       "  'time': '15:00',\n",
       "  'timeslot': '15:00-16:00',\n",
       "  'duration': 1},\n",
       " {'subject': 'P5',\n",
       "  'grade': 'P5',\n",
       "  'teacher': 'T11',\n",
       "  'day': 'Thu',\n",
       "  'period': 1,\n",
       "  'time': '08:00',\n",
       "  'timeslot': '08:00-09:00',\n",
       "  'duration': 1},\n",
       " {'subject': 'P5',\n",
       "  'grade': 'P5',\n",
       "  'teacher': 'T11',\n",
       "  'day': 'Thu',\n",
       "  'period': 8,\n",
       "  'time': '15:00',\n",
       "  'timeslot': '15:00-16:00',\n",
       "  'duration': 1},\n",
       " {'subject': 'P5',\n",
       "  'grade': 'P5',\n",
       "  'teacher': 'T11',\n",
       "  'day': 'Fri',\n",
       "  'period': 8,\n",
       "  'time': '15:00',\n",
       "  'timeslot': '15:00-16:00',\n",
       "  'duration': 1},\n",
       " {'subject': 'P6',\n",
       "  'grade': 'P6',\n",
       "  'teacher': 'T11',\n",
       "  'day': 'Fri',\n",
       "  'period': 4,\n",
       "  'time': '11:00',\n",
       "  'timeslot': '11:00-12:00',\n",
       "  'duration': 1},\n",
       " {'subject': 'M1',\n",
       "  'grade': 'M1',\n",
       "  'teacher': 'T11',\n",
       "  'day': 'Mon',\n",
       "  'period': 3,\n",
       "  'time': '10:00',\n",
       "  'timeslot': '10:00-11:00',\n",
       "  'duration': 1},\n",
       " {'subject': 'M1',\n",
       "  'grade': 'M1',\n",
       "  'teacher': 'T11',\n",
       "  'day': 'Tue',\n",
       "  'period': 4,\n",
       "  'time': '11:00',\n",
       "  'timeslot': '11:00-12:00',\n",
       "  'duration': 1},\n",
       " {'subject': 'M1',\n",
       "  'grade': 'M1',\n",
       "  'teacher': 'T11',\n",
       "  'day': 'Wed',\n",
       "  'period': 1,\n",
       "  'time': '08:00',\n",
       "  'timeslot': '08:00-09:00',\n",
       "  'duration': 1},\n",
       " {'subject': 'M1',\n",
       "  'grade': 'M1',\n",
       "  'teacher': 'T11',\n",
       "  'day': 'Thu',\n",
       "  'period': 7,\n",
       "  'time': '14:00',\n",
       "  'timeslot': '14:00-15:00',\n",
       "  'duration': 1},\n",
       " {'subject': 'M1',\n",
       "  'grade': 'M1',\n",
       "  'teacher': 'T11',\n",
       "  'day': 'Fri',\n",
       "  'period': 1,\n",
       "  'time': '08:00',\n",
       "  'timeslot': '08:00-09:00',\n",
       "  'duration': 1},\n",
       " {'subject': 'M2',\n",
       "  'grade': 'M2',\n",
       "  'teacher': 'T11',\n",
       "  'day': 'Mon',\n",
       "  'period': 1,\n",
       "  'time': '08:00',\n",
       "  'timeslot': '08:00-09:00',\n",
       "  'duration': 1},\n",
       " {'subject': 'M2',\n",
       "  'grade': 'M2',\n",
       "  'teacher': 'T11',\n",
       "  'day': 'Tue',\n",
       "  'period': 6,\n",
       "  'time': '13:00',\n",
       "  'timeslot': '13:00-14:00',\n",
       "  'duration': 1},\n",
       " {'subject': 'M2',\n",
       "  'grade': 'M2',\n",
       "  'teacher': 'T11',\n",
       "  'day': 'Wed',\n",
       "  'period': 6,\n",
       "  'time': '13:00',\n",
       "  'timeslot': '13:00-14:00',\n",
       "  'duration': 1},\n",
       " {'subject': 'M2',\n",
       "  'grade': 'M2',\n",
       "  'teacher': 'T11',\n",
       "  'day': 'Thu',\n",
       "  'period': 6,\n",
       "  'time': '13:00',\n",
       "  'timeslot': '13:00-14:00',\n",
       "  'duration': 1},\n",
       " {'subject': 'M2',\n",
       "  'grade': 'M2',\n",
       "  'teacher': 'T11',\n",
       "  'day': 'Fri',\n",
       "  'period': 3,\n",
       "  'time': '10:00',\n",
       "  'timeslot': '10:00-11:00',\n",
       "  'duration': 1},\n",
       " {'subject': 'M3',\n",
       "  'grade': 'M3',\n",
       "  'teacher': 'T11',\n",
       "  'day': 'Wed',\n",
       "  'period': 4,\n",
       "  'time': '11:00',\n",
       "  'timeslot': '11:00-12:00',\n",
       "  'duration': 1},\n",
       " {'subject': 'M3',\n",
       "  'grade': 'M3',\n",
       "  'teacher': 'T11',\n",
       "  'day': 'Fri',\n",
       "  'period': 2,\n",
       "  'time': '09:00',\n",
       "  'timeslot': '09:00-10:00',\n",
       "  'duration': 1},\n",
       " {'subject': 'P1',\n",
       "  'grade': 'P1',\n",
       "  'teacher': 'T12',\n",
       "  'day': 'Mon',\n",
       "  'period': 3,\n",
       "  'time': '10:00',\n",
       "  'timeslot': '10:00-11:00',\n",
       "  'duration': 1},\n",
       " {'subject': 'P1',\n",
       "  'grade': 'P1',\n",
       "  'teacher': 'T12',\n",
       "  'day': 'Wed',\n",
       "  'period': 3,\n",
       "  'time': '10:00',\n",
       "  'timeslot': '10:00-11:00',\n",
       "  'duration': 1},\n",
       " {'subject': 'P1',\n",
       "  'grade': 'P1',\n",
       "  'teacher': 'T12',\n",
       "  'day': 'Thu',\n",
       "  'period': 3,\n",
       "  'time': '10:00',\n",
       "  'timeslot': '10:00-11:00',\n",
       "  'duration': 1},\n",
       " {'subject': 'P1',\n",
       "  'grade': 'P1',\n",
       "  'teacher': 'T12',\n",
       "  'day': 'Fri',\n",
       "  'period': 3,\n",
       "  'time': '10:00',\n",
       "  'timeslot': '10:00-11:00',\n",
       "  'duration': 1},\n",
       " {'subject': 'P2',\n",
       "  'grade': 'P2',\n",
       "  'teacher': 'T12',\n",
       "  'day': 'Mon',\n",
       "  'period': 1,\n",
       "  'time': '08:00',\n",
       "  'timeslot': '08:00-09:00',\n",
       "  'duration': 1},\n",
       " {'subject': 'P2',\n",
       "  'grade': 'P2',\n",
       "  'teacher': 'T12',\n",
       "  'day': 'Tue',\n",
       "  'period': 3,\n",
       "  'time': '10:00',\n",
       "  'timeslot': '10:00-11:00',\n",
       "  'duration': 1},\n",
       " {'subject': 'P2',\n",
       "  'grade': 'P2',\n",
       "  'teacher': 'T12',\n",
       "  'day': 'Fri',\n",
       "  'period': 2,\n",
       "  'time': '09:00',\n",
       "  'timeslot': '09:00-10:00',\n",
       "  'duration': 1},\n",
       " {'subject': 'P3',\n",
       "  'grade': 'P3',\n",
       "  'teacher': 'T12',\n",
       "  'day': 'Tue',\n",
       "  'period': 6,\n",
       "  'time': '13:00',\n",
       "  'timeslot': '13:00-14:00',\n",
       "  'duration': 1},\n",
       " {'subject': 'P3',\n",
       "  'grade': 'P3',\n",
       "  'teacher': 'T12',\n",
       "  'day': 'Wed',\n",
       "  'period': 2,\n",
       "  'time': '09:00',\n",
       "  'timeslot': '09:00-10:00',\n",
       "  'duration': 1},\n",
       " {'subject': 'P3',\n",
       "  'grade': 'P3',\n",
       "  'teacher': 'T12',\n",
       "  'day': 'Fri',\n",
       "  'period': 6,\n",
       "  'time': '13:00',\n",
       "  'timeslot': '13:00-14:00',\n",
       "  'duration': 1},\n",
       " {'subject': 'P4',\n",
       "  'grade': 'P4',\n",
       "  'teacher': 'T12',\n",
       "  'day': 'Thu',\n",
       "  'period': 1,\n",
       "  'time': '08:00',\n",
       "  'timeslot': '08:00-09:00',\n",
       "  'duration': 1},\n",
       " {'subject': 'P4',\n",
       "  'grade': 'P4',\n",
       "  'teacher': 'T12',\n",
       "  'day': 'Thu',\n",
       "  'period': 6,\n",
       "  'time': '13:00',\n",
       "  'timeslot': '13:00-14:00',\n",
       "  'duration': 1},\n",
       " {'subject': 'P5',\n",
       "  'grade': 'P5',\n",
       "  'teacher': 'T12',\n",
       "  'day': 'Mon',\n",
       "  'period': 2,\n",
       "  'time': '09:00',\n",
       "  'timeslot': '09:00-10:00',\n",
       "  'duration': 1},\n",
       " {'subject': 'P5',\n",
       "  'grade': 'P5',\n",
       "  'teacher': 'T12',\n",
       "  'day': 'Tue',\n",
       "  'period': 8,\n",
       "  'time': '15:00',\n",
       "  'timeslot': '15:00-16:00',\n",
       "  'duration': 1},\n",
       " {'subject': 'P5',\n",
       "  'grade': 'P5',\n",
       "  'teacher': 'T12',\n",
       "  'day': 'Fri',\n",
       "  'period': 7,\n",
       "  'time': '14:00',\n",
       "  'timeslot': '14:00-15:00',\n",
       "  'duration': 1},\n",
       " {'subject': 'P6',\n",
       "  'grade': 'P6',\n",
       "  'teacher': 'T12',\n",
       "  'day': 'Mon',\n",
       "  'period': 7,\n",
       "  'time': '14:00',\n",
       "  'timeslot': '14:00-15:00',\n",
       "  'duration': 1},\n",
       " {'subject': 'P6',\n",
       "  'grade': 'P6',\n",
       "  'teacher': 'T12',\n",
       "  'day': 'Wed',\n",
       "  'period': 7,\n",
       "  'time': '14:00',\n",
       "  'timeslot': '14:00-15:00',\n",
       "  'duration': 1},\n",
       " {'subject': 'M1',\n",
       "  'grade': 'M1',\n",
       "  'teacher': 'T12',\n",
       "  'day': 'Mon',\n",
       "  'period': 6,\n",
       "  'time': '13:00',\n",
       "  'timeslot': '13:00-14:00',\n",
       "  'duration': 1},\n",
       " {'subject': 'M1',\n",
       "  'grade': 'M1',\n",
       "  'teacher': 'T12',\n",
       "  'day': 'Tue',\n",
       "  'period': 7,\n",
       "  'time': '14:00',\n",
       "  'timeslot': '14:00-15:00',\n",
       "  'duration': 1},\n",
       " {'subject': 'M3',\n",
       "  'grade': 'M3',\n",
       "  'teacher': 'T12',\n",
       "  'day': 'Thu',\n",
       "  'period': 2,\n",
       "  'time': '09:00',\n",
       "  'timeslot': '09:00-10:00',\n",
       "  'duration': 1},\n",
       " {'subject': 'P1',\n",
       "  'grade': 'P1',\n",
       "  'teacher': 'T13',\n",
       "  'day': 'Mon',\n",
       "  'period': 1,\n",
       "  'time': '08:00',\n",
       "  'timeslot': '08:00-09:00',\n",
       "  'duration': 1},\n",
       " {'subject': 'P1',\n",
       "  'grade': 'P1',\n",
       "  'teacher': 'T13',\n",
       "  'day': 'Tue',\n",
       "  'period': 4,\n",
       "  'time': '11:00',\n",
       "  'timeslot': '11:00-12:00',\n",
       "  'duration': 1},\n",
       " {'subject': 'P1',\n",
       "  'grade': 'P1',\n",
       "  'teacher': 'T13',\n",
       "  'day': 'Thu',\n",
       "  'period': 2,\n",
       "  'time': '09:00',\n",
       "  'timeslot': '09:00-10:00',\n",
       "  'duration': 1},\n",
       " {'subject': 'P1',\n",
       "  'grade': 'P1',\n",
       "  'teacher': 'T13',\n",
       "  'day': 'Fri',\n",
       "  'period': 7,\n",
       "  'time': '14:00',\n",
       "  'timeslot': '14:00-15:00',\n",
       "  'duration': 1},\n",
       " {'subject': 'P2',\n",
       "  'grade': 'P2',\n",
       "  'teacher': 'T13',\n",
       "  'day': 'Wed',\n",
       "  'period': 3,\n",
       "  'time': '10:00',\n",
       "  'timeslot': '10:00-11:00',\n",
       "  'duration': 1},\n",
       " {'subject': 'P2',\n",
       "  'grade': 'P2',\n",
       "  'teacher': 'T13',\n",
       "  'day': 'Thu',\n",
       "  'period': 6,\n",
       "  'time': '13:00',\n",
       "  'timeslot': '13:00-14:00',\n",
       "  'duration': 1},\n",
       " {'subject': 'P4',\n",
       "  'grade': 'P4',\n",
       "  'teacher': 'T13',\n",
       "  'day': 'Mon',\n",
       "  'period': 3,\n",
       "  'time': '10:00',\n",
       "  'timeslot': '10:00-11:00',\n",
       "  'duration': 1},\n",
       " {'subject': 'P4',\n",
       "  'grade': 'P4',\n",
       "  'teacher': 'T13',\n",
       "  'day': 'Wed',\n",
       "  'period': 1,\n",
       "  'time': '08:00',\n",
       "  'timeslot': '08:00-09:00',\n",
       "  'duration': 1},\n",
       " {'subject': 'P4',\n",
       "  'grade': 'P4',\n",
       "  'teacher': 'T13',\n",
       "  'day': 'Wed',\n",
       "  'period': 4,\n",
       "  'time': '11:00',\n",
       "  'timeslot': '11:00-12:00',\n",
       "  'duration': 1},\n",
       " {'subject': 'P4',\n",
       "  'grade': 'P4',\n",
       "  'teacher': 'T13',\n",
       "  'day': 'Thu',\n",
       "  'period': 4,\n",
       "  'time': '11:00',\n",
       "  'timeslot': '11:00-12:00',\n",
       "  'duration': 1},\n",
       " {'subject': 'P5',\n",
       "  'grade': 'P5',\n",
       "  'teacher': 'T13',\n",
       "  'day': 'Thu',\n",
       "  'period': 3,\n",
       "  'time': '10:00',\n",
       "  'timeslot': '10:00-11:00',\n",
       "  'duration': 1},\n",
       " {'subject': 'P5',\n",
       "  'grade': 'P5',\n",
       "  'teacher': 'T13',\n",
       "  'day': 'Fri',\n",
       "  'period': 2,\n",
       "  'time': '09:00',\n",
       "  'timeslot': '09:00-10:00',\n",
       "  'duration': 1},\n",
       " {'subject': 'P5',\n",
       "  'grade': 'P5',\n",
       "  'teacher': 'T13',\n",
       "  'day': 'Fri',\n",
       "  'period': 6,\n",
       "  'time': '13:00',\n",
       "  'timeslot': '13:00-14:00',\n",
       "  'duration': 1},\n",
       " {'subject': 'P6',\n",
       "  'grade': 'P6',\n",
       "  'teacher': 'T13',\n",
       "  'day': 'Fri',\n",
       "  'period': 3,\n",
       "  'time': '10:00',\n",
       "  'timeslot': '10:00-11:00',\n",
       "  'duration': 1},\n",
       " {'subject': 'M1',\n",
       "  'grade': 'M1',\n",
       "  'teacher': 'T13',\n",
       "  'day': 'Mon',\n",
       "  'period': 4,\n",
       "  'time': '11:00',\n",
       "  'timeslot': '11:00-12:00',\n",
       "  'duration': 1},\n",
       " {'subject': 'M1',\n",
       "  'grade': 'M1',\n",
       "  'teacher': 'T13',\n",
       "  'day': 'Wed',\n",
       "  'period': 7,\n",
       "  'time': '14:00',\n",
       "  'timeslot': '14:00-15:00',\n",
       "  'duration': 1},\n",
       " {'subject': 'M1',\n",
       "  'grade': 'M1',\n",
       "  'teacher': 'T13',\n",
       "  'day': 'Thu',\n",
       "  'period': 1,\n",
       "  'time': '08:00',\n",
       "  'timeslot': '08:00-09:00',\n",
       "  'duration': 1},\n",
       " {'subject': 'M2',\n",
       "  'grade': 'M2',\n",
       "  'teacher': 'T13',\n",
       "  'day': 'Tue',\n",
       "  'period': 2,\n",
       "  'time': '09:00',\n",
       "  'timeslot': '09:00-10:00',\n",
       "  'duration': 1},\n",
       " {'subject': 'M3',\n",
       "  'grade': 'M3',\n",
       "  'teacher': 'T13',\n",
       "  'day': 'Mon',\n",
       "  'period': 6,\n",
       "  'time': '13:00',\n",
       "  'timeslot': '13:00-14:00',\n",
       "  'duration': 1},\n",
       " {'subject': 'M3',\n",
       "  'grade': 'M3',\n",
       "  'teacher': 'T13',\n",
       "  'day': 'Tue',\n",
       "  'period': 1,\n",
       "  'time': '08:00',\n",
       "  'timeslot': '08:00-09:00',\n",
       "  'duration': 1},\n",
       " {'subject': 'M3',\n",
       "  'grade': 'M3',\n",
       "  'teacher': 'T13',\n",
       "  'day': 'Wed',\n",
       "  'period': 2,\n",
       "  'time': '09:00',\n",
       "  'timeslot': '09:00-10:00',\n",
       "  'duration': 1},\n",
       " {'subject': 'M3',\n",
       "  'grade': 'M3',\n",
       "  'teacher': 'T13',\n",
       "  'day': 'Thu',\n",
       "  'period': 7,\n",
       "  'time': '14:00',\n",
       "  'timeslot': '14:00-15:00',\n",
       "  'duration': 1},\n",
       " {'subject': 'M3',\n",
       "  'grade': 'M3',\n",
       "  'teacher': 'T13',\n",
       "  'day': 'Fri',\n",
       "  'period': 4,\n",
       "  'time': '11:00',\n",
       "  'timeslot': '11:00-12:00',\n",
       "  'duration': 1},\n",
       " {'subject': 'M2',\n",
       "  'grade': 'M2',\n",
       "  'teacher': 'T1',\n",
       "  'day': 'Tue',\n",
       "  'period': 8,\n",
       "  'time': '15:00',\n",
       "  'timeslot': '15:00-16:00',\n",
       "  'duration': 1},\n",
       " {'subject': 'M2',\n",
       "  'grade': 'M2',\n",
       "  'teacher': 'T1',\n",
       "  'day': 'Wed',\n",
       "  'period': 8,\n",
       "  'time': '15:00',\n",
       "  'timeslot': '15:00-16:00',\n",
       "  'duration': 1},\n",
       " {'subject': 'M2',\n",
       "  'grade': 'M2',\n",
       "  'teacher': 'T1',\n",
       "  'day': 'Thu',\n",
       "  'period': 8,\n",
       "  'time': '15:00',\n",
       "  'timeslot': '15:00-16:00',\n",
       "  'duration': 1},\n",
       " {'subject': 'M2',\n",
       "  'grade': 'M2',\n",
       "  'teacher': 'T1',\n",
       "  'day': 'Fri',\n",
       "  'period': 8,\n",
       "  'time': '15:00',\n",
       "  'timeslot': '15:00-16:00',\n",
       "  'duration': 1},\n",
       " {'subject': 'M2',\n",
       "  'grade': 'M2',\n",
       "  'teacher': 'T4',\n",
       "  'day': 'Mon',\n",
       "  'period': 8,\n",
       "  'time': '15:00',\n",
       "  'timeslot': '15:00-16:00',\n",
       "  'duration': 1},\n",
       " {'subject': 'P5',\n",
       "  'grade': 'P5',\n",
       "  'teacher': 'T11',\n",
       "  'day': 'Tue',\n",
       "  'period': 8,\n",
       "  'time': '15:00',\n",
       "  'timeslot': '15:00-16:00',\n",
       "  'duration': 1},\n",
       " {'subject': 'P5',\n",
       "  'grade': 'P5',\n",
       "  'teacher': 'T12',\n",
       "  'day': 'Mon',\n",
       "  'period': 8,\n",
       "  'time': '15:00',\n",
       "  'timeslot': '15:00-16:00',\n",
       "  'duration': 1},\n",
       " {'subject': 'P5',\n",
       "  'grade': 'P5',\n",
       "  'teacher': 'T12',\n",
       "  'day': 'Wed',\n",
       "  'period': 8,\n",
       "  'time': '15:00',\n",
       "  'timeslot': '15:00-16:00',\n",
       "  'duration': 1},\n",
       " {'subject': 'P5',\n",
       "  'grade': 'P5',\n",
       "  'teacher': 'T12',\n",
       "  'day': 'Thu',\n",
       "  'period': 8,\n",
       "  'time': '15:00',\n",
       "  'timeslot': '15:00-16:00',\n",
       "  'duration': 1},\n",
       " {'subject': 'P5',\n",
       "  'grade': 'P5',\n",
       "  'teacher': 'T12',\n",
       "  'day': 'Fri',\n",
       "  'period': 8,\n",
       "  'time': '15:00',\n",
       "  'timeslot': '15:00-16:00',\n",
       "  'duration': 1}]"
      ]
     },
     "execution_count": 9,
     "metadata": {},
     "output_type": "execute_result"
    }
   ],
   "source": [
    "# dumn to json\n",
    "demo_data = []\n",
    "for _, row in extended_schedule.iterrows():\n",
    "    start_time = row[\"TimeSlot\"].split(\"-\")[0]\n",
    "    demo_data.append({\n",
    "        \"subject\": row[\"Grade\"],\n",
    "        \"grade\": row[\"Grade\"],\n",
    "        \"teacher\": row[\"Teacher\"],\n",
    "        \"day\": row[\"DayName\"],\n",
    "        \"period\": row[\"Hour\"],\n",
    "        \"time\": start_time,\n",
    "        \"timeslot\": row[\"TimeSlot\"],\n",
    "        \"duration\": 1  \n",
    "    })\n",
    "\n",
    "# demo_json = json.dumps(demo_data, indent=2)"
   ]
  },
  {
   "cell_type": "code",
   "execution_count": null,
   "metadata": {},
   "outputs": [],
   "source": [
    "# Save JSON file and work on Postman\n",
    "with open(\"schedule.json\", \"w\", encoding=\"utf-8\") as f:\n",
    "    json.dump(demo_data, f, indent=2, ensure_ascii=False)"
   ]
  }
 ],
 "metadata": {
  "kernelspec": {
   "display_name": "base",
   "language": "python",
   "name": "python3"
  },
  "language_info": {
   "codemirror_mode": {
    "name": "ipython",
    "version": 3
   },
   "file_extension": ".py",
   "mimetype": "text/x-python",
   "name": "python",
   "nbconvert_exporter": "python",
   "pygments_lexer": "ipython3",
   "version": "3.10.14"
  }
 },
 "nbformat": 4,
 "nbformat_minor": 2
}
